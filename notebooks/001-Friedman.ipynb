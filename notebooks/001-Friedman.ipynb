{
 "cells": [
  {
   "cell_type": "code",
   "execution_count": 1,
   "metadata": {
    "collapsed": false
   },
   "outputs": [],
   "source": [
    "%matplotlib inline\n",
    "import matplotlib.pyplot as plt\n",
    "import seaborn as sns\n",
    "\n",
    "from pysgpp import RegressionLearner, RegularGridConfiguration, \\\n",
    "AdpativityConfiguration, SLESolverConfiguration, RegularizationConfiguration, DataMatrix, \\\n",
    "DataVector\n",
    "import numpy as np\n",
    "import sklearn.preprocessing as pre\n",
    "import sklearn.base\n",
    "import sklearn.datasets\n",
    "import sklearn.grid_search\n",
    "from sklearn.cross_validation import ShuffleSplit\n",
    "\n",
    "sns.set_style(\"darkgrid\")\n",
    "sns.set_palette(\"muted\")"
   ]
  },
  {
   "cell_type": "code",
   "execution_count": 2,
   "metadata": {
    "collapsed": true
   },
   "outputs": [],
   "source": [
    "(X,Y) = sklearn.datasets.make_friedman3(n_samples=500,noise=1.0, random_state=42)"
   ]
  },
  {
   "cell_type": "code",
   "execution_count": 3,
   "metadata": {
    "collapsed": false
   },
   "outputs": [],
   "source": [
    "scaler = pre.MinMaxScaler()\n",
    "X = scaler.fit_transform(X)"
   ]
  },
  {
   "cell_type": "code",
   "execution_count": 4,
   "metadata": {
    "collapsed": false
   },
   "outputs": [],
   "source": [
    "def to_data_matrix(arr):\n",
    "    (size_x, size_y) = arr.shape\n",
    "    matrix = DataMatrix(size_x, size_y)\n",
    "    cur_row = 0\n",
    "    for x in arr:\n",
    "        x_vec = DataVector(x.tolist())\n",
    "        matrix.setRow(cur_row,x_vec)\n",
    "        cur_row += 1\n",
    "    return matrix      \n",
    "        \n",
    "# http://scikit-learn.org/stable/developers/contributing.html#rolling-your-own-estimator\n",
    "class SGRegressionLearner(sklearn.base.BaseEstimator, sklearn.base.RegressorMixin):\n",
    "    def __init__(self, lambdaReg=0.01, typeReg=2):\n",
    "        self.lambdaReg = lambdaReg      \n",
    "        self.typeReg = typeReg\n",
    "            \n",
    "    def fit(self, X, y):        \n",
    "        grid_config = RegularGridConfiguration()\n",
    "        grid_config.dim_ = X.shape[1]\n",
    "        grid_config.level_ = 2\n",
    "        grid_config.type_ = 6 #ModLinear\n",
    "        grid_config.t_ = 0.5\n",
    "\n",
    "        adaptivity_config = AdpativityConfiguration()\n",
    "        adaptivity_config.noPoints_ = 0\n",
    "        adaptivity_config.numRefinements_ = 0\n",
    "\n",
    "        solver_config = SLESolverConfiguration()\n",
    "        solver_config.type_ = 0 # CG\n",
    "        solver_config.maxIterations_ = 500\n",
    "        solver_config.eps_ = 1e-6\n",
    "\n",
    "        regularization_config = RegularizationConfiguration()\n",
    "        regularization_config.exponentBase_ = 0.25\n",
    "        regularization_config.regType_ = self.typeReg # diagonal = 2\n",
    "        regularization_config.lambda_ = self.lambdaReg\n",
    "        self._learner = RegressionLearner(grid_config, adaptivity_config, solver_config, regularization_config)\n",
    "                \n",
    "        X_mat = to_data_matrix(X)\n",
    "        y_vec = DataVector(y.tolist())\n",
    "        self._learner.train(X_mat, y_vec)\n",
    "            \n",
    "    def predict(self, X):\n",
    "        X_mat = to_data_matrix(X)\n",
    "        result = self._learner.predict(X_mat)\n",
    "        return result.array()\n",
    "    \n",
    "    def score(self, X, y, sample_weight=None):\n",
    "        X_mat = to_data_matrix(X)\n",
    "        y_vec = DataVector(y.tolist())\n",
    "        mse = self._learner.getMSE(X_mat, y_vec)\n",
    "        return -mse"
   ]
  },
  {
   "cell_type": "code",
   "execution_count": 5,
   "metadata": {
    "collapsed": false
   },
   "outputs": [],
   "source": [
    "learner = SGRegressionLearner()\n",
    "cv = ShuffleSplit(X.shape[0], random_state=42)\n",
    "lambdaGrid = np.logspace(1, -4, num=50)\n",
    "parameters = [{\"lambdaReg\": lambdaGrid, \"typeReg\": [2]}, # diag\n",
    "              {\"lambdaReg\": lambdaGrid, \"typeReg\": [0]}] # ident\n",
    "gridSearch = sklearn.grid_search.GridSearchCV(learner, parameters, cv=cv, verbose=1, n_jobs=4)"
   ]
  },
  {
   "cell_type": "code",
   "execution_count": 6,
   "metadata": {
    "collapsed": false,
    "scrolled": true
   },
   "outputs": [
    {
     "name": "stdout",
     "output_type": "stream",
     "text": [
      "Fitting 10 folds for each of 100 candidates, totalling 1000 fits\n"
     ]
    },
    {
     "name": "stderr",
     "output_type": "stream",
     "text": [
      "[Parallel(n_jobs=4)]: Done   1 jobs       | elapsed:    0.0s\n",
      "[Parallel(n_jobs=4)]: Done  50 jobs       | elapsed:    0.2s\n",
      "[Parallel(n_jobs=4)]: Done 200 jobs       | elapsed:    0.9s\n",
      "[Parallel(n_jobs=4)]: Done 450 jobs       | elapsed:    2.2s\n",
      "[Parallel(n_jobs=4)]: Done 800 jobs       | elapsed:    3.7s\n",
      "[Parallel(n_jobs=4)]: Done 994 out of 1000 | elapsed:    4.7s remaining:    0.0s\n",
      "[Parallel(n_jobs=4)]: Done 1000 out of 1000 | elapsed:    4.7s finished\n"
     ]
    },
    {
     "data": {
      "text/plain": [
       "GridSearchCV(cv=ShuffleSplit(500, n_iter=10, test_size=0.1, random_state=42),\n",
       "       error_score='raise',\n",
       "       estimator=SGRegressionLearner(lambdaReg=0.01, typeReg=2),\n",
       "       fit_params={}, iid=True, loss_func=None, n_jobs=4,\n",
       "       param_grid=[{'typeReg': [2], 'lambdaReg': array([  1.00000e+01,   7.90604e+00,   6.25055e+00,   4.94171e+00,\n",
       "         3.90694e+00,   3.08884e+00,   2.44205e+00,   1.93070e+00,\n",
       "         1.52642e+00,   1.20679e+00,   9.54095e-01,   7.54312e-01,\n",
       "         5.96362e-01,   4.71487e-01,   3.72759e-01,   2.9...   3.23746e-04,   2.55955e-04,   2.02359e-04,   1.59986e-04,\n",
       "         1.26486e-04,   1.00000e-04])}],\n",
       "       pre_dispatch='2*n_jobs', refit=True, score_func=None, scoring=None,\n",
       "       verbose=1)"
      ]
     },
     "execution_count": 6,
     "metadata": {},
     "output_type": "execute_result"
    }
   ],
   "source": [
    "gridSearch.fit(X,Y)"
   ]
  },
  {
   "cell_type": "code",
   "execution_count": 7,
   "metadata": {
    "collapsed": false
   },
   "outputs": [],
   "source": [
    "scores = gridSearch.grid_scores_\n",
    "diag_scores = [s for s in scores if s[0]['typeReg'] == 2]\n",
    "ident_scores = [s for s in scores if s[0]['typeReg'] == 0]\n",
    "diag_params,diag_mean, diag_std = zip(*diag_scores)\n",
    "ident_params, ident_mean, ident_std = zip(*ident_scores)\n",
    "diag_mean = np.sqrt([-x for x in diag_mean])\n",
    "ident_mean = np.sqrt([-x for x in ident_mean])\n",
    "lambdas = [l['lambdaReg'] for l in diag_params]\n",
    "diff_mean = diag_mean - ident_mean"
   ]
  },
  {
   "cell_type": "code",
   "execution_count": 8,
   "metadata": {
    "collapsed": false
   },
   "outputs": [
    {
     "data": {
      "image/png": "[encoded data removed]",
      "text/plain": [
       "<matplotlib.figure.Figure at 0x7f47ec7b3710>"
      ]
     },
     "metadata": {},
     "output_type": "display_data"
    }
   ],
   "source": [
    "plt.figure(figsize=(15,5))\n",
    "\n",
    "plt.subplot(121)\n",
    "plt.ylabel(\"RMSE\")\n",
    "plt.xlabel(\"Lambda\")\n",
    "plt.plot(lambdas, diag_mean)\n",
    "plt.plot(lambdas, ident_mean)\n",
    "plt.legend(['Diagonal', 'Identity'])\n",
    "plt.xscale('log')\n",
    "plt.gca().invert_xaxis()\n",
    "\n",
    "plt.subplot(122)\n",
    "plt.ylabel(\"RMSE difference\")\n",
    "plt.xlabel(\"Lambda\")\n",
    "plt.plot(lambdas, diff_mean)\n",
    "plt.legend(['diag - ident'])\n",
    "plt.xscale('log')\n",
    "plt.gca().invert_xaxis()"
   ]
  }
 ],
 "metadata": {
  "kernelspec": {
   "display_name": "Python 2",
   "language": "python",
   "name": "python2"
  },
  "language_info": {
   "codemirror_mode": {
    "name": "ipython",
    "version": 2
   },
   "file_extension": ".py",
   "mimetype": "text/x-python",
   "name": "python",
   "nbconvert_exporter": "python",
   "pygments_lexer": "ipython2",
   "version": "2.7.10"
  }
 },
 "nbformat": 4,
 "nbformat_minor": 0
}
