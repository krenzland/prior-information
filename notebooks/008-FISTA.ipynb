{
 "cells": [
  {
   "cell_type": "code",
   "execution_count": 1,
   "metadata": {
    "collapsed": false
   },
   "outputs": [],
   "source": [
    "%matplotlib inline\n",
    "import numpy as np\n",
    "from scipy.sparse.linalg import LinearOperator, svds, aslinearoperator\n",
    "from scipy.linalg import svd\n",
    "\n",
    "from pysgpp import DataMatrix, DataVector, createOperationMultipleEval, Grid\n",
    "from __future__ import division, print_function\n",
    "\n",
    "import matplotlib.pyplot as plt\n",
    "import sys, os\n",
    "\n",
    "sys.path.append(os.path.abspath(os.path.join('..', 'datasets/')))\n",
    "import tools"
   ]
  },
  {
   "cell_type": "code",
   "execution_count": 2,
   "metadata": {
    "collapsed": false
   },
   "outputs": [],
   "source": [
    "grid = Grid.createLinearGrid(4)\n",
    "gen = grid.getGenerator()\n",
    "storage = grid.getStorage()\n",
    "gen.regular(4)"
   ]
  },
  {
   "cell_type": "code",
   "execution_count": 3,
   "metadata": {
    "collapsed": false
   },
   "outputs": [],
   "source": [
    "def eval_op(x, op, size):\n",
    "    result_vec = DataVector(size)\n",
    "    x = DataVector(x.flatten())\n",
    "    op.mult(x, result_vec)\n",
    "    return result_vec.array().copy()\n",
    "\n",
    "def eval_op_transpose(x, op, size):\n",
    "    result_vec = DataVector(size)  \n",
    "    x = DataVector(x.flatten())\n",
    "    op.multTranspose(x, result_vec)\n",
    "    return result_vec.array().copy()\n",
    "\n",
    "data = np.random.random((2000,4))\n",
    "data_set = tools.to_data_matrix(data)\n",
    "\n",
    "num_elem = data.shape[0]\n",
    "\n",
    "op = createOperationMultipleEval(grid, data_set)\n",
    "matvec = lambda x: eval_op(x, op, num_elem)\n",
    "rmatvec = lambda x: eval_op_transpose(x, op, grid.getSize())\n",
    "shape = (num_elem, grid.getSize())\n",
    "linop = LinearOperator(shape, matvec, rmatvec, dtype='float64')"
   ]
  },
  {
   "cell_type": "code",
   "execution_count": 32,
   "metadata": {
    "collapsed": true
   },
   "outputs": [
    {
     "data": {
      "text/plain": [
       "(array([  0.21152491,   0.23474406,   0.26061656,   0.26577361,\n",
       "          0.28719434,   0.29731368,   0.30844678,   0.31643837,\n",
       "          0.33327883,   0.36131817,   0.36816141,   0.37522572,\n",
       "          0.39725525,   0.40178412,   0.40963512,   0.42057605,\n",
       "          0.42810735,   0.43280604,   0.44116683,   0.44984664,\n",
       "          0.46325304,   0.47064294,   0.47366106,   0.48886266,\n",
       "          0.49254178,   0.49952621,   0.50879033,   0.51986999,\n",
       "          0.52225994,   0.52446185,   0.52952636,   0.53817911,\n",
       "          0.54683179,   0.55923371,   0.56486411,   0.57512968,\n",
       "          0.58527743,   0.58911458,   0.59105258,   0.59892237,\n",
       "          0.60166723,   0.61432728,   0.63172695,   0.63831986,\n",
       "          0.64174231,   0.64347431,   0.65496003,   0.66185033,\n",
       "          0.67101371,   0.67775474,   0.68397384,   0.69412652,\n",
       "          0.70016556,   0.71071545,   0.71361969,   0.71960197,\n",
       "          0.72252196,   0.73596922,   0.7383611 ,   0.74551273,\n",
       "          0.75491257,   0.76173772,   0.76930524,   0.77507533,\n",
       "          0.77911843,   0.78971847,   0.79612226,   0.80288964,\n",
       "          0.81239272,   0.82166938,   0.83291161,   0.8359347 ,\n",
       "          0.84703894,   0.85050833,   0.86208952,   0.86370352,\n",
       "          0.87987256,   0.88927229,   0.89028594,   0.90052225,\n",
       "          0.91439685,   0.92638862,   0.92758679,   0.93139074,\n",
       "          0.94188578,   0.95305536,   0.95548721,   0.9693769 ,\n",
       "          0.98132262,   0.9931274 ,   1.00069729,   1.00875667,\n",
       "          1.0133221 ,   1.01800539,   1.03057129,   1.04015417,\n",
       "          1.05300693,   1.05886477,   1.07470062,   1.08144476,\n",
       "          1.08352278,   1.09077454,   1.09913393,   1.10765637,\n",
       "          1.11419029,   1.11784456,   1.13412044,   1.13554435,\n",
       "          1.15099677,   1.16536531,   1.16931552,   1.17684448,\n",
       "          1.18659613,   1.19787899,   1.20857028,   1.22074787,\n",
       "          1.22607636,   1.23778408,   1.25152077,   1.25949759,\n",
       "          1.2702115 ,   1.27825528,   1.28932153,   1.29700171,\n",
       "          1.30482998,   1.3094529 ,   1.33044292,   1.34044937,\n",
       "          1.35203783,   1.35394377,   1.3640512 ,   1.39078036,\n",
       "          1.40509747,   1.41883292,   1.4400643 ,   1.44776108,\n",
       "          1.4650434 ,   1.47529365,   1.49358829,   1.49717123,\n",
       "          1.50240945,   1.51965556,   1.54255772,   1.58386138,\n",
       "          1.59814948,   1.6028038 ,   1.61898267,   1.63658186,\n",
       "          1.65949431,   1.66930004,   1.68368542,   1.70417155,\n",
       "          1.71440541,   1.72384686,   1.75282672,   1.77821286,\n",
       "          1.79319693,   1.81618603,   1.83530032,   1.85052573,\n",
       "          1.87607391,   1.89305601,   1.92211937,   1.9243444 ,\n",
       "          1.95112064,   1.97057314,   2.0534365 ,   2.07275967,\n",
       "          2.08999142,   2.19848037,   2.21936486,   2.24003641,\n",
       "          2.27497084,   2.29823467,   2.32395569,   2.35026773,\n",
       "          2.37649041,   2.41571076,   2.43541945,   2.49213783,\n",
       "          2.5100362 ,   2.51533775,   2.55125333,   2.57959282,\n",
       "          2.67324206,   2.75837286,   2.81885548,   2.87057023,\n",
       "          2.91044111,   3.3635495 ,   3.52732374,   3.6084585 ,\n",
       "          3.70240962,   3.77442869,   3.77811402,   3.83471021,\n",
       "          3.93396224,   3.98493695,   4.11386141,   4.38058797,\n",
       "          4.45745903,   4.59937739,   4.75108302,   6.31970177,\n",
       "          6.69776484,   6.98289014,   7.05764112,  11.11913694]), 209)"
      ]
     },
     "execution_count": 32,
     "metadata": {},
     "output_type": "execute_result"
    }
   ],
   "source": [
    "u, s, v = svds(linop, k=grid.getSize() - 1)\n",
    "s, grid.getSize()"
   ]
  },
  {
   "cell_type": "markdown",
   "metadata": {},
   "source": [
    "#FISTA\n",
    "\n",
    "## Proximal operator & splitting\n",
    "\n",
    "(see proximal algorithms boyd)\n",
    "\n",
    "$$\n",
    "f(x) = (1/2)\\Vert Ax - b \\Vert_2^2, \\qquad g(x) = \\lambda \\Vert x \\Vert_1 \\\\\n",
    "\\nabla f(x) = A^\\text{T}(Ax-b) \\\\\n",
    "\\text{prox}_{\\lambda g}(x) = ( x - \\lambda)_+ - (-x - \\lambda)_+\n",
    "\\\\\n",
    "$$\n",
    "\n",
    "Note: get_residual calculates $\\Vert Ax - b \\Vert_2^2$, note the missing $1/2$.\n",
    "All calculations use the adjusted value $1/2 * \\text{ residual}$"
   ]
  },
  {
   "cell_type": "code",
   "execution_count": 63,
   "metadata": {
    "collapsed": false
   },
   "outputs": [],
   "source": [
    "def array_to_linop(A):\n",
    "    matvec_A = lambda x: A*x\n",
    "    rmatvec_A = lambda x: A.transpose()*x\n",
    "    linop = LinearOperator(A.shape, matvec_A, rmatvec_A, dtype='float64')\n",
    "    return linop\n",
    "\n",
    "def proximal_l1(x, alpha):\n",
    "    return np.multiply(np.maximum(np.abs(x) - alpha, np.zeros(x.shape)), np.sign(x))\n",
    "\n",
    "def gradient(A, x, b):\n",
    "    if isinstance(A, np.matrix):\n",
    "        return A.transpose() * (A * x - b)\n",
    "    elif isinstance(A, LinearOperator):\n",
    "        return np.matrix(A.rmatvec(A * x - b)).T # wtf? \n",
    "    \n",
    "def get_stepsize(A):\n",
    "    if isinstance(A, np.matrix):\n",
    "        singular_values = svd(A, compute_uv=False)\n",
    "        max_sval_A = singular_values.max()      \n",
    "    elif isinstance(A, LinearOperator):\n",
    "        _, singular_values, _ = svds(A, k=1)\n",
    "        max_sval_A = singular_values.max()    \n",
    "    max_eigen_AA_t = max_sval_A * max_sval_A\n",
    "    return 1.0/(max_eigen_AA_t)\n",
    "\n",
    "\n",
    "def get_residual(A, x, b):\n",
    "    res = A * x - b\n",
    "    res = np.multiply(res, res)\n",
    "    return res.sum()\n",
    "\n",
    "\n",
    "def ista(A, x_start, num_it, lambda_reg, b):\n",
    "    x_k = x_start\n",
    "    stepsize = get_stepsize(A)\n",
    "    for i in xrange(1,num_it+1):\n",
    "        x_k = proximal_l1(x_k - stepsize * gradient(A, x_k, b), lambda_reg * stepsize)\n",
    "        if i % (num_it/10) == 0:\n",
    "            residual = get_residual(A, x_k, b)\n",
    "            print(\"Iteration {}\\t with residual of {}\".format(i, residual))\n",
    "    return x_k\n",
    "\n",
    "\n",
    "def fista(A, x_start, num_it, lambda_reg, b):\n",
    "    stepsize = get_stepsize(A)\n",
    "    x_k = x_start\n",
    "    y_k = x_k.copy()\n",
    "    t_k = 1.0\n",
    "    for i in xrange(1,num_it+1):\n",
    "        x_before = x_k.copy()\n",
    "        x_k = proximal_l1(y_k - stepsize * gradient(A, y_k, b), lambda_reg * stepsize)\n",
    "        \n",
    "        t_before = t_k\n",
    "        t_k = (1 + np.sqrt(1 + 4 * t_before* t_before))/2\n",
    "        \n",
    "        y_k = x_k + ((t_before - 1)/(t_k)) * (x_k - x_before)\n",
    "        if i % (num_it/10) == 0:\n",
    "            residual = get_residual(A, x_k, b)\n",
    "            print(\"Iteration {}\\t with residual of {}\".format(i, residual))\n",
    "            print(stepsize**(-1))\n",
    "    return x_k\n",
    "\n",
    "\n",
    "def eval_goal(A, x, b, lambda_reg):\n",
    "    res = 0.5*get_residual(A, x, b)\n",
    "    regular = lambda_reg * np.abs(x).sum()\n",
    "    return res + regular\n",
    "\n",
    "\n",
    "def eval_upper_bound(A, x, y, b, lambda_reg, L_k):\n",
    "    # FISTA paper eq. 2.5\n",
    "    f = 0.5 * get_residual(A, y, b)\n",
    "    g = lambda_reg * np.abs(x).sum()\n",
    "    gradient_f = gradient(A, y, b)\n",
    "    x_minus_y = x - y\n",
    "    x_minus_y_norm = L_k/2 * np.multiply(x_minus_y, x_minus_y).sum()\n",
    "    return f + np.dot(np.transpose(gradient_f), x_minus_y) + x_minus_y_norm + g\n",
    " \n",
    "    \n",
    "def ista_line(A, x, lambda_reg, b, L_before):\n",
    "    i_k = 0\n",
    "    eta = 2\n",
    "    while True:\n",
    "        L_k = eta**i_k * L_before\n",
    "        stepsize = 1.0/L_k\n",
    "        prox = proximal_l1(x - stepsize * gradient(A, x, b), lambda_reg * stepsize)\n",
    "        goal = eval_goal(A, prox, b, lambda_reg)\n",
    "        upper_bound = eval_upper_bound(A, prox, x, b, lambda_reg, L_k)\n",
    "        if goal <= upper_bound:\n",
    "            return L_k\n",
    "        i_k += 1\n",
    "\n",
    "        \n",
    "def ista_back(A, x_start, num_it, lambda_reg, b):\n",
    "    x_k = x_start\n",
    "    L_k = 2\n",
    "    for i in xrange(1,num_it+1):\n",
    "        L_k = ista_line(A, x_k, lambda_reg, b, L_k)\n",
    "        stepsize = 1.0/L_k\n",
    "        x_k = proximal_l1(x_k - stepsize * gradient(A, x_k, b), lambda_reg * stepsize)\n",
    "        if i % (num_it/10) == 0:\n",
    "            residual = get_residual(A, x_k, b)\n",
    "            print(\"Iteration {}\\t with residual of {}\".format(i, residual))\n",
    "    return x_k   \n",
    "\n",
    "def fista_back(A, x_start, num_it, lambda_reg, b):\n",
    "    L_k = 1.1\n",
    "    x_k = x_start\n",
    "    y_k = x_k.copy()\n",
    "    t_k = 1.0\n",
    "    for i in xrange(1,num_it+1):\n",
    "        L_k = ista_line(A, x_k, lambda_reg, b, L_k)\n",
    "        stepsize = 1.0/L_k\n",
    "        \n",
    "        x_before = x_k.copy()\n",
    "        x_k = proximal_l1(y_k - stepsize * gradient(A, y_k, b), lambda_reg * stepsize)\n",
    "        \n",
    "        t_before = t_k\n",
    "        t_k = (1 + np.sqrt(1 + 4 * t_before* t_before))/2\n",
    "        \n",
    "        y_k = x_k + ((t_before - 1)/(t_k)) * (x_k - x_before)\n",
    "        if i % (num_it/10) == 0:\n",
    "            residual = get_residual(A, x_k, b)\n",
    "            print(\"Iteration {}\\t with residual of {}\".format(i, residual))            \n",
    "            print(L_k)\n",
    "    return x_k"
   ]
  },
  {
   "cell_type": "code",
   "execution_count": 64,
   "metadata": {
    "collapsed": false
   },
   "outputs": [],
   "source": [
    "A = np.matrix(np.random.rand(1000,800))\n",
    "x = np.matrix(np.zeros((800,1)))\n",
    "b = np.matrix(np.random.rand(1000,1))\n",
    "lambda_reg = 0.0"
   ]
  },
  {
   "cell_type": "code",
   "execution_count": 65,
   "metadata": {
    "collapsed": false
   },
   "outputs": [
    {
     "name": "stdout",
     "output_type": "stream",
     "text": [
      "Iteration 10\t with residual of 82.2388533264\n",
      "Iteration 20\t with residual of 81.7510434294\n",
      "Iteration 30\t with residual of 81.2700986549\n",
      "Iteration 40\t with residual of 80.7958971114\n",
      "Iteration 50\t with residual of 80.3283193449\n",
      "Iteration 60\t with residual of 79.8672482861\n",
      "Iteration 70\t with residual of 79.4125691995\n",
      "Iteration 80\t with residual of 78.9641696327\n",
      "Iteration 90\t with residual of 78.5219393682\n",
      "Iteration 100\t with residual of 78.0857703752\n",
      "CPU times: user 334 ms, sys: 5 µs, total: 334 ms\n",
      "Wall time: 333 ms\n"
     ]
    }
   ],
   "source": [
    "%%time\n",
    "x_ista = ista(A, x, 100, lambda_reg, b)"
   ]
  },
  {
   "cell_type": "code",
   "execution_count": 66,
   "metadata": {
    "collapsed": false
   },
   "outputs": [
    {
     "name": "stdout",
     "output_type": "stream",
     "text": [
      "Iteration 10\t with residual of 82.3556062337\n",
      "Iteration 20\t with residual of 81.981643324\n",
      "Iteration 30\t with residual of 81.6117084105\n",
      "Iteration 40\t with residual of 81.245746757\n",
      "Iteration 50\t with residual of 80.8837044644\n",
      "Iteration 60\t with residual of 80.5255284579\n",
      "Iteration 70\t with residual of 80.1711664728\n",
      "Iteration 80\t with residual of 79.8205670415\n",
      "Iteration 90\t with residual of 79.4736794802\n",
      "Iteration 100\t with residual of 79.1304538764\n",
      "CPU times: user 423 ms, sys: 4 ms, total: 427 ms\n",
      "Wall time: 433 ms\n"
     ]
    }
   ],
   "source": [
    "%%time\n",
    "x_ista = ista_back(A, x, 100, lambda_reg, b)"
   ]
  },
  {
   "cell_type": "code",
   "execution_count": 67,
   "metadata": {
    "collapsed": false,
    "scrolled": true
   },
   "outputs": [
    {
     "name": "stdout",
     "output_type": "stream",
     "text": [
      "Iteration 10\t with residual of 81.7611269934\n",
      "199967.827505\n",
      "Iteration 20\t with residual of 79.6037499988\n",
      "199967.827505\n",
      "Iteration 30\t with residual of 76.4661429146\n",
      "199967.827505\n",
      "Iteration 40\t with residual of 72.6124145215\n",
      "199967.827505\n",
      "Iteration 50\t with residual of 68.3309827873\n",
      "199967.827505\n",
      "Iteration 60\t with residual of 63.9000664156\n",
      "199967.827505\n",
      "Iteration 70\t with residual of 59.557661035\n",
      "199967.827505\n",
      "Iteration 80\t with residual of 55.4817811782\n",
      "199967.827505\n",
      "Iteration 90\t with residual of 51.7830769117\n",
      "199967.827505\n",
      "Iteration 100\t with residual of 48.5089658498\n",
      "199967.827505\n",
      "CPU times: user 334 ms, sys: 15 µs, total: 334 ms\n",
      "Wall time: 336 ms\n"
     ]
    }
   ],
   "source": [
    "%%time\n",
    "x_fista = fista(A,x,100,lambda_reg,b)"
   ]
  },
  {
   "cell_type": "code",
   "execution_count": 68,
   "metadata": {
    "collapsed": false
   },
   "outputs": [
    {
     "name": "stdout",
     "output_type": "stream",
     "text": [
      "Iteration 10\t with residual of 82.0566589724\n",
      "288358.4\n",
      "Iteration 20\t with residual of 80.5363625452\n",
      "288358.4\n",
      "Iteration 30\t with residual of 78.2776442446\n",
      "288358.4\n",
      "Iteration 40\t with residual of 75.4189684223\n",
      "288358.4\n",
      "Iteration 50\t with residual of 72.1198021353\n",
      "288358.4\n",
      "Iteration 60\t with residual of 68.5471846244\n",
      "288358.4\n",
      "Iteration 70\t with residual of 64.861623982\n",
      "288358.4\n",
      "Iteration 80\t with residual of 61.2049493312\n",
      "288358.4\n",
      "Iteration 90\t with residual of 57.6916008744\n",
      "288358.4\n",
      "Iteration 100\t with residual of 54.404062162\n",
      "288358.4\n",
      "CPU times: user 443 ms, sys: 0 ns, total: 443 ms\n",
      "Wall time: 452 ms\n"
     ]
    }
   ],
   "source": [
    "%%time\n",
    "x_fista = fista_back(A,x,100,lambda_reg,b)"
   ]
  },
  {
   "cell_type": "code",
   "execution_count": 8,
   "metadata": {
    "collapsed": false
   },
   "outputs": [
    {
     "data": {
      "text/plain": [
       "18.293191807708642"
      ]
     },
     "execution_count": 8,
     "metadata": {},
     "output_type": "execute_result"
    }
   ],
   "source": [
    "x_np = np.linalg.lstsq(A, b)[0]\n",
    "get_residual(A, x_np, b)"
   ]
  },
  {
   "cell_type": "code",
   "execution_count": 17,
   "metadata": {
    "collapsed": false
   },
   "outputs": [
    {
     "data": {
      "text/plain": [
       "0.0"
      ]
     },
     "execution_count": 17,
     "metadata": {},
     "output_type": "execute_result"
    }
   ],
   "source": [
    "np.abs(x_fista).min()"
   ]
  },
  {
   "cell_type": "code",
   "execution_count": 18,
   "metadata": {
    "collapsed": false
   },
   "outputs": [
    {
     "data": {
      "text/plain": [
       "5.9441475493847776e-05"
      ]
     },
     "execution_count": 18,
     "metadata": {},
     "output_type": "execute_result"
    }
   ],
   "source": [
    "np.abs(x_np).min()"
   ]
  },
  {
   "cell_type": "code",
   "execution_count": null,
   "metadata": {
    "collapsed": false
   },
   "outputs": [],
   "source": [
    "#op = createOperationMultipleEval(grid, data_set)\n",
    "#matvec = lambda x: eval_op(x, op, num_elem)\n",
    "#rmatvec = lambda x: eval_op_transpose(x, op, grid.getSize())\n",
    "#shape = (num_elem, grid.getSize())\n",
    "#linop = LinearOperator(shape, matvec, rmatvec, dtype='float64'"
   ]
  },
  {
   "cell_type": "code",
   "execution_count": 13,
   "metadata": {
    "collapsed": false
   },
   "outputs": [
    {
     "data": {
      "text/plain": [
       "(2000, 209)"
      ]
     },
     "execution_count": 13,
     "metadata": {},
     "output_type": "execute_result"
    }
   ],
   "source": [
    "linop.shape"
   ]
  },
  {
   "cell_type": "code",
   "execution_count": 12,
   "metadata": {
    "collapsed": false
   },
   "outputs": [
    {
     "data": {
      "text/plain": [
       "((1000, 800), (800, 1), (1000, 1))"
      ]
     },
     "execution_count": 12,
     "metadata": {},
     "output_type": "execute_result"
    }
   ],
   "source": [
    "A.shape, x.shape, b.shape"
   ]
  },
  {
   "cell_type": "code",
   "execution_count": 19,
   "metadata": {
    "collapsed": false
   },
   "outputs": [],
   "source": [
    "x_sg = np.zeros((linop.shape[1], 1))\n",
    "b_sg = np.random.random((linop.shape[0],1))"
   ]
  },
  {
   "cell_type": "code",
   "execution_count": 75,
   "metadata": {
    "collapsed": false
   },
   "outputs": [
    {
     "name": "stdout",
     "output_type": "stream",
     "text": [
      "Iteration 100\t with residual of 261.938158507\n",
      "116.288575061\n",
      "Iteration 200\t with residual of 261.087483974\n",
      "116.288575061\n",
      "Iteration 300\t with residual of 260.861119555\n",
      "116.288575061\n",
      "Iteration 400\t with residual of 260.857135605\n",
      "116.288575061\n",
      "Iteration 500\t with residual of 260.856006905\n",
      "116.288575061\n",
      "Iteration 600\t with residual of 260.842792308\n",
      "116.288575061\n",
      "Iteration 700\t with residual of 260.845793613\n",
      "116.288575061\n",
      "Iteration 800\t with residual of 260.844421139\n",
      "116.288575061\n",
      "Iteration 900\t with residual of 260.842159033\n",
      "116.288575061\n",
      "Iteration 1000\t with residual of 260.843409827\n",
      "116.288575061\n"
     ]
    }
   ],
   "source": [
    "fista_sg = fista(linop, x_sg, 1000, lambda_reg, b_sg)"
   ]
  },
  {
   "cell_type": "code",
   "execution_count": 74,
   "metadata": {
    "collapsed": false
   },
   "outputs": [
    {
     "name": "stdout",
     "output_type": "stream",
     "text": [
      "Iteration 10\t with residual of 295.10093057\n",
      "140.8\n",
      "Iteration 20\t with residual of 277.053768879\n",
      "140.8\n",
      "Iteration 30\t with residual of 270.377580762\n",
      "140.8\n",
      "Iteration 40\t with residual of 266.858746771\n",
      "140.8\n",
      "Iteration 50\t with residual of 264.795051234\n",
      "140.8\n",
      "Iteration 60\t with residual of 263.623929625\n",
      "140.8\n",
      "Iteration 70\t with residual of 262.980092566\n",
      "140.8\n",
      "Iteration 80\t with residual of 262.593940632\n",
      "140.8\n",
      "Iteration 90\t with residual of 262.31948736\n",
      "140.8\n",
      "Iteration 100\t with residual of 262.109487896\n",
      "140.8\n"
     ]
    }
   ],
   "source": [
    "fista_sg_back = fista_back(linop, x_sg, 100, lambda_reg, b_sg)"
   ]
  },
  {
   "cell_type": "code",
   "execution_count": null,
   "metadata": {
    "collapsed": false
   },
   "outputs": [],
   "source": []
  },
  {
   "cell_type": "code",
   "execution_count": null,
   "metadata": {
    "collapsed": false
   },
   "outputs": [],
   "source": []
  },
  {
   "cell_type": "code",
   "execution_count": null,
   "metadata": {
    "collapsed": true
   },
   "outputs": [],
   "source": []
  }
 ],
 "metadata": {
  "kernelspec": {
   "display_name": "Python 2",
   "language": "python",
   "name": "python2"
  },
  "language_info": {
   "codemirror_mode": {
    "name": "ipython",
    "version": 2
   },
   "file_extension": ".py",
   "mimetype": "text/x-python",
   "name": "python",
   "nbconvert_exporter": "python",
   "pygments_lexer": "ipython2",
   "version": "2.7.11"
  }
 },
 "nbformat": 4,
 "nbformat_minor": 0
}
