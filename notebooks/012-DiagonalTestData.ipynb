{
 "cells": [
  {
   "cell_type": "code",
   "execution_count": 1,
   "metadata": {
    "collapsed": false
   },
   "outputs": [],
   "source": [
    "%matplotlib inline\n",
    "from pysgpp import RegressionLearner, RegularGridConfiguration, AdpativityConfiguration, SLESolverConfiguration, \\\n",
    "RegularizationConfiguration, DataMatrix, DataVector\n",
    "\n",
    "import sys, os\n",
    "sys.path.append(os.path.abspath(os.path.join('..', 'src/')))\n",
    "from sgpi.util import get_dataset, get_xy, get_r_squared, split, to_data_matrix\n",
    "\n",
    "from sgpi import model\n",
    "from sgpi.learner import SGRegressionLearner\n",
    "import sqlalchemy as sa\n",
    "from sqlalchemy import orm, func\n",
    "\n",
    "import numpy as np; np.random.seed(42)\n",
    "import matplotlib.pyplot as plt\n",
    "import seaborn as sns\n",
    "import pandas as pd"
   ]
  },
  {
   "cell_type": "code",
   "execution_count": 2,
   "metadata": {
    "collapsed": false
   },
   "outputs": [],
   "source": [
    "def generate_data(dim, level, noiseStd, num):\n",
    "    np.random.seed(42)\n",
    "    grid_config = RegularGridConfiguration()\n",
    "    grid_config.dim_ = dim\n",
    "    grid_config.level_ = level\n",
    "    grid_config.type_ = 6\n",
    "    grid_config.t_ = 0.0\n",
    "\n",
    "    adaptivity_config = AdpativityConfiguration()\n",
    "    adaptivity_config.numRefinements = 0\n",
    "\n",
    "    solver_config = SLESolverConfiguration()\n",
    "    solver_config.type_ = 0\n",
    "    solver_config.maxIterations_ = 50\n",
    "    solver_config.threshold_ = 1e-5\n",
    "\n",
    "    regularization_config = RegularizationConfiguration()\n",
    "    regularization_config.type_ = 2\n",
    "    regularization_config.exponentBase_ = 0.25\n",
    "    regularization_config.lambda_ = 0.1\n",
    "\n",
    "    estimator = RegressionLearner(grid_config, adaptivity_config, solver_config, solver_config, regularization_config)\n",
    "    \n",
    "    estimator.initializeWeights()\n",
    "    X = to_data_matrix(np.random.random((num, dim)))\n",
    "    y = np.matrix(estimator.predict(X).array()).T \n",
    "    if noiseStd != 0.0:\n",
    "        y = y + np.matrix(np.random.normal(0,noiseStd, num)).T\n",
    "    X = X.array()\n",
    "    df = pd.DataFrame(np.append(X,y,axis=1)).reset_index(drop=False)\n",
    "    df.columns = ['index'] + ['x' + str(x) for x in range(0,dim)] + ['y']\n",
    "    return df, estimator.getWeights().array()\n",
    "\n",
    "def save_data(dim, level, noiseStd, num, filename):\n",
    "    df, _ = generate_data(dim, level, noiseStd, num)\n",
    "    prefix = '../datasets/processed/diagonal_test/'\n",
    "    df.drop(['index'], axis=1).to_csv(os.path.join(prefix, filename), index=None)"
   ]
  },
  {
   "cell_type": "code",
   "execution_count": 3,
   "metadata": {
    "collapsed": false,
    "scrolled": false
   },
   "outputs": [
    {
     "data": {
      "text/html": [
       "<div>\n",
       "<table border=\"1\" class=\"dataframe\">\n",
       "  <thead>\n",
       "    <tr style=\"text-align: right;\">\n",
       "      <th></th>\n",
       "      <th>index</th>\n",
       "      <th>x0</th>\n",
       "      <th>x1</th>\n",
       "      <th>y</th>\n",
       "    </tr>\n",
       "  </thead>\n",
       "  <tbody>\n",
       "    <tr>\n",
       "      <th>count</th>\n",
       "      <td>2000.000000</td>\n",
       "      <td>2000.000000</td>\n",
       "      <td>2000.000000</td>\n",
       "      <td>2000.000000</td>\n",
       "    </tr>\n",
       "    <tr>\n",
       "      <th>mean</th>\n",
       "      <td>999.500000</td>\n",
       "      <td>0.494333</td>\n",
       "      <td>0.500694</td>\n",
       "      <td>-0.216789</td>\n",
       "    </tr>\n",
       "    <tr>\n",
       "      <th>std</th>\n",
       "      <td>577.494589</td>\n",
       "      <td>0.293217</td>\n",
       "      <td>0.287527</td>\n",
       "      <td>1.050650</td>\n",
       "    </tr>\n",
       "    <tr>\n",
       "      <th>min</th>\n",
       "      <td>0.000000</td>\n",
       "      <td>0.000012</td>\n",
       "      <td>0.001474</td>\n",
       "      <td>-3.707812</td>\n",
       "    </tr>\n",
       "    <tr>\n",
       "      <th>25%</th>\n",
       "      <td>499.750000</td>\n",
       "      <td>0.232164</td>\n",
       "      <td>0.254778</td>\n",
       "      <td>-0.785116</td>\n",
       "    </tr>\n",
       "    <tr>\n",
       "      <th>50%</th>\n",
       "      <td>999.500000</td>\n",
       "      <td>0.498312</td>\n",
       "      <td>0.502042</td>\n",
       "      <td>-0.033512</td>\n",
       "    </tr>\n",
       "    <tr>\n",
       "      <th>75%</th>\n",
       "      <td>1499.250000</td>\n",
       "      <td>0.750999</td>\n",
       "      <td>0.748120</td>\n",
       "      <td>0.508099</td>\n",
       "    </tr>\n",
       "    <tr>\n",
       "      <th>max</th>\n",
       "      <td>1999.000000</td>\n",
       "      <td>0.999414</td>\n",
       "      <td>0.999718</td>\n",
       "      <td>2.040965</td>\n",
       "    </tr>\n",
       "  </tbody>\n",
       "</table>\n",
       "</div>"
      ],
      "text/plain": [
       "             index           x0           x1            y\n",
       "count  2000.000000  2000.000000  2000.000000  2000.000000\n",
       "mean    999.500000     0.494333     0.500694    -0.216789\n",
       "std     577.494589     0.293217     0.287527     1.050650\n",
       "min       0.000000     0.000012     0.001474    -3.707812\n",
       "25%     499.750000     0.232164     0.254778    -0.785116\n",
       "50%     999.500000     0.498312     0.502042    -0.033512\n",
       "75%    1499.250000     0.750999     0.748120     0.508099\n",
       "max    1999.000000     0.999414     0.999718     2.040965"
      ]
     },
     "execution_count": 3,
     "metadata": {},
     "output_type": "execute_result"
    },
    {
     "data": {
      "image/png": "[encoded data removed]",
      "text/plain": [
       "<matplotlib.figure.Figure at 0x7fc05449c810>"
      ]
     },
     "metadata": {},
     "output_type": "display_data"
    }
   ],
   "source": [
    "df, weights = generate_data(2, 5, 0, 2000)\n",
    "_, y = get_xy(df)\n",
    "signal_std = y.std()\n",
    "sns.distplot(y)\n",
    "df.describe()"
   ]
  },
  {
   "cell_type": "code",
   "execution_count": 4,
   "metadata": {
    "collapsed": false
   },
   "outputs": [],
   "source": [
    "save_data(2,5,signal_std / 4.0, 2000, 'diag_test_low_noise.csv')\n",
    "save_data(2,5,signal_std / 2.0 , 2000, 'diag_test_medium_noise.csv')\n",
    "save_data(2,5,signal_std, 2000, 'diag_test_high_noise.csv')\n",
    "save_data(2,5,signal_std *2.0, 2000, 'diag_test_very_high_noise.csv')"
   ]
  },
  {
   "cell_type": "code",
   "execution_count": 5,
   "metadata": {
    "collapsed": false
   },
   "outputs": [
    {
     "data": {
      "text/plain": [
       "(0.17638010595214174, -0.021993917971553652, -0.014888090315905243)"
      ]
     },
     "execution_count": 5,
     "metadata": {},
     "output_type": "execute_result"
    }
   ],
   "source": [
    "np.std(weights), np.mean(weights), np.median(weights)"
   ]
  },
  {
   "cell_type": "code",
   "execution_count": 6,
   "metadata": {
    "collapsed": false,
    "scrolled": true
   },
   "outputs": [
    {
     "data": {
      "text/plain": [
       "<matplotlib.axes._subplots.AxesSubplot at 0x7fc01d444990>"
      ]
     },
     "execution_count": 6,
     "metadata": {},
     "output_type": "execute_result"
    },
    {
     "data": {
      "image/png": "[encoded data removed]",
      "text/plain": [
       "<matplotlib.figure.Figure at 0x7fc01d45d410>"
      ]
     },
     "metadata": {},
     "output_type": "display_data"
    }
   ],
   "source": [
    "sns.distplot(weights)"
   ]
  },
  {
   "cell_type": "markdown",
   "metadata": {},
   "source": [
    "# RMSE of Weights\n",
    "Get all experiment results for diag_test results, train again with complete training set and evaluate the RMSE of the weights"
   ]
  },
  {
   "cell_type": "code",
   "execution_count": 7,
   "metadata": {
    "collapsed": true
   },
   "outputs": [],
   "source": [
    "def calculate_weights(res):\n",
    "    df = get_dataset(res.experiment.dataset)\n",
    "    train, test = split(df)\n",
    "    X_train, y_train = get_xy(train)\n",
    "    X_test, y_test = get_xy(test)\n",
    "    estimator = SGRegressionLearner(res.grid_config, res.regularization_config, res.solver_config, res.final_solver_config, res.adaptivity_config)\n",
    "    estimator.fit(X_train, y_train)\n",
    "    return res.experiment.dataset, res.regularization_config.exponent_base, estimator.get_weights()"
   ]
  },
  {
   "cell_type": "code",
   "execution_count": 8,
   "metadata": {
    "collapsed": false
   },
   "outputs": [],
   "source": [
    "# First get the estimators with the best CV-MSE from the database\n",
    "ses = model.make_session()\n",
    "best_results = ses.query(model.Result, func.min(model.Result.validation_mse)).\\\n",
    "    group_by(model.Result.experiment_id).\\\n",
    "    join(model.RegularizationConfig).\\\n",
    "    group_by(model.RegularizationConfig.exponent_base).\\\n",
    "    join(model.Experiment).\\\n",
    "    filter(model.Experiment.dataset.contains('diag_test'))"
   ]
  },
  {
   "cell_type": "code",
   "execution_count": 9,
   "metadata": {
    "collapsed": false
   },
   "outputs": [],
   "source": [
    "def calculate_best_weights(results):\n",
    "    weights = []\n",
    "    for res in best_results:\n",
    "        weights.append(calculate_weights(res[0]))\n",
    "    return weights"
   ]
  },
  {
   "cell_type": "code",
   "execution_count": 10,
   "metadata": {
    "collapsed": false
   },
   "outputs": [],
   "source": [
    "best_weights = calculate_best_weights(best_results)"
   ]
  },
  {
   "cell_type": "code",
   "execution_count": 11,
   "metadata": {
    "collapsed": false
   },
   "outputs": [],
   "source": [
    "def calculate_weight_RMSE(weights, ideal_weights):\n",
    "    errors = []\n",
    "    for (d, e, w) in weights:\n",
    "        diff = np.subtract(w, ideal_weights)\n",
    "        se = np.square(diff).sum()\n",
    "        mse = (1.0/ideal_weights.shape[0]) * se\n",
    "        rmse = np.sqrt(mse)\n",
    "        errors.append((d, e, rmse))        \n",
    "    return pd.DataFrame(errors, columns=[\"dataset\", \"exponent_base\", \"weight RMSE\"])"
   ]
  },
  {
   "cell_type": "code",
   "execution_count": 12,
   "metadata": {
    "collapsed": false
   },
   "outputs": [
    {
     "data": {
      "text/html": [
       "<div>\n",
       "<table border=\"1\" class=\"dataframe\">\n",
       "  <thead>\n",
       "    <tr style=\"text-align: right;\">\n",
       "      <th></th>\n",
       "      <th>dataset</th>\n",
       "      <th>exponent_base</th>\n",
       "      <th>weight RMSE</th>\n",
       "    </tr>\n",
       "  </thead>\n",
       "  <tbody>\n",
       "    <tr>\n",
       "      <th>0</th>\n",
       "      <td>diag_test_low_noise</td>\n",
       "      <td>0.25</td>\n",
       "      <td>0.115252</td>\n",
       "    </tr>\n",
       "    <tr>\n",
       "      <th>1</th>\n",
       "      <td>diag_test_low_noise</td>\n",
       "      <td>0.50</td>\n",
       "      <td>0.114847</td>\n",
       "    </tr>\n",
       "    <tr>\n",
       "      <th>2</th>\n",
       "      <td>diag_test_low_noise</td>\n",
       "      <td>1.00</td>\n",
       "      <td>0.084916</td>\n",
       "    </tr>\n",
       "    <tr>\n",
       "      <th>3</th>\n",
       "      <td>diag_test_low_noise</td>\n",
       "      <td>1.50</td>\n",
       "      <td>0.070288</td>\n",
       "    </tr>\n",
       "    <tr>\n",
       "      <th>4</th>\n",
       "      <td>diag_test_medium_noise</td>\n",
       "      <td>0.25</td>\n",
       "      <td>0.221306</td>\n",
       "    </tr>\n",
       "    <tr>\n",
       "      <th>5</th>\n",
       "      <td>diag_test_medium_noise</td>\n",
       "      <td>0.50</td>\n",
       "      <td>0.158320</td>\n",
       "    </tr>\n",
       "    <tr>\n",
       "      <th>6</th>\n",
       "      <td>diag_test_medium_noise</td>\n",
       "      <td>1.00</td>\n",
       "      <td>0.112541</td>\n",
       "    </tr>\n",
       "    <tr>\n",
       "      <th>7</th>\n",
       "      <td>diag_test_medium_noise</td>\n",
       "      <td>1.50</td>\n",
       "      <td>0.096089</td>\n",
       "    </tr>\n",
       "    <tr>\n",
       "      <th>8</th>\n",
       "      <td>diag_test_high_noise</td>\n",
       "      <td>0.25</td>\n",
       "      <td>0.238721</td>\n",
       "    </tr>\n",
       "    <tr>\n",
       "      <th>9</th>\n",
       "      <td>diag_test_high_noise</td>\n",
       "      <td>0.50</td>\n",
       "      <td>0.180485</td>\n",
       "    </tr>\n",
       "    <tr>\n",
       "      <th>10</th>\n",
       "      <td>diag_test_high_noise</td>\n",
       "      <td>1.00</td>\n",
       "      <td>0.134176</td>\n",
       "    </tr>\n",
       "    <tr>\n",
       "      <th>11</th>\n",
       "      <td>diag_test_high_noise</td>\n",
       "      <td>1.50</td>\n",
       "      <td>0.115209</td>\n",
       "    </tr>\n",
       "    <tr>\n",
       "      <th>12</th>\n",
       "      <td>diag_test_very_high_noise</td>\n",
       "      <td>0.25</td>\n",
       "      <td>0.230141</td>\n",
       "    </tr>\n",
       "    <tr>\n",
       "      <th>13</th>\n",
       "      <td>diag_test_very_high_noise</td>\n",
       "      <td>0.50</td>\n",
       "      <td>0.186454</td>\n",
       "    </tr>\n",
       "    <tr>\n",
       "      <th>14</th>\n",
       "      <td>diag_test_very_high_noise</td>\n",
       "      <td>1.00</td>\n",
       "      <td>0.147578</td>\n",
       "    </tr>\n",
       "    <tr>\n",
       "      <th>15</th>\n",
       "      <td>diag_test_very_high_noise</td>\n",
       "      <td>1.50</td>\n",
       "      <td>0.131336</td>\n",
       "    </tr>\n",
       "  </tbody>\n",
       "</table>\n",
       "</div>"
      ],
      "text/plain": [
       "                      dataset  exponent_base  weight RMSE\n",
       "0         diag_test_low_noise           0.25     0.115252\n",
       "1         diag_test_low_noise           0.50     0.114847\n",
       "2         diag_test_low_noise           1.00     0.084916\n",
       "3         diag_test_low_noise           1.50     0.070288\n",
       "4      diag_test_medium_noise           0.25     0.221306\n",
       "5      diag_test_medium_noise           0.50     0.158320\n",
       "6      diag_test_medium_noise           1.00     0.112541\n",
       "7      diag_test_medium_noise           1.50     0.096089\n",
       "8        diag_test_high_noise           0.25     0.238721\n",
       "9        diag_test_high_noise           0.50     0.180485\n",
       "10       diag_test_high_noise           1.00     0.134176\n",
       "11       diag_test_high_noise           1.50     0.115209\n",
       "12  diag_test_very_high_noise           0.25     0.230141\n",
       "13  diag_test_very_high_noise           0.50     0.186454\n",
       "14  diag_test_very_high_noise           1.00     0.147578\n",
       "15  diag_test_very_high_noise           1.50     0.131336"
      ]
     },
     "execution_count": 12,
     "metadata": {},
     "output_type": "execute_result"
    }
   ],
   "source": [
    "calculate_weight_RMSE(best_weights, weights)"
   ]
  },
  {
   "cell_type": "markdown",
   "metadata": {},
   "source": [
    "# Graph results for each experiment"
   ]
  },
  {
   "cell_type": "code",
   "execution_count": 13,
   "metadata": {
    "collapsed": false
   },
   "outputs": [],
   "source": [
    "all_results = ses.query(model.Result).\\\n",
    "    join(model.Experiment).\\\n",
    "    filter(model.Experiment.dataset.contains('diag_test'))"
   ]
  },
  {
   "cell_type": "code",
   "execution_count": 14,
   "metadata": {
    "collapsed": false
   },
   "outputs": [],
   "source": [
    "experiment_ids = ses.query(model.Result.experiment_id).\\\n",
    "    distinct(model.Result.experiment_id).\\\n",
    "    join(model.Experiment).\\\n",
    "    filter(model.Experiment.dataset.contains('diag_test')).\\\n",
    "    all()"
   ]
  },
  {
   "cell_type": "code",
   "execution_count": 15,
   "metadata": {
    "collapsed": false
   },
   "outputs": [],
   "source": [
    "def get_results_per_experiment(all_results, experiment_ids):\n",
    "    res_per_exp = []\n",
    "    for rid, in experiment_ids:\n",
    "        res = all_results.filter(model.Result.experiment_id == rid).all()\n",
    "        res_per_exp.append(res)\n",
    "    return res_per_exp  \n",
    "\n",
    "def get_df_for_experiment(experiment):\n",
    "    results = []\n",
    "    for result in experiment:\n",
    "        results.append((result.validation_mse, result.regularization_config.lambda_reg,\\\n",
    "                        result.regularization_config.exponent_base,\\\n",
    "                        result.experiment.dataset))\n",
    "    return pd.DataFrame(results, columns=[\"mse\", \"lambda_reg\", \"exponent_base\", \"dataset\"])"
   ]
  },
  {
   "cell_type": "code",
   "execution_count": 16,
   "metadata": {
    "collapsed": false
   },
   "outputs": [],
   "source": [
    "dfs = []\n",
    "for exp in get_results_per_experiment(all_results, experiment_ids):\n",
    "    df = get_df_for_experiment(exp)\n",
    "    dfs.append(df)"
   ]
  },
  {
   "cell_type": "code",
   "execution_count": 17,
   "metadata": {
    "collapsed": false
   },
   "outputs": [],
   "source": [
    "def get_snr_by_dataset(dataset):\n",
    "    snrs = {'diag_test_low_noise' : 4,\n",
    "            'diag_test_medium_noise' : 2,\n",
    "            'diag_test_high_noise' : 1,\n",
    "            'diag_test_very_high_noise': 0.5}\n",
    "    return snrs[dataset]\n",
    "\n",
    "def plot_experiment(df):\n",
    "    fig, ax = plt.subplots()\n",
    "    groups = df.groupby('exponent_base')\n",
    "    for name, group in groups:\n",
    "        ax.loglog(group.lambda_reg, group.mse, marker='o', linestyle='', ms=4, label=name)\n",
    "    ax.legend()\n",
    "    ax.margins(0.05)\n",
    "    ax.invert_xaxis()\n",
    "    ax.set_xlabel(\"Regularization lambda\")\n",
    "    ax.set_ylabel(\"CV-MSE\")\n",
    "    dataset = df['dataset'][0]\n",
    "    ax.set_title(\"Errors for \" + dataset + \" with a SNR of \" + str(get_snr_by_dataset(dataset)))\n",
    "    plt.show()"
   ]
  },
  {
   "cell_type": "code",
   "execution_count": 18,
   "metadata": {
    "collapsed": false
   },
   "outputs": [
    {
     "data": {
      "image/png": "[encoded data removed]",
      "text/plain": [
       "<matplotlib.figure.Figure at 0x7fc01d444b10>"
      ]
     },
     "metadata": {},
     "output_type": "display_data"
    },
    {
     "data": {
      "image/png": "[encoded data removed]",
      "text/plain": [
       "<matplotlib.figure.Figure at 0x7fc01d4ab510>"
      ]
     },
     "metadata": {},
     "output_type": "display_data"
    },
    {
     "data": {
      "image/png": "[encoded data removed]",
      "text/plain": [
       "<matplotlib.figure.Figure at 0x7fc01cea92d0>"
      ]
     },
     "metadata": {},
     "output_type": "display_data"
    },
    {
     "data": {
      "image/png": "[encoded data removed]",
      "text/plain": [
       "<matplotlib.figure.Figure at 0x7fc01cd43550>"
      ]
     },
     "metadata": {},
     "output_type": "display_data"
    }
   ],
   "source": [
    "for df in dfs:\n",
    "    plot_experiment(df)"
   ]
  },
  {
   "cell_type": "code",
   "execution_count": 19,
   "metadata": {
    "collapsed": false
   },
   "outputs": [
    {
     "data": {
      "text/html": [
       "<div>\n",
       "<table border=\"1\" class=\"dataframe\">\n",
       "  <thead>\n",
       "    <tr style=\"text-align: right;\">\n",
       "      <th></th>\n",
       "      <th>dataset</th>\n",
       "      <th>lambda</th>\n",
       "      <th>exponent_base</th>\n",
       "      <th>cv_error</th>\n",
       "    </tr>\n",
       "  </thead>\n",
       "  <tbody>\n",
       "    <tr>\n",
       "      <th>0</th>\n",
       "      <td>diag_test_low_noise</td>\n",
       "      <td>0.000256</td>\n",
       "      <td>0.25</td>\n",
       "      <td>0.079226</td>\n",
       "    </tr>\n",
       "    <tr>\n",
       "      <th>1</th>\n",
       "      <td>diag_test_low_noise</td>\n",
       "      <td>0.001389</td>\n",
       "      <td>0.50</td>\n",
       "      <td>0.079037</td>\n",
       "    </tr>\n",
       "    <tr>\n",
       "      <th>2</th>\n",
       "      <td>diag_test_low_noise</td>\n",
       "      <td>0.002442</td>\n",
       "      <td>1.00</td>\n",
       "      <td>0.077208</td>\n",
       "    </tr>\n",
       "    <tr>\n",
       "      <th>3</th>\n",
       "      <td>diag_test_low_noise</td>\n",
       "      <td>0.000791</td>\n",
       "      <td>1.50</td>\n",
       "      <td>0.076201</td>\n",
       "    </tr>\n",
       "    <tr>\n",
       "      <th>4</th>\n",
       "      <td>diag_test_medium_noise</td>\n",
       "      <td>0.013257</td>\n",
       "      <td>0.25</td>\n",
       "      <td>0.316665</td>\n",
       "    </tr>\n",
       "    <tr>\n",
       "      <th>5</th>\n",
       "      <td>diag_test_medium_noise</td>\n",
       "      <td>0.023300</td>\n",
       "      <td>0.50</td>\n",
       "      <td>0.311028</td>\n",
       "    </tr>\n",
       "    <tr>\n",
       "      <th>6</th>\n",
       "      <td>diag_test_medium_noise</td>\n",
       "      <td>0.007543</td>\n",
       "      <td>1.00</td>\n",
       "      <td>0.302795</td>\n",
       "    </tr>\n",
       "    <tr>\n",
       "      <th>7</th>\n",
       "      <td>diag_test_medium_noise</td>\n",
       "      <td>0.004292</td>\n",
       "      <td>1.50</td>\n",
       "      <td>0.299585</td>\n",
       "    </tr>\n",
       "    <tr>\n",
       "      <th>8</th>\n",
       "      <td>diag_test_high_noise</td>\n",
       "      <td>1.206793</td>\n",
       "      <td>0.25</td>\n",
       "      <td>1.233186</td>\n",
       "    </tr>\n",
       "    <tr>\n",
       "      <th>9</th>\n",
       "      <td>diag_test_high_noise</td>\n",
       "      <td>0.222300</td>\n",
       "      <td>0.50</td>\n",
       "      <td>1.208169</td>\n",
       "    </tr>\n",
       "    <tr>\n",
       "      <th>10</th>\n",
       "      <td>diag_test_high_noise</td>\n",
       "      <td>0.040949</td>\n",
       "      <td>1.00</td>\n",
       "      <td>1.188170</td>\n",
       "    </tr>\n",
       "    <tr>\n",
       "      <th>11</th>\n",
       "      <td>diag_test_high_noise</td>\n",
       "      <td>0.013257</td>\n",
       "      <td>1.50</td>\n",
       "      <td>1.180700</td>\n",
       "    </tr>\n",
       "    <tr>\n",
       "      <th>12</th>\n",
       "      <td>diag_test_very_high_noise</td>\n",
       "      <td>6.551286</td>\n",
       "      <td>0.25</td>\n",
       "      <td>4.774099</td>\n",
       "    </tr>\n",
       "    <tr>\n",
       "      <th>13</th>\n",
       "      <td>diag_test_very_high_noise</td>\n",
       "      <td>0.686649</td>\n",
       "      <td>0.50</td>\n",
       "      <td>4.730006</td>\n",
       "    </tr>\n",
       "    <tr>\n",
       "      <th>14</th>\n",
       "      <td>diag_test_very_high_noise</td>\n",
       "      <td>0.126486</td>\n",
       "      <td>1.00</td>\n",
       "      <td>4.690233</td>\n",
       "    </tr>\n",
       "    <tr>\n",
       "      <th>15</th>\n",
       "      <td>diag_test_very_high_noise</td>\n",
       "      <td>0.040949</td>\n",
       "      <td>1.50</td>\n",
       "      <td>4.674110</td>\n",
       "    </tr>\n",
       "  </tbody>\n",
       "</table>\n",
       "</div>"
      ],
      "text/plain": [
       "                      dataset    lambda  exponent_base  cv_error\n",
       "0         diag_test_low_noise  0.000256           0.25  0.079226\n",
       "1         diag_test_low_noise  0.001389           0.50  0.079037\n",
       "2         diag_test_low_noise  0.002442           1.00  0.077208\n",
       "3         diag_test_low_noise  0.000791           1.50  0.076201\n",
       "4      diag_test_medium_noise  0.013257           0.25  0.316665\n",
       "5      diag_test_medium_noise  0.023300           0.50  0.311028\n",
       "6      diag_test_medium_noise  0.007543           1.00  0.302795\n",
       "7      diag_test_medium_noise  0.004292           1.50  0.299585\n",
       "8        diag_test_high_noise  1.206793           0.25  1.233186\n",
       "9        diag_test_high_noise  0.222300           0.50  1.208169\n",
       "10       diag_test_high_noise  0.040949           1.00  1.188170\n",
       "11       diag_test_high_noise  0.013257           1.50  1.180700\n",
       "12  diag_test_very_high_noise  6.551286           0.25  4.774099\n",
       "13  diag_test_very_high_noise  0.686649           0.50  4.730006\n",
       "14  diag_test_very_high_noise  0.126486           1.00  4.690233\n",
       "15  diag_test_very_high_noise  0.040949           1.50  4.674110"
      ]
     },
     "execution_count": 19,
     "metadata": {},
     "output_type": "execute_result"
    }
   ],
   "source": [
    "def print_best_results(best_results):\n",
    "    results = []\n",
    "    for result, cv_err in best_results:\n",
    "        reg = result.regularization_config\n",
    "        results.append((result.experiment.dataset, reg.lambda_reg, reg.exponent_base, cv_err))\n",
    "    return pd.DataFrame(results, columns=[\"dataset\", \"lambda\", \"exponent_base\", \"cv_error\"])\n",
    "print_best_results(best_results)"
   ]
  }
 ],
 "metadata": {
  "kernelspec": {
   "display_name": "Python 2",
   "language": "python",
   "name": "python2"
  },
  "language_info": {
   "codemirror_mode": {
    "name": "ipython",
    "version": 2
   },
   "file_extension": ".py",
   "mimetype": "text/x-python",
   "name": "python",
   "nbconvert_exporter": "python",
   "pygments_lexer": "ipython2",
   "version": "2.7.11"
  }
 },
 "nbformat": 4,
 "nbformat_minor": 0
}
