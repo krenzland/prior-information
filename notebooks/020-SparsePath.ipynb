{
 "cells": [
  {
   "cell_type": "code",
   "execution_count": 6,
   "metadata": {
    "collapsed": true
   },
   "outputs": [],
   "source": [
    "%matplotlib inline\n",
    "\n",
    "import sys, os\n",
    "sys.path.append(os.path.abspath(os.path.join('..', 'src/')))\n",
    "from sgpi.util import get_dataset, get_xy, get_r_squared, split, to_data_matrix, scale\n",
    "from sgpi.plot import *\n",
    "\n",
    "from sgpi import model\n",
    "from sgpi.learner import SGRegressionLearner\n",
    "\n",
    "import pandas as pd\n",
    "import pysgpp as sg\n",
    "\n",
    "from scipy.sparse.linalg import LinearOperator, svds, aslinearoperator\n",
    "from scipy.linalg import svd"
   ]
  },
  {
   "cell_type": "markdown",
   "metadata": {},
   "source": [
    "# Artificial dataset\n",
    "From SLS, two highly correlated variables, elastic net should be different than lasso here."
   ]
  },
  {
   "cell_type": "code",
   "execution_count": 2,
   "metadata": {
    "collapsed": false
   },
   "outputs": [
    {
     "data": {
      "text/html": [
       "<div>\n",
       "<table border=\"1\" class=\"dataframe\">\n",
       "  <thead>\n",
       "    <tr style=\"text-align: right;\">\n",
       "      <th></th>\n",
       "      <th>x1</th>\n",
       "      <th>x2</th>\n",
       "      <th>x3</th>\n",
       "      <th>x4</th>\n",
       "      <th>x5</th>\n",
       "      <th>x6</th>\n",
       "      <th>y</th>\n",
       "    </tr>\n",
       "  </thead>\n",
       "  <tbody>\n",
       "    <tr>\n",
       "      <th>count</th>\n",
       "      <td>100.000000</td>\n",
       "      <td>100.000000</td>\n",
       "      <td>100.000000</td>\n",
       "      <td>100.000000</td>\n",
       "      <td>100.000000</td>\n",
       "      <td>100.000000</td>\n",
       "      <td>100.000000</td>\n",
       "    </tr>\n",
       "    <tr>\n",
       "      <th>mean</th>\n",
       "      <td>0.265917</td>\n",
       "      <td>0.248874</td>\n",
       "      <td>0.197549</td>\n",
       "      <td>-0.002423</td>\n",
       "      <td>0.081831</td>\n",
       "      <td>-0.025308</td>\n",
       "      <td>1.419411</td>\n",
       "    </tr>\n",
       "    <tr>\n",
       "      <th>std</th>\n",
       "      <td>0.913524</td>\n",
       "      <td>0.913524</td>\n",
       "      <td>0.913524</td>\n",
       "      <td>1.055526</td>\n",
       "      <td>1.055526</td>\n",
       "      <td>1.055526</td>\n",
       "      <td>3.225223</td>\n",
       "    </tr>\n",
       "    <tr>\n",
       "      <th>min</th>\n",
       "      <td>-1.619544</td>\n",
       "      <td>-1.636588</td>\n",
       "      <td>-1.687913</td>\n",
       "      <td>-2.664621</td>\n",
       "      <td>-2.580367</td>\n",
       "      <td>-2.687505</td>\n",
       "      <td>-6.075552</td>\n",
       "    </tr>\n",
       "    <tr>\n",
       "      <th>25%</th>\n",
       "      <td>-0.345836</td>\n",
       "      <td>-0.362879</td>\n",
       "      <td>-0.414204</td>\n",
       "      <td>-0.742463</td>\n",
       "      <td>-0.658209</td>\n",
       "      <td>-0.765347</td>\n",
       "      <td>-0.588899</td>\n",
       "    </tr>\n",
       "    <tr>\n",
       "      <th>50%</th>\n",
       "      <td>0.197344</td>\n",
       "      <td>0.180301</td>\n",
       "      <td>0.128976</td>\n",
       "      <td>0.070366</td>\n",
       "      <td>0.154620</td>\n",
       "      <td>0.047482</td>\n",
       "      <td>1.407521</td>\n",
       "    </tr>\n",
       "    <tr>\n",
       "      <th>75%</th>\n",
       "      <td>0.776908</td>\n",
       "      <td>0.759865</td>\n",
       "      <td>0.708540</td>\n",
       "      <td>0.657982</td>\n",
       "      <td>0.742237</td>\n",
       "      <td>0.635098</td>\n",
       "      <td>3.616433</td>\n",
       "    </tr>\n",
       "    <tr>\n",
       "      <th>max</th>\n",
       "      <td>2.209136</td>\n",
       "      <td>2.192093</td>\n",
       "      <td>2.140768</td>\n",
       "      <td>2.694546</td>\n",
       "      <td>2.778800</td>\n",
       "      <td>2.671662</td>\n",
       "      <td>9.244309</td>\n",
       "    </tr>\n",
       "  </tbody>\n",
       "</table>\n",
       "</div>"
      ],
      "text/plain": [
       "               x1          x2          x3          x4          x5          x6  \\\n",
       "count  100.000000  100.000000  100.000000  100.000000  100.000000  100.000000   \n",
       "mean     0.265917    0.248874    0.197549   -0.002423    0.081831   -0.025308   \n",
       "std      0.913524    0.913524    0.913524    1.055526    1.055526    1.055526   \n",
       "min     -1.619544   -1.636588   -1.687913   -2.664621   -2.580367   -2.687505   \n",
       "25%     -0.345836   -0.362879   -0.414204   -0.742463   -0.658209   -0.765347   \n",
       "50%      0.197344    0.180301    0.128976    0.070366    0.154620    0.047482   \n",
       "75%      0.776908    0.759865    0.708540    0.657982    0.742237    0.635098   \n",
       "max      2.209136    2.192093    2.140768    2.694546    2.778800    2.671662   \n",
       "\n",
       "                y  \n",
       "count  100.000000  \n",
       "mean     1.419411  \n",
       "std      3.225223  \n",
       "min     -6.075552  \n",
       "25%     -0.588899  \n",
       "50%      1.407521  \n",
       "75%      3.616433  \n",
       "max      9.244309  "
      ]
     },
     "execution_count": 2,
     "metadata": {},
     "output_type": "execute_result"
    }
   ],
   "source": [
    "size = 100\n",
    "np.random.seed(2099)\n",
    "z1 = np.random.normal(size=size)\n",
    "z2 = np.random.normal(size=size)\n",
    "eps = np.random.normal()\n",
    "y = 3 * z1 - 1.5 * z2 + 2*eps\n",
    "xi = np.random.random(size=6)\n",
    "x1 = z1 + xi[0]/5.0\n",
    "x2 = z1 + xi[1]/5.0\n",
    "x3 = z1 + xi[2]/5.0\n",
    "x4 = z2 + xi[3]/5.0\n",
    "x5 = z2 + xi[4]/5.0\n",
    "x6 = z2 + xi[5]/5.0\n",
    "df = pd.DataFrame(np.vstack((x1, x2, x3, x4, x5,x6, y))).T\n",
    "df.columns = ['x1', 'x2', 'x3', 'x4', 'x5', 'x6', 'y']\n",
    "#_, df = scale(df)\n",
    "df.describe()"
   ]
  },
  {
   "cell_type": "code",
   "execution_count": 3,
   "metadata": {
    "collapsed": false
   },
   "outputs": [
    {
     "data": {
      "text/html": [
       "<div>\n",
       "<table border=\"1\" class=\"dataframe\">\n",
       "  <thead>\n",
       "    <tr style=\"text-align: right;\">\n",
       "      <th></th>\n",
       "      <th>x1</th>\n",
       "      <th>x2</th>\n",
       "      <th>x3</th>\n",
       "      <th>x4</th>\n",
       "      <th>x5</th>\n",
       "      <th>x6</th>\n",
       "      <th>y</th>\n",
       "    </tr>\n",
       "  </thead>\n",
       "  <tbody>\n",
       "    <tr>\n",
       "      <th>x1</th>\n",
       "      <td>1.000000</td>\n",
       "      <td>1.000000</td>\n",
       "      <td>1.000000</td>\n",
       "      <td>-0.044309</td>\n",
       "      <td>-0.044309</td>\n",
       "      <td>-0.044309</td>\n",
       "      <td>0.871483</td>\n",
       "    </tr>\n",
       "    <tr>\n",
       "      <th>x2</th>\n",
       "      <td>1.000000</td>\n",
       "      <td>1.000000</td>\n",
       "      <td>1.000000</td>\n",
       "      <td>-0.044309</td>\n",
       "      <td>-0.044309</td>\n",
       "      <td>-0.044309</td>\n",
       "      <td>0.871483</td>\n",
       "    </tr>\n",
       "    <tr>\n",
       "      <th>x3</th>\n",
       "      <td>1.000000</td>\n",
       "      <td>1.000000</td>\n",
       "      <td>1.000000</td>\n",
       "      <td>-0.044309</td>\n",
       "      <td>-0.044309</td>\n",
       "      <td>-0.044309</td>\n",
       "      <td>0.871483</td>\n",
       "    </tr>\n",
       "    <tr>\n",
       "      <th>x4</th>\n",
       "      <td>-0.044309</td>\n",
       "      <td>-0.044309</td>\n",
       "      <td>-0.044309</td>\n",
       "      <td>1.000000</td>\n",
       "      <td>1.000000</td>\n",
       "      <td>1.000000</td>\n",
       "      <td>-0.528560</td>\n",
       "    </tr>\n",
       "    <tr>\n",
       "      <th>x5</th>\n",
       "      <td>-0.044309</td>\n",
       "      <td>-0.044309</td>\n",
       "      <td>-0.044309</td>\n",
       "      <td>1.000000</td>\n",
       "      <td>1.000000</td>\n",
       "      <td>1.000000</td>\n",
       "      <td>-0.528560</td>\n",
       "    </tr>\n",
       "    <tr>\n",
       "      <th>x6</th>\n",
       "      <td>-0.044309</td>\n",
       "      <td>-0.044309</td>\n",
       "      <td>-0.044309</td>\n",
       "      <td>1.000000</td>\n",
       "      <td>1.000000</td>\n",
       "      <td>1.000000</td>\n",
       "      <td>-0.528560</td>\n",
       "    </tr>\n",
       "    <tr>\n",
       "      <th>y</th>\n",
       "      <td>0.871483</td>\n",
       "      <td>0.871483</td>\n",
       "      <td>0.871483</td>\n",
       "      <td>-0.528560</td>\n",
       "      <td>-0.528560</td>\n",
       "      <td>-0.528560</td>\n",
       "      <td>1.000000</td>\n",
       "    </tr>\n",
       "  </tbody>\n",
       "</table>\n",
       "</div>"
      ],
      "text/plain": [
       "          x1        x2        x3        x4        x5        x6         y\n",
       "x1  1.000000  1.000000  1.000000 -0.044309 -0.044309 -0.044309  0.871483\n",
       "x2  1.000000  1.000000  1.000000 -0.044309 -0.044309 -0.044309  0.871483\n",
       "x3  1.000000  1.000000  1.000000 -0.044309 -0.044309 -0.044309  0.871483\n",
       "x4 -0.044309 -0.044309 -0.044309  1.000000  1.000000  1.000000 -0.528560\n",
       "x5 -0.044309 -0.044309 -0.044309  1.000000  1.000000  1.000000 -0.528560\n",
       "x6 -0.044309 -0.044309 -0.044309  1.000000  1.000000  1.000000 -0.528560\n",
       "y   0.871483  0.871483  0.871483 -0.528560 -0.528560 -0.528560  1.000000"
      ]
     },
     "execution_count": 3,
     "metadata": {},
     "output_type": "execute_result"
    }
   ],
   "source": [
    "df.corr()"
   ]
  },
  {
   "cell_type": "code",
   "execution_count": 7,
   "metadata": {
    "collapsed": true
   },
   "outputs": [],
   "source": [
    "#TODO extract to its own file, is from 017-RegularizationHeat!\n",
    "def decode(num):\n",
    "    zeros = np.zeros(len(num)) + 0.5\n",
    "    return np.equal(zeros, num)\n",
    "\n",
    "def coords_to_pred(coords):\n",
    "    s = \"\"\n",
    "    for i, c in enumerate(coords):\n",
    "        if not c:\n",
    "            s = s + \"x{} \".format(i + 1)\n",
    "    s = s.strip()\n",
    "    if s == \"\":\n",
    "        return \"bias\"\n",
    "    else:\n",
    "        s = s.replace(\" \", \"-\")\n",
    "        return s\n",
    "\n",
    "def group_weights_raw(grid):\n",
    "    storage = grid.getStorage()\n",
    "    dim = storage.getDimension()\n",
    "\n",
    "    coords = []\n",
    "    for x in range(0, grid.getSize()):\n",
    "        gen0 = storage.get(x)\n",
    "        curCoords = []\n",
    "        for i in range(0,dim):\n",
    "            curCoords.append(gen0.getCoord(i))\n",
    "        curCoords = np.array(curCoords)\n",
    "        coords.append(curCoords)\n",
    "\n",
    "    terms = {}\n",
    "    groups = {}\n",
    "    terms_nums = []\n",
    "    for num, r in enumerate(coords):\n",
    "        d = tuple(decode(r))\n",
    "        if d not in terms:\n",
    "            terms[d] = []\n",
    "            groups[d] = len(groups)\n",
    "        terms[d].append(num)\n",
    "        terms_nums.append(groups[d])\n",
    "    \n",
    "    return terms\n",
    "\n",
    "def group_weights_format(grid):\n",
    "    terms = group_weights_raw(grid)\n",
    "    return dict([(coords_to_pred(coords), terms[coords]) for coords in terms])\n",
    "\n",
    "def group_list(grid):\n",
    "    groups = group_weights_format(grid)\n",
    "    glist = [None] * (grid.getSize())\n",
    "    for group in groups:\n",
    "        for i in groups[group]:\n",
    "            glist[i] = group\n",
    "    return glist"
   ]
  },
  {
   "cell_type": "code",
   "execution_count": 8,
   "metadata": {
    "collapsed": false
   },
   "outputs": [],
   "source": [
    "def get_Phi(grid, X_train):\n",
    "    def eval_op(x, op, size):\n",
    "        result_vec = sg.DataVector(size)\n",
    "        x = sg.DataVector(np.array(x).flatten())\n",
    "        op.mult(x, result_vec)\n",
    "        return result_vec.array().copy()\n",
    "\n",
    "    def eval_op_transpose(x, op, size):\n",
    "        result_vec = sg.DataVector(size)  \n",
    "        x = sg.DataVector(np.array(x).flatten())\n",
    "        op.multTranspose(x, result_vec)\n",
    "        return result_vec.array().copy()\n",
    "\n",
    "    data_train = to_data_matrix(X_train)\n",
    "\n",
    "    num_elem = X_train.shape[0]\n",
    "\n",
    "    op = sg.createOperationMultipleEval(grid, data_train)\n",
    "    matvec = lambda x: eval_op(x, op, num_elem)\n",
    "    rmatvec = lambda x: eval_op_transpose(x, op, grid.getSize())\n",
    "\n",
    "    shape = (num_elem, grid.getSize())\n",
    "    linop = LinearOperator(shape, matvec, rmatvec, dtype='float64')\n",
    "\n",
    "    Phi = linop.matmat(np.matrix(np.identity(grid.getSize())))\n",
    "    return Phi\n",
    "\n",
    "def get_max_lambda(Phi, y, num_points, l1_ratio=1.0):\n",
    "    max_prod = 0\n",
    "    for i in range(0, num_points):\n",
    "        a = np.asarray(Phi[:,i]).flatten()\n",
    "        prod = np.inner(a, y)\n",
    "        max_prod = max(max_prod, prod)\n",
    "    max_lambda = max_prod/(l1_ratio)\n",
    "    return max_lambda"
   ]
  },
  {
   "cell_type": "code",
   "execution_count": 13,
   "metadata": {
    "collapsed": true
   },
   "outputs": [],
   "source": [
    "def calculate_weight_path(estimator, X, y, max_lambda, epsilon=0.001, num_lambdas=25,verbose=0):\n",
    "    min_lambda = epsilon * max_lambda\n",
    "    estimator.set_params(regularization_config__lambda_reg = max_lambda)\n",
    "    estimator.fit(X, y)\n",
    "    lambda_grid = np.logspace(np.log10(max_lambda), np.log10(min_lambda), num=num_lambdas)\n",
    "    min_lambda, lambda_grid, min_lambda/X.shape[0]\n",
    "    weights = []\n",
    "    for i, lamb in enumerate(lambda_grid):\n",
    "        estimator.set_params(regularization_config__lambda_reg = lamb)\n",
    "        if verbose > 0:\n",
    "            print \"Started training estimator {}\".format(i)\n",
    "        estimator.fit(X, y, estimator.get_weights()) # reuse old weights\n",
    "        if verbose > 0:\n",
    "            print \"Finished training estimator {}\".format(i)\n",
    "        weights.append(estimator.get_weights())\n",
    "    df = pd.DataFrame(weights, index=lambda_grid)\n",
    "    df = df.transpose()\n",
    "    glist = group_list(grid)\n",
    "    #df['group'] = glist\n",
    "    #df.index = df['group'].values\n",
    "    df.index=glist\n",
    "    #df = df.drop('group', axis=1)\n",
    "    return df\n",
    "\n",
    "def plot_weight_path(weight_df, num_estimators = None, cmap='Paired', fig=None, ax=None):\n",
    "    lambda_grid = weight_df.columns.values.astype(float)\n",
    "    print \n",
    "    num_groups = len(set(weight_df.index.values))\n",
    "    colors = sns.color_palette(cmap, num_groups)\n",
    "    if ax is None:\n",
    "        fig, ax = plt.subplots(figsize=(15,5))\n",
    "    curColor = 0\n",
    "    for group, data in weight_df.groupby(weight_df.index):\n",
    "        g = data\n",
    "        for i in range(0,len(data)):\n",
    "            d = data.values[i]\n",
    "            ax.semilogx(lambda_grid, d, c=colors[curColor])\n",
    "        ax.plot([], [], label=group, c=colors[curColor])\n",
    "        curColor = curColor + 1\n",
    "    lambdas = [np.min(lambda_grid), np.median(lambda_grid), np.max(lambda_grid)]\n",
    "    if num_estimators is not None:\n",
    "        lambda_names = [l/num_estimators for l in lambdas]\n",
    "        ax.set_xticks(lambdas)\n",
    "        ax.set_xticklabels(lambda_names)\n",
    "        ax.set_xlabel(\"Lambda/n\")\n",
    "    else:\n",
    "        ax.set_xlabel(\"Lambda\")\n",
    "    ax.set_ylabel(\"Weights\")\n",
    "    ax.set_xlim(left=lambda_grid[-1], right=lambda_grid[0])\n",
    "    ax.legend()\n",
    "    sns.despine(fig, ax)  \n",
    "    return fig, ax"
   ]
  },
  {
   "cell_type": "code",
   "execution_count": 14,
   "metadata": {
    "collapsed": false
   },
   "outputs": [],
   "source": [
    "def get_estimator(grid_config, X, y, l1_ratio, reg_type):\n",
    "    level = grid_config.level\n",
    "    dim = X.shape[1]\n",
    "    grid = sg.Grid.createModLinearGrid(dim)\n",
    "    gen = grid.getGenerator()\n",
    "    gen.regular(level)\n",
    "    \n",
    "    Phi = get_Phi(grid, X)\n",
    "    max_lambda = get_max_lambda(Phi, y, grid.getSize(), l1_ratio)\n",
    "    regularization_config = model.RegularizationConfig(type=reg_type, exponent_base=1, lambda_reg=max_lambda, l1_ratio=l1_ratio)\n",
    "    adaptivity_config = model.AdaptivityConfig(num_refinements=0, no_points=0, treshold=0.0, percent=0.0)\n",
    "    solv_type = sg.SLESolverType_FISTA\n",
    "    solver_config = model.SolverConfig(type=solv_type, max_iterations=400, epsilon=0, threshold=10e-8)\n",
    "    final_solver_config = solver_config\n",
    "    estimator = SGRegressionLearner(grid_config, regularization_config, solver_config,\n",
    "                                    final_solver_config, adaptivity_config)\n",
    "\n",
    "    return estimator, Phi, max_lambda, grid"
   ]
  },
  {
   "cell_type": "code",
   "execution_count": 15,
   "metadata": {
    "collapsed": false
   },
   "outputs": [],
   "source": [
    "df = get_dataset('friedman1')\n",
    "X_train, y_train = get_xy(df)\n",
    "\n",
    "level = 2\n",
    "l1_ratio = 1.0\n",
    "reg_type = sg.RegularizationType_ElasticNet\n",
    "\n",
    "grid_config = model.GridConfig(type=sg.GridType_ModLinear, T=0.0, level=level)"
   ]
  },
  {
   "cell_type": "code",
   "execution_count": 17,
   "metadata": {
    "collapsed": false,
    "scrolled": true
   },
   "outputs": [
    {
     "name": "stdout",
     "output_type": "stream",
     "text": [
      "Started training estimator 0\n",
      "Finished training estimator 0\n",
      "Started training estimator 1\n",
      "Finished training estimator 1\n",
      "Started training estimator 2\n",
      "Finished training estimator 2\n",
      "Started training estimator 3\n",
      "Finished training estimator 3\n",
      "Started training estimator 4\n",
      "Finished training estimator 4\n"
     ]
    }
   ],
   "source": [
    "estimator, Phi, max_lambda, grid = get_estimator(grid_config, X_train, y_train, l1_ratio, reg_type)\n",
    "df = calculate_weight_path(estimator, X_train, y_train, max_lambda, verbose=1, num_lambdas=5)"
   ]
  },
  {
   "cell_type": "code",
   "execution_count": 19,
   "metadata": {
    "collapsed": false,
    "scrolled": true
   },
   "outputs": [],
   "source": [
    "df.to_csv('path-f1-l2-lasso', index=True)"
   ]
  },
  {
   "cell_type": "code",
   "execution_count": 23,
   "metadata": {
    "collapsed": false,
    "scrolled": true
   },
   "outputs": [],
   "source": [
    "df_rec = pd.read_csv('path-f1-l2-lasso', index_col=0)"
   ]
  },
  {
   "cell_type": "code",
   "execution_count": 37,
   "metadata": {
    "collapsed": false
   },
   "outputs": [
    {
     "data": {
      "text/plain": [
       "<matplotlib.axes._subplots.AxesSubplot at 0x7f2d093c1690>"
      ]
     },
     "execution_count": 37,
     "metadata": {},
     "output_type": "execute_result"
    },
    {
     "data": {
      "image/png": "[encoded data removed]",
      "text/plain": [
       "<matplotlib.figure.Figure at 0x7f2d09388d90>"
      ]
     },
     "metadata": {},
     "output_type": "display_data"
    }
   ],
   "source": [
    "def get_selected_terms(group):\n",
    "    return len([i for i in group if i >= 10e-9]) # todo change to == 0.0!\n",
    "\n",
    "gb = df_rec.groupby(df_rec.index)\n",
    "fix, axs = plt.subplots(1,2)\n",
    "sns.heatmap(gb.aggregate(get_selected_terms).T, square=True, ax=axs[0])\n",
    "sns.heatmap(gb.aggregate(lambda g : np.linalg.norm(g)).T, square=True, ax=axs[1])"
   ]
  },
  {
   "cell_type": "code",
   "execution_count": 27,
   "metadata": {
    "collapsed": false
   },
   "outputs": [
    {
     "name": "stdout",
     "output_type": "stream",
     "text": [
      "\n"
     ]
    },
    {
     "data": {
      "text/plain": [
       "(<matplotlib.figure.Figure at 0x7f2d0c4a8390>,\n",
       " <matplotlib.axes._subplots.AxesSubplot at 0x7f2d09b23350>)"
      ]
     },
     "execution_count": 27,
     "metadata": {},
     "output_type": "execute_result"
    },
    {
     "data": {
      "image/png": "[encoded data removed]",
      "text/plain": [
       "<matplotlib.figure.Figure at 0x7f2d0c4a8390>"
      ]
     },
     "metadata": {},
     "output_type": "display_data"
    }
   ],
   "source": [
    "plot_weight_path(df_rec)"
   ]
  },
  {
   "cell_type": "code",
   "execution_count": 40,
   "metadata": {
    "collapsed": false
   },
   "outputs": [
    {
     "data": {
      "text/plain": [
       "<matplotlib.axes._subplots.AxesSubplot at 0x7f2d08c18c10>"
      ]
     },
     "execution_count": 40,
     "metadata": {},
     "output_type": "execute_result"
    },
    {
     "data": {
      "image/png": "[encoded data removed]",
      "text/plain": [
       "<matplotlib.figure.Figure at 0x7f2d08c22050>"
      ]
     },
     "metadata": {},
     "output_type": "display_data"
    }
   ],
   "source": [
    "sns.barplot(data=gb.aggregate(get_selected_terms).T)"
   ]
  },
  {
   "cell_type": "code",
   "execution_count": 41,
   "metadata": {
    "collapsed": false
   },
   "outputs": [
    {
     "data": {
      "text/plain": [
       "<matplotlib.axes._subplots.AxesSubplot at 0x7f2d08a0a810>"
      ]
     },
     "execution_count": 41,
     "metadata": {},
     "output_type": "execute_result"
    },
    {
     "data": {
      "image/png": "[encoded data removed]",
      "text/plain": [
       "<matplotlib.figure.Figure at 0x7f2d08c0a1d0>"
      ]
     },
     "metadata": {},
     "output_type": "display_data"
    }
   ],
   "source": [
    "sns.barplot(data=gb.aggregate(lambda g : np.linalg.norm(g)).T)"
   ]
  },
  {
   "cell_type": "code",
   "execution_count": 42,
   "metadata": {
    "collapsed": false
   },
   "outputs": [
    {
     "data": {
      "text/html": [
       "<div>\n",
       "<table border=\"1\" class=\"dataframe\">\n",
       "  <thead>\n",
       "    <tr style=\"text-align: right;\">\n",
       "      <th></th>\n",
       "      <th>144088.200251</th>\n",
       "      <th>25622.9079735</th>\n",
       "      <th>4556.46896746</th>\n",
       "      <th>810.267494732</th>\n",
       "      <th>144.088200251</th>\n",
       "    </tr>\n",
       "  </thead>\n",
       "  <tbody>\n",
       "    <tr>\n",
       "      <th>bias</th>\n",
       "      <td>1.105832e-09</td>\n",
       "      <td>11.196050</td>\n",
       "      <td>10.660967</td>\n",
       "      <td>13.820141</td>\n",
       "      <td>14.508066</td>\n",
       "    </tr>\n",
       "    <tr>\n",
       "      <th>x1</th>\n",
       "      <td>0.000000e+00</td>\n",
       "      <td>0.000000</td>\n",
       "      <td>-1.071481</td>\n",
       "      <td>-2.888492</td>\n",
       "      <td>-3.215359</td>\n",
       "    </tr>\n",
       "    <tr>\n",
       "      <th>x1</th>\n",
       "      <td>0.000000e+00</td>\n",
       "      <td>0.000000</td>\n",
       "      <td>0.878723</td>\n",
       "      <td>0.262971</td>\n",
       "      <td>0.151138</td>\n",
       "    </tr>\n",
       "    <tr>\n",
       "      <th>x2</th>\n",
       "      <td>0.000000e+00</td>\n",
       "      <td>0.000000</td>\n",
       "      <td>-1.268033</td>\n",
       "      <td>-2.961850</td>\n",
       "      <td>-3.265104</td>\n",
       "    </tr>\n",
       "    <tr>\n",
       "      <th>x2</th>\n",
       "      <td>0.000000e+00</td>\n",
       "      <td>0.000000</td>\n",
       "      <td>0.810972</td>\n",
       "      <td>0.211693</td>\n",
       "      <td>0.101781</td>\n",
       "    </tr>\n",
       "    <tr>\n",
       "      <th>x3</th>\n",
       "      <td>0.000000e+00</td>\n",
       "      <td>0.000000</td>\n",
       "      <td>1.066310</td>\n",
       "      <td>2.276007</td>\n",
       "      <td>2.492661</td>\n",
       "    </tr>\n",
       "    <tr>\n",
       "      <th>x3</th>\n",
       "      <td>0.000000e+00</td>\n",
       "      <td>0.000000</td>\n",
       "      <td>0.991382</td>\n",
       "      <td>2.085210</td>\n",
       "      <td>2.281277</td>\n",
       "    </tr>\n",
       "    <tr>\n",
       "      <th>x4</th>\n",
       "      <td>0.000000e+00</td>\n",
       "      <td>0.000000</td>\n",
       "      <td>-0.218399</td>\n",
       "      <td>-1.975707</td>\n",
       "      <td>-2.286800</td>\n",
       "    </tr>\n",
       "    <tr>\n",
       "      <th>x4</th>\n",
       "      <td>0.000000e+00</td>\n",
       "      <td>1.219266</td>\n",
       "      <td>3.339038</td>\n",
       "      <td>2.717041</td>\n",
       "      <td>2.605657</td>\n",
       "    </tr>\n",
       "    <tr>\n",
       "      <th>x5</th>\n",
       "      <td>0.000000e+00</td>\n",
       "      <td>0.000000</td>\n",
       "      <td>0.000000</td>\n",
       "      <td>-0.854603</td>\n",
       "      <td>-1.167432</td>\n",
       "    </tr>\n",
       "    <tr>\n",
       "      <th>x5</th>\n",
       "      <td>0.000000e+00</td>\n",
       "      <td>0.000000</td>\n",
       "      <td>1.501960</td>\n",
       "      <td>1.387485</td>\n",
       "      <td>1.272340</td>\n",
       "    </tr>\n",
       "    <tr>\n",
       "      <th>x6</th>\n",
       "      <td>0.000000e+00</td>\n",
       "      <td>0.000000</td>\n",
       "      <td>0.000000</td>\n",
       "      <td>0.000000</td>\n",
       "      <td>0.000000</td>\n",
       "    </tr>\n",
       "    <tr>\n",
       "      <th>x6</th>\n",
       "      <td>0.000000e+00</td>\n",
       "      <td>0.000000</td>\n",
       "      <td>0.000000</td>\n",
       "      <td>0.000000</td>\n",
       "      <td>0.000000</td>\n",
       "    </tr>\n",
       "    <tr>\n",
       "      <th>x7</th>\n",
       "      <td>0.000000e+00</td>\n",
       "      <td>0.000000</td>\n",
       "      <td>0.000000</td>\n",
       "      <td>0.000000</td>\n",
       "      <td>0.000000</td>\n",
       "    </tr>\n",
       "    <tr>\n",
       "      <th>x7</th>\n",
       "      <td>0.000000e+00</td>\n",
       "      <td>0.000000</td>\n",
       "      <td>0.000000</td>\n",
       "      <td>0.000000</td>\n",
       "      <td>0.000000</td>\n",
       "    </tr>\n",
       "    <tr>\n",
       "      <th>x8</th>\n",
       "      <td>0.000000e+00</td>\n",
       "      <td>0.000000</td>\n",
       "      <td>0.000000</td>\n",
       "      <td>0.000000</td>\n",
       "      <td>0.000000</td>\n",
       "    </tr>\n",
       "    <tr>\n",
       "      <th>x8</th>\n",
       "      <td>0.000000e+00</td>\n",
       "      <td>0.000000</td>\n",
       "      <td>0.000000</td>\n",
       "      <td>0.000000</td>\n",
       "      <td>0.010253</td>\n",
       "    </tr>\n",
       "    <tr>\n",
       "      <th>x9</th>\n",
       "      <td>0.000000e+00</td>\n",
       "      <td>0.000000</td>\n",
       "      <td>0.000000</td>\n",
       "      <td>0.000000</td>\n",
       "      <td>0.000000</td>\n",
       "    </tr>\n",
       "    <tr>\n",
       "      <th>x9</th>\n",
       "      <td>0.000000e+00</td>\n",
       "      <td>0.000000</td>\n",
       "      <td>0.000000</td>\n",
       "      <td>0.000000</td>\n",
       "      <td>0.000000</td>\n",
       "    </tr>\n",
       "    <tr>\n",
       "      <th>x10</th>\n",
       "      <td>0.000000e+00</td>\n",
       "      <td>0.000000</td>\n",
       "      <td>0.000000</td>\n",
       "      <td>0.000000</td>\n",
       "      <td>0.000000</td>\n",
       "    </tr>\n",
       "    <tr>\n",
       "      <th>x10</th>\n",
       "      <td>0.000000e+00</td>\n",
       "      <td>0.000000</td>\n",
       "      <td>0.000000</td>\n",
       "      <td>0.000000</td>\n",
       "      <td>0.000000</td>\n",
       "    </tr>\n",
       "  </tbody>\n",
       "</table>\n",
       "</div>"
      ],
      "text/plain": [
       "      144088.200251  25622.9079735  4556.46896746  810.267494732  \\\n",
       "bias   1.105832e-09      11.196050      10.660967      13.820141   \n",
       "x1     0.000000e+00       0.000000      -1.071481      -2.888492   \n",
       "x1     0.000000e+00       0.000000       0.878723       0.262971   \n",
       "x2     0.000000e+00       0.000000      -1.268033      -2.961850   \n",
       "x2     0.000000e+00       0.000000       0.810972       0.211693   \n",
       "x3     0.000000e+00       0.000000       1.066310       2.276007   \n",
       "x3     0.000000e+00       0.000000       0.991382       2.085210   \n",
       "x4     0.000000e+00       0.000000      -0.218399      -1.975707   \n",
       "x4     0.000000e+00       1.219266       3.339038       2.717041   \n",
       "x5     0.000000e+00       0.000000       0.000000      -0.854603   \n",
       "x5     0.000000e+00       0.000000       1.501960       1.387485   \n",
       "x6     0.000000e+00       0.000000       0.000000       0.000000   \n",
       "x6     0.000000e+00       0.000000       0.000000       0.000000   \n",
       "x7     0.000000e+00       0.000000       0.000000       0.000000   \n",
       "x7     0.000000e+00       0.000000       0.000000       0.000000   \n",
       "x8     0.000000e+00       0.000000       0.000000       0.000000   \n",
       "x8     0.000000e+00       0.000000       0.000000       0.000000   \n",
       "x9     0.000000e+00       0.000000       0.000000       0.000000   \n",
       "x9     0.000000e+00       0.000000       0.000000       0.000000   \n",
       "x10    0.000000e+00       0.000000       0.000000       0.000000   \n",
       "x10    0.000000e+00       0.000000       0.000000       0.000000   \n",
       "\n",
       "      144.088200251  \n",
       "bias      14.508066  \n",
       "x1        -3.215359  \n",
       "x1         0.151138  \n",
       "x2        -3.265104  \n",
       "x2         0.101781  \n",
       "x3         2.492661  \n",
       "x3         2.281277  \n",
       "x4        -2.286800  \n",
       "x4         2.605657  \n",
       "x5        -1.167432  \n",
       "x5         1.272340  \n",
       "x6         0.000000  \n",
       "x6         0.000000  \n",
       "x7         0.000000  \n",
       "x7         0.000000  \n",
       "x8         0.000000  \n",
       "x8         0.010253  \n",
       "x9         0.000000  \n",
       "x9         0.000000  \n",
       "x10        0.000000  \n",
       "x10        0.000000  "
      ]
     },
     "execution_count": 42,
     "metadata": {},
     "output_type": "execute_result"
    }
   ],
   "source": [
    "df_rec"
   ]
  },
  {
   "cell_type": "code",
   "execution_count": null,
   "metadata": {
    "collapsed": true
   },
   "outputs": [],
   "source": []
  }
 ],
 "metadata": {
  "kernelspec": {
   "display_name": "Python 2",
   "language": "python",
   "name": "python2"
  },
  "language_info": {
   "codemirror_mode": {
    "name": "ipython",
    "version": 2
   },
   "file_extension": ".py",
   "mimetype": "text/x-python",
   "name": "python",
   "nbconvert_exporter": "python",
   "pygments_lexer": "ipython2",
   "version": "2.7.11"
  }
 },
 "nbformat": 4,
 "nbformat_minor": 0
}
