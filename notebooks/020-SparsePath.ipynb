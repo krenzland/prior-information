{
 "cells": [
  {
   "cell_type": "code",
   "execution_count": 1,
   "metadata": {
    "collapsed": true
   },
   "outputs": [],
   "source": [
    "%matplotlib inline\n",
    "\n",
    "import sys, os\n",
    "sys.path.append(os.path.abspath(os.path.join('..', 'src/')))\n",
    "from sgpi.util import get_dataset, get_xy, get_r_squared, split, to_data_matrix\n",
    "from sgpi.plot import *\n",
    "\n",
    "from sgpi import model\n",
    "from sgpi.learner import SGRegressionLearner\n",
    "\n",
    "import pandas as pd\n",
    "import pysgpp as sg\n",
    "\n",
    "from scipy.sparse.linalg import LinearOperator, svds, aslinearoperator\n",
    "from scipy.linalg import svd"
   ]
  },
  {
   "cell_type": "code",
   "execution_count": 2,
   "metadata": {
    "collapsed": true
   },
   "outputs": [],
   "source": [
    "#TODO extract to its own file, is from 017-RegularizationHeat!\n",
    "def decode(num):\n",
    "    zeros = np.zeros(len(num)) + 0.5\n",
    "    return np.equal(zeros, num)\n",
    "\n",
    "def coords_to_pred(coords):\n",
    "    s = \"\"\n",
    "    for i, c in enumerate(coords):\n",
    "        if not c:\n",
    "            s = s + \"x{} \".format(i)\n",
    "    s = s.strip()\n",
    "    if s == \"\":\n",
    "        return \"bias\"\n",
    "    else:\n",
    "        s = s.replace(\" \", \"-\")\n",
    "        return s\n",
    "\n",
    "def group_weights_raw(grid):\n",
    "    storage = grid.getStorage()\n",
    "    dim = storage.getDimension()\n",
    "\n",
    "    coords = []\n",
    "    for x in range(0, grid.getSize()):\n",
    "        gen0 = storage.get(x)\n",
    "        curCoords = []\n",
    "        for i in range(0,dim):\n",
    "            curCoords.append(gen0.getCoord(i))\n",
    "        curCoords = np.array(curCoords)\n",
    "        coords.append(curCoords)\n",
    "\n",
    "\n",
    "    terms = {}\n",
    "    groups = {}\n",
    "    terms_nums = []\n",
    "    for num, r in enumerate(coords):\n",
    "        d = tuple(decode(r))\n",
    "        if d not in terms:\n",
    "            terms[d] = []\n",
    "            groups[d] = len(groups)\n",
    "        terms[d].append(num)\n",
    "        terms_nums.append(groups[d])\n",
    "    \n",
    "    return terms\n",
    "\n",
    "def group_weights_format(grid):\n",
    "    terms = group_weights_raw(grid)\n",
    "    return dict([(coords_to_pred(coords), terms[coords]) for coords in terms])\n",
    "\n",
    "def group_list(grid):\n",
    "    groups = group_weights_format(grid)\n",
    "    glist = [None] * (grid.getSize())\n",
    "    for group in groups:\n",
    "        for i in groups[group]:\n",
    "            glist[i] = group\n",
    "    return glist"
   ]
  },
  {
   "cell_type": "code",
   "execution_count": 3,
   "metadata": {
    "collapsed": false
   },
   "outputs": [],
   "source": [
    "def get_Phi(grid, X_train):\n",
    "    def eval_op(x, op, size):\n",
    "        result_vec = sg.DataVector(size)\n",
    "        x = sg.DataVector(np.array(x).flatten())\n",
    "        op.mult(x, result_vec)\n",
    "        return result_vec.array().copy()\n",
    "\n",
    "    def eval_op_transpose(x, op, size):\n",
    "        result_vec = sg.DataVector(size)  \n",
    "        x = sg.DataVector(np.array(x).flatten())\n",
    "        op.multTranspose(x, result_vec)\n",
    "        return result_vec.array().copy()\n",
    "\n",
    "    data_train = to_data_matrix(X_train)\n",
    "    data_test = to_data_matrix(X_test)\n",
    "\n",
    "    num_elem = X_train.shape[0]\n",
    "\n",
    "    op = sg.createOperationMultipleEval(grid, data_train)\n",
    "    matvec = lambda x: eval_op(x, op, num_elem)\n",
    "    rmatvec = lambda x: eval_op_transpose(x, op, grid.getSize())\n",
    "\n",
    "    shape = (num_elem, grid.getSize())\n",
    "    linop = LinearOperator(shape, matvec, rmatvec, dtype='float64')\n",
    "\n",
    "    y_sg = np.matrix(y_train).T\n",
    "    x_sg = np.matrix(np.zeros(grid.getSize())).transpose()\n",
    "    Phi = linop.matmat(np.matrix(np.identity(grid.getSize())))\n",
    "    return Phi"
   ]
  },
  {
   "cell_type": "code",
   "execution_count": 4,
   "metadata": {
    "collapsed": false
   },
   "outputs": [],
   "source": [
    "df = get_dataset('concrete')\n",
    "df_train, df_test = split(df)\n",
    "X_train, y_train = get_xy(df_train)\n",
    "X_test, y_test = get_xy(df_test)\n",
    "\n",
    "level = 2\n",
    "l1_ratio = 1.0"
   ]
  },
  {
   "cell_type": "code",
   "execution_count": 5,
   "metadata": {
    "collapsed": true
   },
   "outputs": [],
   "source": [
    "grid = sg.Grid.createModLinearGrid(X_train.shape[1])\n",
    "gen = grid.getGenerator()\n",
    "gen.regular(level)"
   ]
  },
  {
   "cell_type": "code",
   "execution_count": 6,
   "metadata": {
    "collapsed": false
   },
   "outputs": [],
   "source": [
    "Phi = get_Phi(grid, X_train)"
   ]
  },
  {
   "cell_type": "code",
   "execution_count": 7,
   "metadata": {
    "collapsed": false
   },
   "outputs": [],
   "source": [
    "def get_max_lambda(Phi, y, l1_ratio=1.0):\n",
    "    max_prod = 0\n",
    "    for i in range(0, grid.getSize()):\n",
    "        a = np.asarray(Phi[:,i]).flatten()\n",
    "        prod = np.inner(a, y)\n",
    "        max_prod = max(max_prod, prod)\n",
    "    max_lambda = max_prod/(l1_ratio)\n",
    "    return max_lambda"
   ]
  },
  {
   "cell_type": "code",
   "execution_count": 8,
   "metadata": {
    "collapsed": false
   },
   "outputs": [],
   "source": [
    "max_lambda = get_max_lambda(Phi, y_train, l1_ratio)"
   ]
  },
  {
   "cell_type": "code",
   "execution_count": 9,
   "metadata": {
    "collapsed": false
   },
   "outputs": [
    {
     "data": {
      "text/plain": [
       "(32261.689836957015, (824, 17), (824,), (824, 8))"
      ]
     },
     "execution_count": 9,
     "metadata": {},
     "output_type": "execute_result"
    }
   ],
   "source": [
    "max_lambda, Phi.shape, y_train.shape, X_train.shape"
   ]
  },
  {
   "cell_type": "code",
   "execution_count": 10,
   "metadata": {
    "collapsed": false
   },
   "outputs": [],
   "source": [
    "grid_config = model.GridConfig(type=6, level=level, T=0)\n",
    "adaptivity_config = model.AdaptivityConfig(num_refinements=0, no_points=0, treshold=0.0, percent=0.0)\n",
    "#reg_type = sg.RegularizationType_ElasticNet\n",
    "reg_type = sg.RegularizationType_GroupLasso\n",
    "solv_type = sg.SLESolverType_FISTA\n",
    "\n",
    "solver_config = model.SolverConfig(type=solv_type, max_iterations=400, epsilon=0, threshold=10e-8)\n",
    "final_solver_config = solver_config\n",
    "\n",
    "regularization_config = model.RegularizationConfig(type=reg_type, exponent_base=1, lambda_reg=max_lambda, l1_ratio=l1_ratio)\n",
    "\n",
    "estimator = SGRegressionLearner(grid_config, regularization_config, solver_config,\n",
    "                                final_solver_config, adaptivity_config)"
   ]
  },
  {
   "cell_type": "code",
   "execution_count": 11,
   "metadata": {
    "collapsed": false
   },
   "outputs": [],
   "source": [
    "estimator.fit(X_train, y_train)"
   ]
  },
  {
   "cell_type": "code",
   "execution_count": 12,
   "metadata": {
    "collapsed": false
   },
   "outputs": [
    {
     "data": {
      "text/plain": [
       "1524.0237676345744"
      ]
     },
     "execution_count": 12,
     "metadata": {},
     "output_type": "execute_result"
    }
   ],
   "source": [
    "-estimator.score(X_train, y_train)"
   ]
  },
  {
   "cell_type": "code",
   "execution_count": 13,
   "metadata": {
    "collapsed": false
   },
   "outputs": [
    {
     "data": {
      "text/plain": [
       "array([ 0.,  0.,  0.,  0.,  0.,  0.,  0.,  0.,  0.,  0.,  0.,  0.,  0.,\n",
       "        0.,  0.,  0.,  0.])"
      ]
     },
     "execution_count": 13,
     "metadata": {},
     "output_type": "execute_result"
    }
   ],
   "source": [
    "estimator.get_weights()"
   ]
  },
  {
   "cell_type": "code",
   "execution_count": 14,
   "metadata": {
    "collapsed": false
   },
   "outputs": [
    {
     "data": {
      "text/plain": [
       "(32.261689836957018,\n",
       " array([ 32261.68983696,  22428.09436717,  15591.84963605,  10839.34154606,\n",
       "          7535.43215813,   5238.57815242,   3641.82179377,   2531.76827599,\n",
       "          1760.06706706,   1223.58594581,    850.62813503,    591.3505517 ,\n",
       "           411.10264356,    285.79559629,    198.68303972,    138.12301794,\n",
       "            96.02212706,     66.753891  ,     46.40682414,     32.26168984]),\n",
       " 0.039152536209899294)"
      ]
     },
     "execution_count": 14,
     "metadata": {},
     "output_type": "execute_result"
    }
   ],
   "source": [
    "epsilon = 0.001\n",
    "num_lambdas = 20 #00\n",
    "min_lambda = epsilon * max_lambda\n",
    "lambda_grid = np.logspace(np.log10(max_lambda), np.log10(min_lambda), num=num_lambdas)\n",
    "min_lambda, lambda_grid, min_lambda/X_train.shape[0]"
   ]
  },
  {
   "cell_type": "code",
   "execution_count": 15,
   "metadata": {
    "collapsed": false
   },
   "outputs": [
    {
     "name": "stdout",
     "output_type": "stream",
     "text": [
      "Started training estimator 0\n",
      "Finished training estimator 0\n",
      "Started training estimator 1\n",
      "Finished training estimator 1\n",
      "Started training estimator 2\n",
      "Finished training estimator 2\n",
      "Started training estimator 3\n",
      "Finished training estimator 3\n",
      "Started training estimator 4\n",
      "Finished training estimator 4\n",
      "Started training estimator 5\n",
      "Finished training estimator 5\n",
      "Started training estimator 6\n",
      "Finished training estimator 6\n",
      "Started training estimator 7\n",
      "Finished training estimator 7\n",
      "Started training estimator 8\n",
      "Finished training estimator 8\n",
      "Started training estimator 9\n",
      "Finished training estimator 9\n",
      "Started training estimator 10\n",
      "Finished training estimator 10\n",
      "Started training estimator 11\n",
      "Finished training estimator 11\n",
      "Started training estimator 12\n",
      "Finished training estimator 12\n",
      "Started training estimator 13\n",
      "Finished training estimator 13\n",
      "Started training estimator 14\n",
      "Finished training estimator 14\n",
      "Started training estimator 15\n",
      "Finished training estimator 15\n",
      "Started training estimator 16\n",
      "Finished training estimator 16\n",
      "Started training estimator 17\n",
      "Finished training estimator 17\n",
      "Started training estimator 18\n",
      "Finished training estimator 18\n",
      "Started training estimator 19\n",
      "Finished training estimator 19\n"
     ]
    }
   ],
   "source": [
    "weights = []\n",
    "for i, lamb in enumerate(lambda_grid):\n",
    "    estimator.set_params(regularization_config__lambda_reg = lamb)\n",
    "    print \"Started training estimator {}\".format(i)\n",
    "    estimator.fit(X_train, y_train, estimator.get_weights()) # reuse old weights\n",
    "    print \"Finished training estimator {}\".format(i)\n",
    "    weights.append(estimator.get_weights())"
   ]
  },
  {
   "cell_type": "code",
   "execution_count": 26,
   "metadata": {
    "collapsed": false
   },
   "outputs": [],
   "source": [
    "df = pd.DataFrame(weights, index=lambda_grid)\n",
    "df = df.transpose()\n",
    "glist = group_list(grid)\n",
    "df['group'] = glist\n",
    "#df = df.div(df.abs().max(axis=0), axis=0)"
   ]
  },
  {
   "cell_type": "code",
   "execution_count": 27,
   "metadata": {
    "collapsed": false
   },
   "outputs": [
    {
     "data": {
      "image/png": "[encoded data removed]",
      "text/plain": [
       "<matplotlib.figure.Figure at 0x7f4fc6cdd7d0>"
      ]
     },
     "metadata": {},
     "output_type": "display_data"
    }
   ],
   "source": [
    "sns.set_palette(sns.color_palette(\"hls\", len(set(glist))))\n",
    "# ignore bias\n",
    "fig, ax = plt.subplots(figsize=(15,5))\n",
    "for group, data in df.groupby('group'):\n",
    "    data = data.values[0][0:-1]\n",
    "    ax.semilogx(lambda_grid, data, label=group)#c='grey')\n",
    "lambdas = [np.min(lambda_grid), np.median(lambda_grid), np.max(lambda_grid)]\n",
    "lambda_names = [l/X_train.shape[0] for l in lambdas]\n",
    "ax.tick_params()\n",
    "ax.set_xlabel(\"Lambda\")\n",
    "ax.set_ylabel(\"Weight\")\n",
    "ax.set_ylim(bottom=-15, top=20)\n",
    "ax.set_xlim(left=lambda_grid[-1], right=lambda_grid[0])\n",
    "ax.legend()\n",
    "sns.despine(fig, ax)\n"
   ]
  },
  {
   "cell_type": "code",
   "execution_count": null,
   "metadata": {
    "collapsed": false
   },
   "outputs": [],
   "source": []
  },
  {
   "cell_type": "code",
   "execution_count": null,
   "metadata": {
    "collapsed": false
   },
   "outputs": [],
   "source": []
  },
  {
   "cell_type": "code",
   "execution_count": null,
   "metadata": {
    "collapsed": false
   },
   "outputs": [],
   "source": []
  },
  {
   "cell_type": "code",
   "execution_count": null,
   "metadata": {
    "collapsed": false
   },
   "outputs": [],
   "source": []
  },
  {
   "cell_type": "code",
   "execution_count": null,
   "metadata": {
    "collapsed": true
   },
   "outputs": [],
   "source": []
  }
 ],
 "metadata": {
  "kernelspec": {
   "display_name": "Python 2",
   "language": "python",
   "name": "python2"
  },
  "language_info": {
   "codemirror_mode": {
    "name": "ipython",
    "version": 2
   },
   "file_extension": ".py",
   "mimetype": "text/x-python",
   "name": "python",
   "nbconvert_exporter": "python",
   "pygments_lexer": "ipython2",
   "version": "2.7.11"
  }
 },
 "nbformat": 4,
 "nbformat_minor": 0
}
