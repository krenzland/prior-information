{
 "cells": [
  {
   "cell_type": "code",
   "execution_count": 328,
   "metadata": {
    "collapsed": false
   },
   "outputs": [],
   "source": [
    "import numpy as np\n",
    "from scipy.sparse.linalg import LinearOperator, svds\n",
    "from scipy.linalg import svd\n",
    "\n",
    "from pysgpp import DataMatrix, DataVector, createOperationMultipleEval, Grid\n",
    "from __future__ import division\n",
    "\n",
    "import sys, os\n",
    "\n",
    "sys.path.append(os.path.abspath(os.path.join('..', 'datasets/')))\n",
    "import tools"
   ]
  },
  {
   "cell_type": "code",
   "execution_count": 2,
   "metadata": {
    "collapsed": false
   },
   "outputs": [],
   "source": [
    "grid = Grid.createLinearGrid(4)\n",
    "gen = grid.getGenerator()\n",
    "storage = grid.getStorage()\n",
    "gen.regular(5)"
   ]
  },
  {
   "cell_type": "code",
   "execution_count": 3,
   "metadata": {
    "collapsed": false
   },
   "outputs": [],
   "source": [
    "def eval_op(x, op, size):\n",
    "    result_vec = DataVector(size)\n",
    "    x = DataVector(x.flatten())\n",
    "    op.mult(x, result_vec)\n",
    "    return result_vec.array().copy()\n",
    "\n",
    "def eval_op_transpose(x, op, size):\n",
    "    result_vec = DataVector(size)  \n",
    "    x = DataVector(x.flatten())\n",
    "    op.multTranspose(x, result_vec)\n",
    "    return result_vec.array().copy()\n",
    "\n",
    "\n",
    "data = np.random.random((10000,4))\n",
    "data_set = tools.to_data_matrix(data)\n",
    "\n",
    "num_elem = data.shape[0]\n",
    "\n",
    "op = createOperationMultipleEval(grid, data_set)\n",
    "matvec = lambda x: eval_op(x, op, num_elem)\n",
    "rmatvec = lambda x: eval_op_transpose(x, op, grid.getSize())\n",
    "shape = (num_elem, grid.getSize())\n",
    "linop = LinearOperator(shape, matvec, rmatvec, dtype='float64')"
   ]
  },
  {
   "cell_type": "code",
   "execution_count": 4,
   "metadata": {
    "collapsed": false,
    "scrolled": true
   },
   "outputs": [
    {
     "data": {
      "text/plain": [
       "array([ 11.17666591,  12.04285912,  12.23893054,  12.28622521,\n",
       "        12.53643802,  16.98986957,  17.45206982,  17.56760379,\n",
       "        17.76053682,  27.12652157])"
      ]
     },
     "execution_count": 4,
     "metadata": {},
     "output_type": "execute_result"
    }
   ],
   "source": [
    "u, s, v = svds(linop, k=10)\n",
    "s"
   ]
  },
  {
   "cell_type": "markdown",
   "metadata": {},
   "source": [
    "#FISTA\n",
    "\n",
    "## Proximal operator & splitting\n",
    "\n",
    "(see proximal algorithms boyd)\n",
    "\n",
    "$$\n",
    "f(x) = (1/2)\\Vert Ax - b \\Vert_2^2, \\qquad g(x) = \\lambda \\Vert x \\Vert_1 \\\\\n",
    "\\nabla f(x) = A^\\text{T}(Ax-b) \\\\\n",
    "\\text{prox}_{\\lambda g}(x) = ( x - \\lambda)_+ - (-x - \\lambda)_+\n",
    "\\\\\n",
    "$$"
   ]
  },
  {
   "cell_type": "code",
   "execution_count": 355,
   "metadata": {
    "collapsed": false
   },
   "outputs": [],
   "source": [
    "def proximal_l1(x, alpha):\n",
    "    return np.multiply(np.maximum(np.abs(x) - alpha, np.zeros(x.shape)), np.sign(x))\n",
    "\n",
    "def gradient(A, x, b):\n",
    "    return A.transpose() * (A * x - b)\n",
    "\n",
    "def get_stepsize(A):\n",
    "    singular_values = svd(A, compute_uv=False)\n",
    "    max_sval_A = singular_values.max()\n",
    "    max_eigen_AA_t = max_sval_A * max_sval_A\n",
    "    return 1.0/(2*max_eigen_AA_t)\n",
    "\n",
    "def get_residual(A, x, b):\n",
    "    res = A * x - b\n",
    "    res = np.multiply(res, res)\n",
    "    return res.sum()\n",
    "\n",
    "def ista(A, x_start, num_it, lambda_reg, b):\n",
    "    x_k = x_start\n",
    "    stepsize = get_stepsize(A)\n",
    "    for i in xrange(1,num_it+1):\n",
    "        x_k = proximal_l1(x_k - stepsize * gradient(A, x_k, b), lambda_reg * stepsize)\n",
    "        if i % (num_it/10) == 0:\n",
    "            residual = get_residual(A, x_k, b)\n",
    "            print \"Iteration {}\\t with residual of {}\".format(i, residual)\n",
    "    return x_k\n",
    "\n",
    "def fista(A, x_start, num_it, lambda_reg, b):\n",
    "    stepsize = get_stepsize(A)\n",
    "    x_k = x_start\n",
    "    y_k = x_k.copy()\n",
    "    t_k = 1.0\n",
    "    for i in xrange(1,num_it+1):\n",
    "        x_before = x_k.copy()\n",
    "        x_k = proximal_l1(y_k - stepsize * gradient(A, y_k, b), lambda_reg * stepsize)\n",
    "        \n",
    "        t_before = t_k\n",
    "        t_k = (1 + np.sqrt(1 + 4 * t_before**2))/2\n",
    "        \n",
    "        y_k = x_k + ((t_before - 1)/(t_k)) * (x_k - x_before)\n",
    "        if i % (num_it/10) == 0:\n",
    "            residual = get_residual(A, x_k, b)\n",
    "            print \"Iteration {}\\t with residual of {}\".format(i, residual)\n",
    "    return x_k"
   ]
  },
  {
   "cell_type": "code",
   "execution_count": 389,
   "metadata": {
    "collapsed": false
   },
   "outputs": [],
   "source": [
    "A = np.matrix(np.random.rand(1000,800))\n",
    "x = np.matrix(np.zeros((800,1)))\n",
    "b = np.matrix(np.random.rand(1000,1))\n",
    "lambda_reg = 0.0001"
   ]
  },
  {
   "cell_type": "code",
   "execution_count": 390,
   "metadata": {
    "collapsed": false
   },
   "outputs": [
    {
     "data": {
      "text/plain": [
       "400655.84587203903"
      ]
     },
     "execution_count": 390,
     "metadata": {},
     "output_type": "execute_result"
    }
   ],
   "source": [
    "2*svd(A, compute_uv=False).max()**2"
   ]
  },
  {
   "cell_type": "code",
   "execution_count": 391,
   "metadata": {
    "collapsed": false
   },
   "outputs": [
    {
     "name": "stdout",
     "output_type": "stream",
     "text": [
      "Iteration 1000\t with residual of 61.1701624071\n",
      "Iteration 2000\t with residual of 50.8026638102\n",
      "Iteration 3000\t with residual of 44.7344170053\n",
      "Iteration 4000\t with residual of 40.7795080469\n",
      "Iteration 5000\t with residual of 37.9856640046\n",
      "Iteration 6000\t with residual of 35.8936490079\n",
      "Iteration 7000\t with residual of 34.259370125\n",
      "Iteration 8000\t with residual of 32.9415263753\n",
      "Iteration 9000\t with residual of 31.8523833703\n",
      "Iteration 10000\t with residual of 30.9343565576\n"
     ]
    }
   ],
   "source": [
    "x_ista = ista(A, x, 10000, lambda_reg, b)"
   ]
  },
  {
   "cell_type": "code",
   "execution_count": 392,
   "metadata": {
    "collapsed": false
   },
   "outputs": [
    {
     "name": "stdout",
     "output_type": "stream",
     "text": [
      "Iteration 1000\t with residual of 19.6197462981\n",
      "Iteration 2000\t with residual of 18.7140978412\n",
      "Iteration 3000\t with residual of 18.6768730249\n",
      "Iteration 4000\t with residual of 18.6587703128\n",
      "Iteration 5000\t with residual of 18.6541043312\n",
      "Iteration 6000\t with residual of 18.6520234856\n",
      "Iteration 7000\t with residual of 18.6502371263\n",
      "Iteration 8000\t with residual of 18.6505236215\n",
      "Iteration 9000\t with residual of 18.6496238376\n",
      "Iteration 10000\t with residual of 18.6497038547\n"
     ]
    }
   ],
   "source": [
    "x_fista = fista(A,x,10000,lambda_reg,b)"
   ]
  },
  {
   "cell_type": "code",
   "execution_count": 379,
   "metadata": {
    "collapsed": false
   },
   "outputs": [
    {
     "data": {
      "text/plain": [
       "False"
      ]
     },
     "execution_count": 379,
     "metadata": {},
     "output_type": "execute_result"
    }
   ],
   "source": [
    "np.abs(get_residual(A, x_ista, b)) < np.abs(get_residual(A, x_fista, b))"
   ]
  },
  {
   "cell_type": "code",
   "execution_count": 380,
   "metadata": {
    "collapsed": false
   },
   "outputs": [
    {
     "data": {
      "text/plain": [
       "9638.4719014387247"
      ]
     },
     "execution_count": 380,
     "metadata": {},
     "output_type": "execute_result"
    }
   ],
   "source": [
    "numpy = np.linalg.lstsq(A, b)[0]\n",
    "get_residual(A, numpy, b)"
   ]
  },
  {
   "cell_type": "code",
   "execution_count": 381,
   "metadata": {
    "collapsed": false
   },
   "outputs": [
    {
     "data": {
      "text/plain": [
       "array([  2.01797253e+07,   2.73243337e+05,   2.65989906e+05,\n",
       "         2.56084049e+05,   2.44195196e+05,   2.21074940e+05,\n",
       "         2.16947226e+05,   2.09831153e+05,   1.98367715e+05,\n",
       "         1.93003334e+05,   1.86350927e+05,   1.79581606e+05,\n",
       "         1.71462447e+05,   1.63842880e+05,   1.57242659e+05,\n",
       "         1.47566496e+05,   1.41916978e+05,   1.38376058e+05,\n",
       "         1.35397613e+05,   1.32109914e+05,   1.25688277e+05,\n",
       "         1.21569081e+05,   1.19030076e+05,   1.17672474e+05,\n",
       "         1.10522029e+05,   1.08518068e+05,   1.06446094e+05,\n",
       "         1.01040764e+05,   9.73668844e+04,   9.39739776e+04,\n",
       "         9.35560143e+04,   8.95713146e+04,   8.71458351e+04,\n",
       "         8.39315454e+04,   8.23346911e+04,   8.03628094e+04,\n",
       "         7.49206826e+04,   7.38949819e+04,   6.89966112e+04,\n",
       "         6.42724439e+04,   6.15272563e+04,   5.88272565e+04,\n",
       "         5.70776098e+04,   5.48999147e+04,   5.12795282e+04,\n",
       "         5.02610457e+04,   4.54832725e+04,   4.34642918e+04,\n",
       "         3.93111617e+04,   3.77529198e+04,   3.67531570e+04,\n",
       "         3.50649955e+04,   3.42878411e+04,   3.19889615e+04,\n",
       "         3.02250230e+04,   2.91105852e+04,   2.62061823e+04,\n",
       "         2.34920470e+04,   2.25024342e+04,   2.03983720e+04,\n",
       "         9.80581881e+02,   1.83655719e+03,   1.96446236e+03,\n",
       "         2.83571248e+03,   3.54009601e+03,   4.45884416e+03,\n",
       "         4.90537187e+03,   5.15690716e+03,   1.69785158e+04,\n",
       "         6.51859276e+03,   7.17415066e+03,   8.72483653e+03,\n",
       "         1.61403759e+04,   1.00571774e+04,   1.09883240e+04,\n",
       "         1.41810672e+04,   1.19900381e+04,   1.22765093e+04,\n",
       "         1.29879135e+04,   1.36455714e+04])"
      ]
     },
     "execution_count": 381,
     "metadata": {},
     "output_type": "execute_result"
    }
   ],
   "source": [
    "from scipy.linalg import eig\n",
    "np.abs(eig(A.transpose()*A)[0])\n"
   ]
  },
  {
   "cell_type": "code",
   "execution_count": null,
   "metadata": {
    "collapsed": false
   },
   "outputs": [],
   "source": []
  },
  {
   "cell_type": "code",
   "execution_count": null,
   "metadata": {
    "collapsed": true
   },
   "outputs": [],
   "source": []
  }
 ],
 "metadata": {
  "kernelspec": {
   "display_name": "Python 2",
   "language": "python",
   "name": "python2"
  },
  "language_info": {
   "codemirror_mode": {
    "name": "ipython",
    "version": 2
   },
   "file_extension": ".py",
   "mimetype": "text/x-python",
   "name": "python",
   "nbconvert_exporter": "python",
   "pygments_lexer": "ipython2",
   "version": "2.7.10"
  }
 },
 "nbformat": 4,
 "nbformat_minor": 0
}
