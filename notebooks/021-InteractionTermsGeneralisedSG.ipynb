{
 "cells": [
  {
   "cell_type": "code",
   "execution_count": 1,
   "metadata": {
    "collapsed": true
   },
   "outputs": [],
   "source": [
    "%matplotlib inline\n",
    "\n",
    "import sys, os\n",
    "sys.path.append(os.path.abspath(os.path.join('..', 'src/')))\n",
    "from sgpi.plot import *\n",
    "\n",
    "import pandas as pd\n",
    "import pysgpp as sg"
   ]
  },
  {
   "cell_type": "code",
   "execution_count": 20,
   "metadata": {
    "collapsed": true
   },
   "outputs": [],
   "source": [
    "def get_terms_level(dim, level, T):\n",
    "    grid = sg.Grid.createModLinearGrid(dim)\n",
    "    gen = grid.getGenerator()\n",
    "    gen.regular(level, T)\n",
    "    storage = grid.getStorage()\n",
    "    terms = {}\n",
    "    print grid.getSize()\n",
    "    for i in range(0, grid.getSize()):\n",
    "        p = storage.get(i)\n",
    "        num = 0\n",
    "        for d in range(0,dim):\n",
    "            if p.getCoord(d) != 0.5:\n",
    "                num += 1\n",
    "        if num not in terms:\n",
    "            terms[num] = 0\n",
    "        terms[num] = terms[num] + 1\n",
    "    return terms"
   ]
  },
  {
   "cell_type": "code",
   "execution_count": 21,
   "metadata": {
    "collapsed": false
   },
   "outputs": [
    {
     "name": "stdout",
     "output_type": "stream",
     "text": [
      "923521\n",
      "769\n",
      "241\n",
      "145\n",
      "121\n"
     ]
    }
   ],
   "source": [
    "#TODO: Drop bias!\n",
    "dim = 4\n",
    "level = 5\n",
    "Ts = [float('-inf'), 0.0, 0.4, 0.6, 1.0]\n",
    "terms = []\n",
    "for T in Ts:\n",
    "    t = get_terms_level(dim, level, T)\n",
    "    t['T'] = T\n",
    "    terms.append(t)\n",
    "df = pd.DataFrame(terms)\n",
    "df = pd.melt(df, id_vars=['T'], value_vars=[0, 1, 2, 3, 4], var_name='order', value_name='num').dropna()\n",
    "df = df[df['order'] != 0] # ignore bias"
   ]
  },
  {
   "cell_type": "code",
   "execution_count": 22,
   "metadata": {
    "collapsed": false,
    "scrolled": true
   },
   "outputs": [
    {
     "data": {
      "image/png": "[encoded data removed]",
      "text/plain": [
       "<matplotlib.figure.Figure at 0x7f43d9755c10>"
      ]
     },
     "metadata": {},
     "output_type": "display_data"
    }
   ],
   "source": [
    "fig, ax = plt.subplots(figsize=figsize(scale=0.9))\n",
    "axs = sns.barplot(x='T', y='num', hue='order', order=Ts, data=df, ax=ax, palette='Paired')\n",
    "#Show dotted line that emphasizes that the amount of terms with order 1 stays the same\n",
    "order_one_n = df[df['order'] == 1]['num'].values[0]\n",
    "ax.axhline(order_one_n, c='black', linestyle='dashed')\n",
    "ax.set_ylabel(r\"$\\vert V^T_5 \\vert$\")\n",
    "ax.set_xlabel(r\"$T$\")\n",
    "ax.set_yscale('log')\n",
    "legend = ax.legend(title=\"Order of terms\")\n",
    "plt.setp(legend.get_title(),fontsize=10)\n",
    "sns.despine(fig)\n",
    "fig.subplots_adjust(bottom=0.15, left=0.15)\n",
    "fig.savefig(\"../writing/thesis/figures/interactionT.pdf\")"
   ]
  },
  {
   "cell_type": "code",
   "execution_count": 13,
   "metadata": {
    "collapsed": false
   },
   "outputs": [
    {
     "data": {
      "text/html": [
       "<div>\n",
       "<table border=\"1\" class=\"dataframe\">\n",
       "  <thead>\n",
       "    <tr style=\"text-align: right;\">\n",
       "      <th></th>\n",
       "      <th>T</th>\n",
       "      <th>order</th>\n",
       "      <th>num</th>\n",
       "    </tr>\n",
       "  </thead>\n",
       "  <tbody>\n",
       "    <tr>\n",
       "      <th>5</th>\n",
       "      <td>-inf</td>\n",
       "      <td>1</td>\n",
       "      <td>120.0</td>\n",
       "    </tr>\n",
       "    <tr>\n",
       "      <th>6</th>\n",
       "      <td>0.000000</td>\n",
       "      <td>1</td>\n",
       "      <td>120.0</td>\n",
       "    </tr>\n",
       "    <tr>\n",
       "      <th>7</th>\n",
       "      <td>0.400000</td>\n",
       "      <td>1</td>\n",
       "      <td>120.0</td>\n",
       "    </tr>\n",
       "    <tr>\n",
       "      <th>8</th>\n",
       "      <td>0.600000</td>\n",
       "      <td>1</td>\n",
       "      <td>120.0</td>\n",
       "    </tr>\n",
       "    <tr>\n",
       "      <th>9</th>\n",
       "      <td>1.000000</td>\n",
       "      <td>1</td>\n",
       "      <td>120.0</td>\n",
       "    </tr>\n",
       "    <tr>\n",
       "      <th>10</th>\n",
       "      <td>-inf</td>\n",
       "      <td>2</td>\n",
       "      <td>5400.0</td>\n",
       "    </tr>\n",
       "    <tr>\n",
       "      <th>11</th>\n",
       "      <td>0.000000</td>\n",
       "      <td>2</td>\n",
       "      <td>408.0</td>\n",
       "    </tr>\n",
       "    <tr>\n",
       "      <th>12</th>\n",
       "      <td>0.400000</td>\n",
       "      <td>2</td>\n",
       "      <td>120.0</td>\n",
       "    </tr>\n",
       "    <tr>\n",
       "      <th>13</th>\n",
       "      <td>0.600000</td>\n",
       "      <td>2</td>\n",
       "      <td>24.0</td>\n",
       "    </tr>\n",
       "    <tr>\n",
       "      <th>15</th>\n",
       "      <td>-inf</td>\n",
       "      <td>3</td>\n",
       "      <td>108000.0</td>\n",
       "    </tr>\n",
       "    <tr>\n",
       "      <th>16</th>\n",
       "      <td>0.000000</td>\n",
       "      <td>3</td>\n",
       "      <td>224.0</td>\n",
       "    </tr>\n",
       "    <tr>\n",
       "      <th>20</th>\n",
       "      <td>-inf</td>\n",
       "      <td>4</td>\n",
       "      <td>810000.0</td>\n",
       "    </tr>\n",
       "    <tr>\n",
       "      <th>21</th>\n",
       "      <td>0.000000</td>\n",
       "      <td>4</td>\n",
       "      <td>16.0</td>\n",
       "    </tr>\n",
       "  </tbody>\n",
       "</table>\n",
       "</div>"
      ],
      "text/plain": [
       "           T order       num\n",
       "5       -inf     1     120.0\n",
       "6   0.000000     1     120.0\n",
       "7   0.400000     1     120.0\n",
       "8   0.600000     1     120.0\n",
       "9   1.000000     1     120.0\n",
       "10      -inf     2    5400.0\n",
       "11  0.000000     2     408.0\n",
       "12  0.400000     2     120.0\n",
       "13  0.600000     2      24.0\n",
       "15      -inf     3  108000.0\n",
       "16  0.000000     3     224.0\n",
       "20      -inf     4  810000.0\n",
       "21  0.000000     4      16.0"
      ]
     },
     "execution_count": 13,
     "metadata": {},
     "output_type": "execute_result"
    }
   ],
   "source": [
    "df"
   ]
  },
  {
   "cell_type": "code",
   "execution_count": null,
   "metadata": {
    "collapsed": false
   },
   "outputs": [],
   "source": []
  },
  {
   "cell_type": "code",
   "execution_count": null,
   "metadata": {
    "collapsed": true
   },
   "outputs": [],
   "source": []
  }
 ],
 "metadata": {
  "kernelspec": {
   "display_name": "Python 2",
   "language": "python",
   "name": "python2"
  },
  "language_info": {
   "codemirror_mode": {
    "name": "ipython",
    "version": 2
   },
   "file_extension": ".py",
   "mimetype": "text/x-python",
   "name": "python",
   "nbconvert_exporter": "python",
   "pygments_lexer": "ipython2",
   "version": "2.7.11"
  }
 },
 "nbformat": 4,
 "nbformat_minor": 0
}
