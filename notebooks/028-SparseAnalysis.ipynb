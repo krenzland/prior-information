{
 "cells": [
  {
   "cell_type": "code",
   "execution_count": 1,
   "metadata": {
    "collapsed": false
   },
   "outputs": [],
   "source": [
    "%matplotlib inline\n",
    "\n",
    "import sys, os\n",
    "sys.path.append(os.path.abspath(os.path.join('..', 'src/')))\n",
    "from sgpi.util import get_dataset, get_xy, get_r_squared, split, to_data_matrix\n",
    "\n",
    "from sgpi import model\n",
    "from sgpi.learner import SGRegressionLearner\n",
    "import sqlalchemy as sa\n",
    "from sqlalchemy import orm, func, or_, and_\n",
    "\n",
    "from sgpi.plot import *\n",
    "\n",
    "import pandas as pd\n",
    "import pysgpp as sg; sg.omp_set_num_threads(4)"
   ]
  },
  {
   "cell_type": "code",
   "execution_count": null,
   "metadata": {
    "collapsed": false
   },
   "outputs": [],
   "source": []
  },
  {
   "cell_type": "code",
   "execution_count": null,
   "metadata": {
    "collapsed": true
   },
   "outputs": [],
   "source": []
  },
  {
   "cell_type": "code",
   "execution_count": 8,
   "metadata": {
    "collapsed": false
   },
   "outputs": [],
   "source": [
    "def results_for_level():\n",
    "    ses = model.make_session()\n",
    "    results = ses.query(model.Result, func.min(model.Result.validation_mse)).\\\n",
    "        join(model.RegularizationConfig).\\\n",
    "        join(model.Experiment).\\\n",
    "        join(model.GridConfig).\\\n",
    "        filter(model.Result.experiment_id.between(40, 200)).\\\n",
    "        filter(or_(model.RegularizationConfig.type == sg.RegularizationType_ElasticNet,\n",
    "                  model.RegularizationConfig.type == sg.RegularizationType_GroupLasso,\n",
    "                  model.RegularizationConfig.type == sg.RegularizationType_Lasso)).\\\n",
    "        filter(model.RegularizationConfig.l1_ratio != None).\\\n",
    "        filter(model.Experiment.dataset == 'concrete').\\\n",
    "        filter(model.GridConfig.level.between(4,5)).\\\n",
    "        group_by(model.Result.experiment_id).\\\n",
    "        order_by(model.GridConfig.level, model.Result.validation_mse)\n",
    "    return results"
   ]
  },
  {
   "cell_type": "markdown",
   "metadata": {
    "collapsed": false
   },
   "source": [
    "# Results missing:\n",
    "None"
   ]
  },
  {
   "cell_type": "code",
   "execution_count": 9,
   "metadata": {
    "collapsed": false
   },
   "outputs": [],
   "source": [
    "results_lasso = results_for_level()"
   ]
  },
  {
   "cell_type": "code",
   "execution_count": 10,
   "metadata": {
    "collapsed": false,
    "scrolled": true
   },
   "outputs": [
    {
     "name": "stdout",
     "output_type": "stream",
     "text": [
      "4 & Group Lasso & 1e-02 & 4.774 & 1385 & 3.133 & 4.032\\\\\n",
      "4 & Elastic Net ($\\lambda_2$ = 0.95) & 1e-02 & 4.868 & 1382 & 2.902 & 3.869\\\\\n",
      "4 & Lasso & 1e-02 & 4.884 & 1382 & 2.911 & 3.850\\\\\n",
      "4 & Elastic Net ($\\lambda_2$ = 0.5) & 1e-02 & 4.927 & 1384 & 3.077 & 4.046\\\\\n",
      "4 & Elastic Net ($\\lambda_2$ = 0.05) & 1e-03 & 5.060 & 1367 & 2.483 & 3.813\\\\\n",
      "5 & Lasso & 1e-02 & 4.582 & 6632 & 2.470 & 3.737\\\\\n",
      "5 & Elastic Net ($\\lambda_2$ = 0.95) & 1e-02 & 4.594 & 6632 & 2.460 & 3.742\\\\\n",
      "5 & Lasso & 5e+00 & 4.637 & 6401 & 2.216 & 3.759\\\\\n",
      "5 & Group Lasso & 1e-02 & 4.650 & 6694 & 2.861 & 3.955\\\\\n",
      "5 & Elastic Net ($\\lambda_2$ = 0.5) & 1e-02 & 4.669 & 6633 & 2.400 & 3.844\\\\\n",
      "5 & Elastic Net ($\\lambda_2$ = 0.05) & 1e-02 & 4.730 & 6648 & 2.297 & 4.085\\\\\n",
      "5 & Elastic Net ($\\lambda_2$ = 0.95) & 1e-02 & 5.024 & 1461 & 3.330 & 4.523\\\\\n",
      "5 & Elastic Net ($\\lambda_2$ = 0.5) & 1e-02 & 5.039 & 1461 & 3.498 & 4.460\\\\\n",
      "5 & Elastic Net ($\\lambda_2$ = 0.05) & 1e-03 & 5.045 & 1461 & 2.736 & 4.218\\\\\n",
      "5 & Elastic Net ($\\lambda_2$ = 0.95) & 1e+00 & 9.964 & 6688 & 9.604 & 9.797\\\\\n"
     ]
    }
   ],
   "source": [
    "def type_to_str(type, l1_ratio):\n",
    "    if type == sg.RegularizationType_ElasticNet:\n",
    "        if l1_ratio == 1.0:\n",
    "            return \"Lasso\"\n",
    "        return \"Elastic Net ($\\\\lambda_2$ = {})\".format(l1_ratio)\n",
    "    types = {sg.RegularizationType_GroupLasso: 'Group Lasso'}\n",
    "    return types[type]\n",
    "\n",
    "#for res, mse in results_lasso:\n",
    "#    print \"{}, {}, {:2.3e}, {:2.6f}\".format(res.grid_config.level, type_to_str(res.regularization_config.type, res.regularization_config.l1_ratio),\\\n",
    "#                                       res.regularization_config.lambda_reg, mse)\n",
    "    \n",
    "for res, mse in results_lasso:\n",
    "    reg_type = type_to_str(res.regularization_config.type, res.regularization_config.l1_ratio)\n",
    "    print \"{} & {} & {:1.0e} & {:2.3f} & {} & {:2.3f} & {:2.3f}\\\\\\\\\".\\\n",
    "        format(res.grid_config.level, reg_type, res.regularization_config.lambda_reg,\n",
    "                np.sqrt(res.validation_mse), int(res.train_grid_points), np.sqrt(res.train_mse), np.sqrt(res.test_mse))"
   ]
  },
  {
   "cell_type": "code",
   "execution_count": 115,
   "metadata": {
    "collapsed": false
   },
   "outputs": [
    {
     "data": {
      "text/html": [
       "<div>\n",
       "<table border=\"1\" class=\"dataframe\">\n",
       "  <thead>\n",
       "    <tr style=\"text-align: right;\">\n",
       "      <th></th>\n",
       "      <th>0</th>\n",
       "      <th>1</th>\n",
       "    </tr>\n",
       "  </thead>\n",
       "  <tbody>\n",
       "    <tr>\n",
       "      <th>0</th>\n",
       "      <td>1.0</td>\n",
       "      <td>99.278064</td>\n",
       "    </tr>\n",
       "  </tbody>\n",
       "</table>\n",
       "</div>"
      ],
      "text/plain": [
       "     0          1\n",
       "0  1.0  99.278064"
      ]
     },
     "execution_count": 115,
     "metadata": {},
     "output_type": "execute_result"
    }
   ],
   "source": [
    "pd.DataFrame(np.vstack((x,y)).T)"
   ]
  },
  {
   "cell_type": "code",
   "execution_count": 28,
   "metadata": {
    "collapsed": false
   },
   "outputs": [
    {
     "name": "stdout",
     "output_type": "stream",
     "text": [
      "75\n",
      "40\n",
      "76\n",
      "74\n"
     ]
    }
   ],
   "source": [
    "for res, mse in results_lasso:\n",
    "    print res.experiment_id"
   ]
  },
  {
   "cell_type": "code",
   "execution_count": 29,
   "metadata": {
    "collapsed": true
   },
   "outputs": [],
   "source": [
    "ses = model.make_session()"
   ]
  },
  {
   "cell_type": "code",
   "execution_count": 41,
   "metadata": {
    "collapsed": false
   },
   "outputs": [],
   "source": [
    "exp75 = ses.query(model.Result).filter(model.Result.experiment_id == 76).all()"
   ]
  },
  {
   "cell_type": "code",
   "execution_count": 44,
   "metadata": {
    "collapsed": false
   },
   "outputs": [
    {
     "name": "stdout",
     "output_type": "stream",
     "text": [
      "0.01\n",
      "0.01\n",
      "0.001\n",
      "0.001\n",
      "0.0001\n",
      "0.0001\n",
      "0.1\n",
      "0.1\n",
      "1.0\n",
      "1.0\n"
     ]
    }
   ],
   "source": [
    "for res in exp75:\n",
    "    print res.regularization_config.lambda_reg"
   ]
  },
  {
   "cell_type": "code",
   "execution_count": 54,
   "metadata": {
    "collapsed": false
   },
   "outputs": [
    {
     "name": "stdout",
     "output_type": "stream",
     "text": [
      "3 5\n"
     ]
    }
   ],
   "source": [
    "t = exp75[0].adaptivity_config\n",
    "print t.no_points, t.num_refinements"
   ]
  },
  {
   "cell_type": "code",
   "execution_count": 61,
   "metadata": {
    "collapsed": false
   },
   "outputs": [
    {
     "name": "stdout",
     "output_type": "stream",
     "text": [
      "0.000100\n"
     ]
    }
   ],
   "source": [
    "print \"{:f}\".format(10**(-4))"
   ]
  },
  {
   "cell_type": "code",
   "execution_count": null,
   "metadata": {
    "collapsed": true
   },
   "outputs": [],
   "source": []
  }
 ],
 "metadata": {
  "kernelspec": {
   "display_name": "Python 2",
   "language": "python",
   "name": "python2"
  },
  "language_info": {
   "codemirror_mode": {
    "name": "ipython",
    "version": 2
   },
   "file_extension": ".py",
   "mimetype": "text/x-python",
   "name": "python",
   "nbconvert_exporter": "python",
   "pygments_lexer": "ipython2",
   "version": "2.7.11"
  }
 },
 "nbformat": 4,
 "nbformat_minor": 0
}
