{
 "cells": [
  {
   "cell_type": "code",
   "execution_count": 1,
   "metadata": {
    "collapsed": true
   },
   "outputs": [],
   "source": [
    "%matplotlib inline\n",
    "\n",
    "import sys, os\n",
    "sys.path.append(os.path.abspath(os.path.join('..', 'src/')))\n",
    "from sgpi.plot import *\n",
    "\n",
    "import pandas as pd\n",
    "import pysgpp as sg\n",
    "\n",
    "from fractions import Fraction"
   ]
  },
  {
   "cell_type": "code",
   "execution_count": 2,
   "metadata": {
    "collapsed": true
   },
   "outputs": [],
   "source": [
    "def get_grid_points(grid):\n",
    "    storage = grid.getStorage()\n",
    "    indices = []\n",
    "    for i in range(0, grid.getSize()):\n",
    "        index = storage.get(i)\n",
    "        x_pos = index.getCoord(0)\n",
    "        y_pos = index.getCoord(1)\n",
    "        level_sum = index.getLevelSum()\n",
    "        dim = index.getDimension()\n",
    "        prior = 0.25**(level_sum-dim)\n",
    "        indices.append( (x_pos,y_pos, prior) )\n",
    "    return indices"
   ]
  },
  {
   "cell_type": "markdown",
   "metadata": {},
   "source": [
    "# Diagonal Grid\n",
    "1. Create grid.\n",
    "2. Find bias for each grid point.\n",
    "3. Plot grid, with each bias in dif. col."
   ]
  },
  {
   "cell_type": "code",
   "execution_count": 3,
   "metadata": {
    "collapsed": false
   },
   "outputs": [
    {
     "data": {
      "image/png": "[encoded data removed]",
      "text/plain": [
       "<matplotlib.figure.Figure at 0x7f68d06fd290>"
      ]
     },
     "metadata": {},
     "output_type": "display_data"
    }
   ],
   "source": [
    "c = sns.color_palette(\"colorblind\", 4)\n",
    "sns.palplot(c)"
   ]
  },
  {
   "cell_type": "code",
   "execution_count": 4,
   "metadata": {
    "collapsed": false
   },
   "outputs": [],
   "source": [
    "def plot_diagonal(level, T):\n",
    "    grid = sg.Grid.createModLinearGrid(2)\n",
    "    gen = grid.getGenerator()\n",
    "    gen.regular(level,T)\n",
    "    indices = get_grid_points(grid)\n",
    "    df = pd.DataFrame(indices, columns=['x', 'y', 'prior'])\n",
    "    \n",
    "    fig, ax = plt.subplots(figsize=(10, 10))\n",
    "    #ax.set_title(\"{} gridpoints for level = {} with T = {}\".format(size, level, T))\n",
    "    ax.set_axis_off()\n",
    "    ax.set(adjustable='box-forced', aspect='equal')\n",
    "    for i, (name, group) in enumerate(df.groupby('prior')):\n",
    "        sns.set_palette(sns.color_palette('Greens'))\n",
    "        ax.plot(group['x'], group['y'], label=Fraction(name), linewidth=0, marker='$ {} $'.format(Fraction(name)),\n",
    "            markersize=30, c=c[i])\n",
    "    return fig, ax"
   ]
  },
  {
   "cell_type": "code",
   "execution_count": 90,
   "metadata": {
    "collapsed": false
   },
   "outputs": [
    {
     "data": {
      "image/png": "[encoded data removed]",
      "text/plain": [
       "<matplotlib.figure.Figure at 0x7f4cd2ff1910>"
      ]
     },
     "metadata": {},
     "output_type": "display_data"
    }
   ],
   "source": [
    "fig, ax = plot_diagonal(4, 0)\n",
    "fig.savefig(\"../writing/thesis/figures/diagonal.pdf\", bbox='tight')"
   ]
  },
  {
   "cell_type": "markdown",
   "metadata": {
    "collapsed": false
   },
   "source": [
    "# Adaptivity\n",
    "1. Create grid.\n",
    "2. Save list of grid points.\n",
    "3. Adapt step.\n",
    "4. Save list of grid points, maybe go to 3.\n",
    "5. Plot grid, new points in diff. col\n"
   ]
  },
  {
   "cell_type": "code",
   "execution_count": 5,
   "metadata": {
    "collapsed": true
   },
   "outputs": [],
   "source": [
    "def get_random_weights(grid):\n",
    "    np.random.seed(42)\n",
    "    weights = np.random.random(grid.getSize())\n",
    "    return sg.DataVector(weights)\n",
    "\n",
    "def list_diff(a, b):\n",
    "        b = set(b)\n",
    "        return [i for i in a if i not in b]"
   ]
  },
  {
   "cell_type": "code",
   "execution_count": 6,
   "metadata": {
    "collapsed": false
   },
   "outputs": [],
   "source": [
    "def plot_refinement(level, num_points):\n",
    "    grid = sg.Grid.createModLinearGrid(2)\n",
    "    gen = grid.getGenerator()\n",
    "    gen.regular(level)\n",
    "    weights = get_random_weights(grid)\n",
    "\n",
    "    grid_0 = get_grid_points(grid)\n",
    "\n",
    "    adapt = sg.SurplusRefinementFunctor(weights, refinements_num=num_points)\n",
    "    gen.refine(adapt)\n",
    "    grid_1 = get_grid_points(grid)\n",
    "\n",
    "    gen.refine(adapt)\n",
    "    grid_2 = get_grid_points(grid)\n",
    "\n",
    "    fig, axs = plt.subplots(1, 3, sharex=True, sharey=True, figsize=(10,10))\n",
    "    for ax in axs:\n",
    "        ax.set_axis_off()\n",
    "        ax.set(adjustable='box-forced', aspect='equal')\n",
    "\n",
    "    args = {'marker': 'o',\n",
    "            's': 60,\n",
    "            'edgecolor': 'black',\n",
    "            'linewidth': '0'}    \n",
    "        \n",
    "    x, y, _ = zip(*grid_0)\n",
    "    axs[0].scatter(x, y, c='grey', **(args))\n",
    "    axs[1].scatter(x, y, c='grey', **args)\n",
    "    axs[2].scatter(x, y, c='grey', **args)\n",
    "\n",
    "\n",
    "    x, y, _ = zip(*list_diff(grid_1, grid_0))\n",
    "    axs[1].scatter(x, y, c='red', **args)\n",
    "    axs[2].scatter(x, y, c='grey', **args)\n",
    "\n",
    "    x, y, _ = zip(*list_diff(grid_2, grid_1))\n",
    "    axs[2].scatter(x, y, c='red', **args)\n",
    "    return fig, axs"
   ]
  },
  {
   "cell_type": "code",
   "execution_count": 7,
   "metadata": {
    "collapsed": false
   },
   "outputs": [
    {
     "data": {
      "image/png": "[encoded data removed]",
      "text/plain": [
       "<matplotlib.figure.Figure at 0x7f689d00a5d0>"
      ]
     },
     "metadata": {},
     "output_type": "display_data"
    }
   ],
   "source": [
    "fig, ax = plot_refinement(3, 1)\n",
    "fig.savefig(\"../writing/thesis/figures/adaptivity.pdf\", bbox='tight', bbox_inches='tight')"
   ]
  },
  {
   "cell_type": "code",
   "execution_count": 34,
   "metadata": {
    "collapsed": false
   },
   "outputs": [],
   "source": [
    "def plot_generalized(level, T, ax):\n",
    "    ax.set_axis_off()\n",
    "    ax.set(adjustable='box-forced', aspect='equal')\n",
    "    grid = sg.Grid.createModLinearGrid(2)\n",
    "    gen = grid.getGenerator()\n",
    "    gen.regular(level, T)\n",
    "    points = get_grid_points(grid)\n",
    "    x, y, _ = zip(*points)\n",
    "    ax.scatter(x,y, s=60, c='black')\n",
    "    ax.set(adjustable='box-forced', aspect='equal')\n",
    "    return fig, ax"
   ]
  },
  {
   "cell_type": "code",
   "execution_count": 35,
   "metadata": {
    "collapsed": false,
    "scrolled": false
   },
   "outputs": [
    {
     "data": {
      "image/png": "[encoded data removed]",
      "text/plain": [
       "<matplotlib.figure.Figure at 0x7f689cf77510>"
      ]
     },
     "metadata": {},
     "output_type": "display_data"
    },
    {
     "data": {
      "image/png": "[encoded data removed]",
      "text/plain": [
       "<matplotlib.figure.Figure at 0x7f689c4c8110>"
      ]
     },
     "metadata": {},
     "output_type": "display_data"
    },
    {
     "data": {
      "image/png": "[encoded data removed]",
      "text/plain": [
       "<matplotlib.figure.Figure at 0x7f689cf98090>"
      ]
     },
     "metadata": {},
     "output_type": "display_data"
    },
    {
     "data": {
      "image/png": "[encoded data removed]",
      "text/plain": [
       "<matplotlib.figure.Figure at 0x7f68a1f5b0d0>"
      ]
     },
     "metadata": {},
     "output_type": "display_data"
    }
   ],
   "source": [
    "for T in [float('-inf'), 0, 0.5, 1.0]:\n",
    "    fig, ax = plt.subplots(figsize=(5,10))\n",
    "    plot_generalized(4, T, ax)\n",
    "    fig.savefig(\"../writing/thesis/figures/grid_T{}.pdf\".format(T), bbox='tight', bbox_inches='tight')"
   ]
  },
  {
   "cell_type": "code",
   "execution_count": null,
   "metadata": {
    "collapsed": false
   },
   "outputs": [],
   "source": []
  },
  {
   "cell_type": "code",
   "execution_count": null,
   "metadata": {
    "collapsed": true
   },
   "outputs": [],
   "source": []
  }
 ],
 "metadata": {
  "kernelspec": {
   "display_name": "Python 2",
   "language": "python",
   "name": "python2"
  },
  "language_info": {
   "codemirror_mode": {
    "name": "ipython",
    "version": 2
   },
   "file_extension": ".py",
   "mimetype": "text/x-python",
   "name": "python",
   "nbconvert_exporter": "python",
   "pygments_lexer": "ipython2",
   "version": "2.7.11"
  }
 },
 "nbformat": 4,
 "nbformat_minor": 0
}
