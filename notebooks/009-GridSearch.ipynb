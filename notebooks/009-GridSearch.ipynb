{
 "cells": [
  {
   "cell_type": "code",
   "execution_count": 1,
   "metadata": {
    "collapsed": false
   },
   "outputs": [],
   "source": [
    "import pysgpp as sg\n",
    "import pandas as pd\n",
    "from math import sqrt\n",
    "from collections import namedtuple\n",
    "from operator import itemgetter\n",
    "from sklearn.externals.joblib import Parallel, delayed\n",
    "from sklearn.base import clone\n",
    "from sklearn.linear_model import Ridge, ElasticNet\n",
    "from sklearn.cross_validation import ShuffleSplit\n",
    "from sklearn.grid_search import ParameterGrid\n",
    "import itertools\n",
    "from copy import copy\n",
    "import numpy as np\n",
    "import sys\n",
    "sys.path.append(\"../src/\")\n",
    "from sgpi.learner import SGRegressionLearner, DataVector\n",
    "from sgpi import model\n",
    "from sgpi.util import get_dataset, get_xy, split"
   ]
  },
  {
   "cell_type": "code",
   "execution_count": 2,
   "metadata": {
    "collapsed": false
   },
   "outputs": [
    {
     "data": {
      "text/plain": [
       "numpy.ndarray"
      ]
     },
     "execution_count": 2,
     "metadata": {},
     "output_type": "execute_result"
    }
   ],
   "source": [
    "df = get_dataset('diag_test_low_noise')\n",
    "train, _ = split(df)\n",
    "X, y = get_xy(train)\n",
    "linear = ElasticNet(0.0010, l1_ratio=0.5)\n",
    "#Parallel(n_jobs=2)(delayed(sqrt)(i**2) for i in range(10))\n",
    "type(y)"
   ]
  },
  {
   "cell_type": "code",
   "execution_count": 3,
   "metadata": {
    "collapsed": false
   },
   "outputs": [
    {
     "data": {
      "text/plain": [
       "0.55932451980577813"
      ]
     },
     "execution_count": 3,
     "metadata": {},
     "output_type": "execute_result"
    }
   ],
   "source": [
    "linear.fit(X,y)\n",
    "linear.score(X,y)"
   ]
  },
  {
   "cell_type": "code",
   "execution_count": 4,
   "metadata": {
    "collapsed": false
   },
   "outputs": [],
   "source": [
    "cv = ShuffleSplit(100, n_iter=10)\n",
    "params = {'alpha': np.linspace(0, 0.1,num=50), 'l1_ratio': [0, 0.1, 0.5, 1.0]}"
   ]
  },
  {
   "cell_type": "code",
   "execution_count": 5,
   "metadata": {
    "collapsed": false
   },
   "outputs": [],
   "source": [
    "Grid_score = namedtuple('Grid_score', 'parameters mean_validation_score cv_validation_scores cv_grid_sizes')\n",
    "\n",
    "def evaluate_one(estimator, params, X, y, train, test):\n",
    "    train_X = X[train]\n",
    "    train_y = y[train]\n",
    "    test_X = X[test]\n",
    "    test_y = y[test]\n",
    "    grid_size = 2\n",
    "    estimator.set_params(**params)\n",
    "    estimator.fit(train_X,train_y)\n",
    "    error = estimator.score(test_X, test_y)\n",
    "    return (error, grid_size)\n",
    "\n",
    "def evaluate(estimator, params, cv, X, y):\n",
    "    cv_results = Parallel(\n",
    "                n_jobs=-2, verbose=0,\n",
    "                pre_dispatch=3\n",
    "             )(\n",
    "                delayed(evaluate_one)(clone(estimator), params, X, y, train, test)\n",
    "                    for (train, test) in cv)\n",
    "    errors = []\n",
    "    grid_sizes = []\n",
    "    for (err, size) in cv_results:\n",
    "        errors.append(err)\n",
    "        grid_sizes.append(size)       \n",
    "    return Grid_score(params, np.mean(errors), errors, grid_sizes)\n",
    "\n",
    "\n",
    "class GridSearch:\n",
    "    grid_scores_ = []\n",
    "\n",
    "    def __init__(self, estimator, param_grid, cv, verbose=1):\n",
    "        self.base_estimator_ = clone(estimator)\n",
    "        self.verbose_ = verbose\n",
    "        if not isinstance(param_grid, ParameterGrid):\n",
    "            param_grid = ParameterGrid(param_grid)\n",
    "\n",
    "            self.param_grid_ = param_grid\n",
    "        self.cv_ = cv\n",
    "\n",
    "    def fit(self, X, y):\n",
    "        base_estimator = clone(self.base_estimator_)\n",
    "        self.grid_scores_ = []\n",
    "        no_params = self.param_grid_.__len__()\n",
    "        for i, params in enumerate(self.param_grid_):\n",
    "            self.grid_scores_.append(evaluate(self.base_estimator_, params, self.cv_, X, y))\n",
    "            if (self.verbose_ > 0):\n",
    "                print(\"Trained estimator no. {}, {} remaining.\".format(i, no_params - i -1))\n",
    "        self.grid_scores_ = [evaluate(self.base_estimator_, params, self.cv_, X, y)\n",
    "                    for params in self.param_grid_]\n",
    "        return self\n"
   ]
  },
  {
   "cell_type": "code",
   "execution_count": 13,
   "metadata": {
    "collapsed": false
   },
   "outputs": [
    {
     "data": {
      "text/plain": [
       "-0.07203347818265914"
      ]
     },
     "execution_count": 13,
     "metadata": {},
     "output_type": "execute_result"
    }
   ],
   "source": [
    "level = 5\n",
    "T = 0\n",
    "\n",
    "grid_config = model.GridConfig(type=6, level=level, T=T)\n",
    "adaptivity_config = model.AdaptivityConfig(num_refinements=0, no_points=4, treshold=0.0, percent=0.0)\n",
    "solver_config = model.SolverConfig(type=0, max_iterations=100, epsilon=10e-3)\n",
    "final_solver_config = model.SolverConfig(type=0, max_iterations=20, epsilon=10e-6)\n",
    "regularization_config = model.RegularizationConfig(lambda_reg = 0.01, exponent_base=0.25, type=2)\n",
    "estimator = SGRegressionLearner(grid_config, regularization_config, solver_config, final_solver_config, adaptivity_config)\n",
    "\n",
    "lambda_grid = np.logspace(0, -3, num=4)\n",
    "params = {'regularization_config__lambda_reg': lambda_grid}\n",
    "cv = ShuffleSplit(X.shape[0], n_iter=10, random_state=42)\n",
    "gs = GridSearch(estimator, params, cv)\n",
    "\n",
    "estimator.fit(X,y)\n",
    "estimator.score(X,y)"
   ]
  },
  {
   "cell_type": "code",
   "execution_count": 14,
   "metadata": {
    "collapsed": false,
    "scrolled": true
   },
   "outputs": [
    {
     "name": "stdout",
     "output_type": "stream",
     "text": [
      "Trained estimator no. 0, 3 remaining.\n",
      "Trained estimator no. 1, 2 remaining.\n",
      "Trained estimator no. 2, 1 remaining.\n",
      "Trained estimator no. 3, 0 remaining.\n"
     ]
    },
    {
     "data": {
      "text/plain": [
       "<__main__.GridSearch instance at 0x7f607a0b3680>"
      ]
     },
     "execution_count": 14,
     "metadata": {},
     "output_type": "execute_result"
    }
   ],
   "source": [
    "gs.fit(X,y)"
   ]
  },
  {
   "cell_type": "code",
   "execution_count": 15,
   "metadata": {
    "collapsed": false
   },
   "outputs": [
    {
     "name": "stdout",
     "output_type": "stream",
     "text": [
      "Grid_score(parameters={'regularization_config__lambda_reg': 0.001}, mean_validation_score=-0.080919451149886121, cv_validation_scores=[-0.08130172914788128, -0.07248082250631492, -0.09185582689990607, -0.07720397269719728, -0.07073293768526753, -0.08498007261186415, -0.08430822808787497, -0.07262285573253834, -0.08013562332268766, -0.09357244280732907], cv_grid_sizes=[2, 2, 2, 2, 2, 2, 2, 2, 2, 2])\n",
      "Grid_score(parameters={'regularization_config__lambda_reg': 0.01}, mean_validation_score=-0.081160478003468109, cv_validation_scores=[-0.08169254905382808, -0.07215794256900201, -0.0922077908645528, -0.07713206294829147, -0.07062284226645257, -0.08537204473737199, -0.08464718292638386, -0.07311671970124027, -0.08102168963078736, -0.09363395533677071], cv_grid_sizes=[2, 2, 2, 2, 2, 2, 2, 2, 2, 2])\n",
      "Grid_score(parameters={'regularization_config__lambda_reg': 0.10000000000000001}, mean_validation_score=-0.085635659315753482, cv_validation_scores=[-0.08778341488275802, -0.07434730733696465, -0.09866358877029852, -0.0806774073089018, -0.07195507688531702, -0.08957143235376783, -0.08750179150986068, -0.07771739410389174, -0.09051958087797386, -0.0976195991278008], cv_grid_sizes=[2, 2, 2, 2, 2, 2, 2, 2, 2, 2])\n",
      "Grid_score(parameters={'regularization_config__lambda_reg': 1.0}, mean_validation_score=-0.10393355672795071, cv_validation_scores=[-0.11008259587711647, -0.0938665598102738, -0.11566506674010284, -0.08734749695159794, -0.08182473724131858, -0.10728819861099945, -0.10634818512586316, -0.09790341251572796, -0.12173032639206494, -0.11727898801444189], cv_grid_sizes=[2, 2, 2, 2, 2, 2, 2, 2, 2, 2])\n"
     ]
    }
   ],
   "source": [
    "for i in sorted(gs.grid_scores_, key=itemgetter(1), reverse=True):\n",
    "    print i"
   ]
  },
  {
   "cell_type": "code",
   "execution_count": null,
   "metadata": {
    "collapsed": false
   },
   "outputs": [],
   "source": []
  },
  {
   "cell_type": "code",
   "execution_count": null,
   "metadata": {
    "collapsed": false
   },
   "outputs": [],
   "source": []
  },
  {
   "cell_type": "code",
   "execution_count": null,
   "metadata": {
    "collapsed": false
   },
   "outputs": [],
   "source": []
  },
  {
   "cell_type": "code",
   "execution_count": null,
   "metadata": {
    "collapsed": false
   },
   "outputs": [],
   "source": []
  },
  {
   "cell_type": "code",
   "execution_count": null,
   "metadata": {
    "collapsed": true
   },
   "outputs": [],
   "source": []
  }
 ],
 "metadata": {
  "kernelspec": {
   "display_name": "Python 2",
   "language": "python",
   "name": "python2"
  },
  "language_info": {
   "codemirror_mode": {
    "name": "ipython",
    "version": 2
   },
   "file_extension": ".py",
   "mimetype": "text/x-python",
   "name": "python",
   "nbconvert_exporter": "python",
   "pygments_lexer": "ipython2",
   "version": "2.7.11"
  }
 },
 "nbformat": 4,
 "nbformat_minor": 0
}
