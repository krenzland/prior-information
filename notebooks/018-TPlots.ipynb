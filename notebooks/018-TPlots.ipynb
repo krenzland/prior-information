{
 "cells": [
  {
   "cell_type": "code",
   "execution_count": 3,
   "metadata": {
    "collapsed": false
   },
   "outputs": [],
   "source": [
    "%matplotlib inline\n",
    "\n",
    "import sys, os\n",
    "sys.path.append(os.path.abspath(os.path.join('..', 'src/')))\n",
    "\n",
    "from sgpi import model\n",
    "\n",
    "import sqlalchemy as sa\n",
    "from sqlalchemy import orm, func, or_, and_\n",
    "\n",
    "from sgpi.plot import *\n",
    "\n",
    "import pandas as pd\n",
    "import pysgpp as sg"
   ]
  },
  {
   "cell_type": "code",
   "execution_count": 4,
   "metadata": {
    "collapsed": false
   },
   "outputs": [],
   "source": [
    "# First get the estimators with the best CV-MSE from the database\n",
    "ses = model.make_session()\n",
    "def get_results(ses, level, dataset):\n",
    "    return ses.query(model.Result, func.min(model.Result.validation_mse)).\\\n",
    "        filter(model.Result.experiment_id.between(51,100)).\\\n",
    "        join(model.RegularizationConfig).\\\n",
    "        join(model.GridConfig).\\\n",
    "        join(model.Experiment).\\\n",
    "        join(model.AdaptivityConfig).\\\n",
    "        filter(model.GridConfig.level == level).\\\n",
    "        filter(or_(and_(model.RegularizationConfig.exponent_base == 1.0, model.RegularizationConfig.type == sg.RegularizationType_Diagonal),\\\n",
    "                   model.RegularizationConfig.type == sg.RegularizationType_Identity)).\\\n",
    "        filter(model.RegularizationConfig.exponent_base == 1.0).\\\n",
    "        filter(model.AdaptivityConfig.no_points == 3).\\\n",
    "        filter(model.AdaptivityConfig.num_refinements == 5).\\\n",
    "        filter(model.Experiment.dataset == dataset).\\\n",
    "        group_by(model.GridConfig.T)\n"
   ]
  },
  {
   "cell_type": "code",
   "execution_count": 5,
   "metadata": {
    "collapsed": false,
    "scrolled": true
   },
   "outputs": [],
   "source": [
    "def print_latex(ses, level, dataset):\n",
    "    for res, mse in get_results(ses, level=level, dataset=dataset):\n",
    "        print \"{} & {:1.4e} & {}({:4.0f}) & {:2.3f} & {} & {:2.3f} & {:2.3f}\\\\\\\\\".\\\n",
    "            format(res.grid_config.T, res.regularization_config.lambda_reg,\n",
    "                   res.validation_grid_points_mean,res.validation_grid_points_stdev*10,\n",
    "                   np.sqrt(res.validation_mse), res.train_grid_points, np.sqrt(res.train_mse), np.sqrt(res.test_mse))"
   ]
  },
  {
   "cell_type": "code",
   "execution_count": 6,
   "metadata": {
    "collapsed": false,
    "scrolled": false
   },
   "outputs": [
    {
     "name": "stdout",
     "output_type": "stream",
     "text": [
      "-0.5 & 2.2762e-10 & 5541.3( 185) & 1.246 & 5547.0 & 0.823 & 1.226\\\\\n",
      "0 & 1.4539e-04 & 2278.8(  33) & 1.196 & 2277.0 & 0.845 & 1.179\\\\\n",
      "0.5 & 7.7081e-05 & 640.8( 141) & 1.051 & 651.0 & 0.959 & 1.028\\\\\n",
      "1 & 1.0432e-04 & 391.2(  72) & 1.031 & 395.0 & 0.976 & 1.015\\\\\n"
     ]
    }
   ],
   "source": [
    "print_latex(ses, level=4, dataset='friedman1')"
   ]
  },
  {
   "cell_type": "code",
   "execution_count": 7,
   "metadata": {
    "collapsed": false
   },
   "outputs": [
    {
     "name": "stdout",
     "output_type": "stream",
     "text": [
      "-0.4 & 1.9276e-02 & 8468.7( 206) & 4.703 & 8470.0 & 2.275 & 4.215\\\\\n",
      "0 & 1.9622e-02 & 6678.3( 271) & 4.709 & 6650.0 & 2.286 & 4.184\\\\\n",
      "0.5 & 6.2935e-03 & 1140.4( 239) & 4.771 & 1180.0 & 2.664 & 3.797\\\\\n",
      "0.6 & 1.2700e-02 & 712.7( 242) & 4.781 & 685.0 & 3.398 & 4.308\\\\\n",
      "1 & 1.0149e-02 & 517.9( 233) & 4.929 & 516.0 & 3.628 & 4.508\\\\\n"
     ]
    }
   ],
   "source": [
    "print_latex(ses, level=5, dataset='concrete')"
   ]
  },
  {
   "cell_type": "code",
   "execution_count": 35,
   "metadata": {
    "collapsed": false
   },
   "outputs": [],
   "source": [
    "best_for_t = ses.query(model.Result, func.min(model.Result.validation_mse)).\\\n",
    "    join(model.Experiment).\\\n",
    "    join(model.GridConfig).\\\n",
    "    join(model.RegularizationConfig).\\\n",
    "    group_by(model.GridConfig.T).\\\n",
    "    group_by(model.GridConfig.level).\\\n",
    "    filter(model.Experiment.dataset=='concrete').\\\n",
    "    filter(model.GridConfig.level == 4).\\\n",
    "    filter(model.GridConfig.T == 0).\\\n",
    "    filter(or_(and_(model.RegularizationConfig.exponent_base == 1.0, model.RegularizationConfig.type == sg.RegularizationType_Diagonal),\\\n",
    "                   model.RegularizationConfig.type == sg.RegularizationType_Identity)).\\\n",
    "    order_by(model.GridConfig.level, model.Result.validation_mse)"
   ]
  },
  {
   "cell_type": "code",
   "execution_count": 36,
   "metadata": {
    "collapsed": false
   },
   "outputs": [
    {
     "data": {
      "text/plain": [
       "1"
      ]
     },
     "execution_count": 36,
     "metadata": {},
     "output_type": "execute_result"
    }
   ],
   "source": [
    "best_for_t.count()"
   ]
  },
  {
   "cell_type": "code",
   "execution_count": 44,
   "metadata": {
    "collapsed": false
   },
   "outputs": [
    {
     "name": "stdout",
     "output_type": "stream",
     "text": [
      "0 4 5.00738579498 1470.0 5 3\n"
     ]
    }
   ],
   "source": [
    "for res, mse in best_for_t:\n",
    "    print res.grid_config.T, res.grid_config.level, np.sqrt(res.validation_mse), res.train_grid_points, res.adaptivity_config.num_refinements,\\\n",
    "        res.adaptivity_config.no_points"
   ]
  },
  {
   "cell_type": "code",
   "execution_count": null,
   "metadata": {
    "collapsed": true
   },
   "outputs": [],
   "source": []
  }
 ],
 "metadata": {
  "kernelspec": {
   "display_name": "Python 2",
   "language": "python",
   "name": "python2"
  },
  "language_info": {
   "codemirror_mode": {
    "name": "ipython",
    "version": 2
   },
   "file_extension": ".py",
   "mimetype": "text/x-python",
   "name": "python",
   "nbconvert_exporter": "python",
   "pygments_lexer": "ipython2",
   "version": "2.7.11"
  }
 },
 "nbformat": 4,
 "nbformat_minor": 0
}
