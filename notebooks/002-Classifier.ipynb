{
 "cells": [
  {
   "cell_type": "code",
   "execution_count": 2,
   "metadata": {
    "collapsed": true
   },
   "outputs": [],
   "source": [
    "%matplotlib inline\n",
    "import matplotlib.pyplot as plt\n",
    "    \n",
    "from pysgpp import ClassificationLearner, RegularGridConfiguration, \\\n",
    "AdpativityConfiguration, SLESolverConfiguration, RegularizationConfiguration, DataMatrix, \\\n",
    "DataVector\n",
    "import numpy as np\n",
    "import pandas as pd\n",
    "import sklearn.preprocessing as pre\n",
    "import sklearn.base\n",
    "import sklearn.datasets\n",
    "import sklearn.grid_search\n",
    "from sklearn.cross_validation import ShuffleSplit"
   ]
  },
  {
   "cell_type": "code",
   "execution_count": 21,
   "metadata": {
    "collapsed": false
   },
   "outputs": [],
   "source": [
    "def to_data_matrix(arr):\n",
    "    (size_x, size_y) = arr.shape\n",
    "    matrix = DataMatrix(size_x, size_y)\n",
    "    cur_row = 0\n",
    "    for x in arr:\n",
    "        x_vec = DataVector(x.tolist())\n",
    "        matrix.setRow(cur_row,x_vec)\n",
    "        cur_row += 1\n",
    "    return matrix     \n",
    "        \n",
    "# http://scikit-learn.org/stable/developers/contributing.html#rolling-your-own-estimator\n",
    "class SGClassificationLearner(sklearn.base.BaseEstimator, sklearn.base.ClassifierMixin):\n",
    "    def __init__(self, lambdaReg):\n",
    "        self.lambdaReg = lambdaReg     \n",
    "\n",
    "    def fit(self, X, y):\n",
    "        \n",
    "        grid_config = RegularGridConfiguration()\n",
    "        grid_config.dim_ = X.shape[1]\n",
    "        grid_config.level_ = 2\n",
    "        grid_config.type_ = 6 #ModLinear\n",
    "\n",
    "        adaptivity_config = AdpativityConfiguration()\n",
    "        adaptivity_config.noPoints_ = 0\n",
    "        adaptivity_config.numRefinements_ = 0\n",
    "\n",
    "        solver_config = SLESolverConfiguration()\n",
    "        solver_config.type_ = 0 # CG\n",
    "        solver_config.maxIterations_ = 500\n",
    "        solver_config.eps_ = 1e-6\n",
    "\n",
    "        regularization_config = RegularizationConfiguration()\n",
    "        regularization_config.exponentBase = 0.25\n",
    "        regularization_config.type_ = 2 # diagonal\n",
    "        regularization_config.lambda_ = self.lambdaReg\n",
    "        self._learner = ClassificationLearner(grid_config, adaptivity_config, solver_config, regularization_config)\n",
    "        \n",
    "        X_mat = to_data_matrix(X)\n",
    "        y_vec = DataVector(y.tolist())\n",
    "        self._learner.train(X_mat, y_vec)\n",
    "            \n",
    "    def predict(self, X):\n",
    "        X_mat = to_data_matrix(X)\n",
    "        result = self._learner.predict(X_mat)\n",
    "        return result.array()\n",
    "    \n",
    "    def score(self, X, y, sample_weight=None):\n",
    "        X_mat = to_data_matrix(X)\n",
    "        y_vec = DataVector(y.tolist())\n",
    "        return self._learner.getAccuracy(X_mat, y_vec)"
   ]
  },
  {
   "cell_type": "code",
   "execution_count": 22,
   "metadata": {
    "collapsed": false
   },
   "outputs": [
    {
     "data": {
      "text/html": [
       "<div>\n",
       "<table border=\"1\" class=\"dataframe\">\n",
       "  <thead>\n",
       "    <tr style=\"text-align: right;\">\n",
       "      <th></th>\n",
       "      <th>mcg</th>\n",
       "      <th>gvh</th>\n",
       "      <th>alm</th>\n",
       "      <th>mit</th>\n",
       "      <th>erl</th>\n",
       "      <th>pox</th>\n",
       "      <th>vac</th>\n",
       "      <th>nuc</th>\n",
       "      <th>category</th>\n",
       "    </tr>\n",
       "  </thead>\n",
       "  <tbody>\n",
       "    <tr>\n",
       "      <th>0</th>\n",
       "      <td>0.58</td>\n",
       "      <td>0.61</td>\n",
       "      <td>0.47</td>\n",
       "      <td>0.13</td>\n",
       "      <td>0.5</td>\n",
       "      <td>0</td>\n",
       "      <td>0.48</td>\n",
       "      <td>0.22</td>\n",
       "      <td>6</td>\n",
       "    </tr>\n",
       "    <tr>\n",
       "      <th>1</th>\n",
       "      <td>0.43</td>\n",
       "      <td>0.67</td>\n",
       "      <td>0.48</td>\n",
       "      <td>0.27</td>\n",
       "      <td>0.5</td>\n",
       "      <td>0</td>\n",
       "      <td>0.53</td>\n",
       "      <td>0.22</td>\n",
       "      <td>6</td>\n",
       "    </tr>\n",
       "    <tr>\n",
       "      <th>2</th>\n",
       "      <td>0.64</td>\n",
       "      <td>0.62</td>\n",
       "      <td>0.49</td>\n",
       "      <td>0.15</td>\n",
       "      <td>0.5</td>\n",
       "      <td>0</td>\n",
       "      <td>0.53</td>\n",
       "      <td>0.22</td>\n",
       "      <td>6</td>\n",
       "    </tr>\n",
       "    <tr>\n",
       "      <th>3</th>\n",
       "      <td>0.58</td>\n",
       "      <td>0.44</td>\n",
       "      <td>0.57</td>\n",
       "      <td>0.13</td>\n",
       "      <td>0.5</td>\n",
       "      <td>0</td>\n",
       "      <td>0.54</td>\n",
       "      <td>0.22</td>\n",
       "      <td>7</td>\n",
       "    </tr>\n",
       "    <tr>\n",
       "      <th>4</th>\n",
       "      <td>0.42</td>\n",
       "      <td>0.44</td>\n",
       "      <td>0.48</td>\n",
       "      <td>0.54</td>\n",
       "      <td>0.5</td>\n",
       "      <td>0</td>\n",
       "      <td>0.48</td>\n",
       "      <td>0.22</td>\n",
       "      <td>6</td>\n",
       "    </tr>\n",
       "  </tbody>\n",
       "</table>\n",
       "</div>"
      ],
      "text/plain": [
       "    mcg   gvh   alm   mit  erl  pox   vac   nuc  category\n",
       "0  0.58  0.61  0.47  0.13  0.5    0  0.48  0.22         6\n",
       "1  0.43  0.67  0.48  0.27  0.5    0  0.53  0.22         6\n",
       "2  0.64  0.62  0.49  0.15  0.5    0  0.53  0.22         6\n",
       "3  0.58  0.44  0.57  0.13  0.5    0  0.54  0.22         7\n",
       "4  0.42  0.44  0.48  0.54  0.5    0  0.48  0.22         6"
      ]
     },
     "execution_count": 22,
     "metadata": {},
     "output_type": "execute_result"
    }
   ],
   "source": [
    "df = pd.read_csv(\"../datasets/processed/yeast/yeast_prep.csv\")\n",
    "df.head()"
   ]
  },
  {
   "cell_type": "code",
   "execution_count": 23,
   "metadata": {
    "collapsed": false
   },
   "outputs": [
    {
     "data": {
      "text/html": [
       "<div>\n",
       "<table border=\"1\" class=\"dataframe\">\n",
       "  <thead>\n",
       "    <tr style=\"text-align: right;\">\n",
       "      <th></th>\n",
       "      <th>mcg</th>\n",
       "      <th>gvh</th>\n",
       "      <th>alm</th>\n",
       "      <th>mit</th>\n",
       "      <th>erl</th>\n",
       "      <th>pox</th>\n",
       "      <th>vac</th>\n",
       "      <th>nuc</th>\n",
       "      <th>category</th>\n",
       "    </tr>\n",
       "  </thead>\n",
       "  <tbody>\n",
       "    <tr>\n",
       "      <th>count</th>\n",
       "      <td>1484.000000</td>\n",
       "      <td>1484.000000</td>\n",
       "      <td>1484.000000</td>\n",
       "      <td>1484.000000</td>\n",
       "      <td>1484.000000</td>\n",
       "      <td>1484.000000</td>\n",
       "      <td>1484.000000</td>\n",
       "      <td>1484.000000</td>\n",
       "      <td>1484.000000</td>\n",
       "    </tr>\n",
       "    <tr>\n",
       "      <th>mean</th>\n",
       "      <td>0.500121</td>\n",
       "      <td>0.499933</td>\n",
       "      <td>0.500034</td>\n",
       "      <td>0.261186</td>\n",
       "      <td>0.504717</td>\n",
       "      <td>0.007500</td>\n",
       "      <td>0.499885</td>\n",
       "      <td>0.276199</td>\n",
       "      <td>4.126011</td>\n",
       "    </tr>\n",
       "    <tr>\n",
       "      <th>std</th>\n",
       "      <td>0.137299</td>\n",
       "      <td>0.123924</td>\n",
       "      <td>0.086670</td>\n",
       "      <td>0.137098</td>\n",
       "      <td>0.048351</td>\n",
       "      <td>0.075683</td>\n",
       "      <td>0.057797</td>\n",
       "      <td>0.106491</td>\n",
       "      <td>3.037575</td>\n",
       "    </tr>\n",
       "    <tr>\n",
       "      <th>min</th>\n",
       "      <td>0.110000</td>\n",
       "      <td>0.130000</td>\n",
       "      <td>0.210000</td>\n",
       "      <td>0.000000</td>\n",
       "      <td>0.500000</td>\n",
       "      <td>0.000000</td>\n",
       "      <td>0.000000</td>\n",
       "      <td>0.000000</td>\n",
       "      <td>0.000000</td>\n",
       "    </tr>\n",
       "    <tr>\n",
       "      <th>25%</th>\n",
       "      <td>0.410000</td>\n",
       "      <td>0.420000</td>\n",
       "      <td>0.460000</td>\n",
       "      <td>0.170000</td>\n",
       "      <td>0.500000</td>\n",
       "      <td>0.000000</td>\n",
       "      <td>0.480000</td>\n",
       "      <td>0.220000</td>\n",
       "      <td>0.000000</td>\n",
       "    </tr>\n",
       "    <tr>\n",
       "      <th>50%</th>\n",
       "      <td>0.490000</td>\n",
       "      <td>0.490000</td>\n",
       "      <td>0.510000</td>\n",
       "      <td>0.220000</td>\n",
       "      <td>0.500000</td>\n",
       "      <td>0.000000</td>\n",
       "      <td>0.510000</td>\n",
       "      <td>0.220000</td>\n",
       "      <td>5.000000</td>\n",
       "    </tr>\n",
       "    <tr>\n",
       "      <th>75%</th>\n",
       "      <td>0.580000</td>\n",
       "      <td>0.570000</td>\n",
       "      <td>0.550000</td>\n",
       "      <td>0.320000</td>\n",
       "      <td>0.500000</td>\n",
       "      <td>0.000000</td>\n",
       "      <td>0.530000</td>\n",
       "      <td>0.300000</td>\n",
       "      <td>7.000000</td>\n",
       "    </tr>\n",
       "    <tr>\n",
       "      <th>max</th>\n",
       "      <td>1.000000</td>\n",
       "      <td>1.000000</td>\n",
       "      <td>1.000000</td>\n",
       "      <td>1.000000</td>\n",
       "      <td>1.000000</td>\n",
       "      <td>0.830000</td>\n",
       "      <td>0.730000</td>\n",
       "      <td>1.000000</td>\n",
       "      <td>9.000000</td>\n",
       "    </tr>\n",
       "  </tbody>\n",
       "</table>\n",
       "</div>"
      ],
      "text/plain": [
       "               mcg          gvh          alm          mit          erl  \\\n",
       "count  1484.000000  1484.000000  1484.000000  1484.000000  1484.000000   \n",
       "mean      0.500121     0.499933     0.500034     0.261186     0.504717   \n",
       "std       0.137299     0.123924     0.086670     0.137098     0.048351   \n",
       "min       0.110000     0.130000     0.210000     0.000000     0.500000   \n",
       "25%       0.410000     0.420000     0.460000     0.170000     0.500000   \n",
       "50%       0.490000     0.490000     0.510000     0.220000     0.500000   \n",
       "75%       0.580000     0.570000     0.550000     0.320000     0.500000   \n",
       "max       1.000000     1.000000     1.000000     1.000000     1.000000   \n",
       "\n",
       "               pox          vac          nuc     category  \n",
       "count  1484.000000  1484.000000  1484.000000  1484.000000  \n",
       "mean      0.007500     0.499885     0.276199     4.126011  \n",
       "std       0.075683     0.057797     0.106491     3.037575  \n",
       "min       0.000000     0.000000     0.000000     0.000000  \n",
       "25%       0.000000     0.480000     0.220000     0.000000  \n",
       "50%       0.000000     0.510000     0.220000     5.000000  \n",
       "75%       0.000000     0.530000     0.300000     7.000000  \n",
       "max       0.830000     0.730000     1.000000     9.000000  "
      ]
     },
     "execution_count": 23,
     "metadata": {},
     "output_type": "execute_result"
    }
   ],
   "source": [
    "df.describe()"
   ]
  },
  {
   "cell_type": "code",
   "execution_count": 24,
   "metadata": {
    "collapsed": false
   },
   "outputs": [],
   "source": [
    "X = np.array(df.ix[:,0:-1])\n",
    "y = df.ix[:,-1]"
   ]
  },
  {
   "cell_type": "code",
   "execution_count": 25,
   "metadata": {
    "collapsed": false
   },
   "outputs": [],
   "source": [
    "learner = SGClassificationLearner(42)\n",
    "cv = ShuffleSplit(X.shape[0], random_state=42)\n",
    "parameters = {\"lambdaReg\": np.logspace(10, -10, num=10)}\n",
    "gridSearch = sklearn.grid_search.GridSearchCV(learner, parameters, cv=cv, verbose=1, n_jobs=4)"
   ]
  },
  {
   "cell_type": "code",
   "execution_count": 26,
   "metadata": {
    "collapsed": false
   },
   "outputs": [
    {
     "name": "stdout",
     "output_type": "stream",
     "text": [
      "Fitting 10 folds for each of 10 candidates, totalling 100 fits\n"
     ]
    },
    {
     "name": "stderr",
     "output_type": "stream",
     "text": [
      "[Parallel(n_jobs=4)]: Done   1 jobs       | elapsed:    0.4s\n",
      "[Parallel(n_jobs=4)]: Done  50 jobs       | elapsed:    6.7s\n",
      "[Parallel(n_jobs=4)]: Done 100 out of 100 | elapsed:   28.9s finished\n"
     ]
    },
    {
     "data": {
      "text/plain": [
       "GridSearchCV(cv=ShuffleSplit(1484, n_iter=10, test_size=0.1, random_state=42),\n",
       "       error_score='raise',\n",
       "       estimator=SGClassificationLearner(lambdaReg=42), fit_params={},\n",
       "       iid=True, loss_func=None, n_jobs=4,\n",
       "       param_grid={'lambdaReg': array([  1.00000e+10,   5.99484e+07,   3.59381e+05,   2.15443e+03,\n",
       "         1.29155e+01,   7.74264e-02,   4.64159e-04,   2.78256e-06,\n",
       "         1.66810e-08,   1.00000e-10])},\n",
       "       pre_dispatch='2*n_jobs', refit=True, score_func=None, scoring=None,\n",
       "       verbose=1)"
      ]
     },
     "execution_count": 26,
     "metadata": {},
     "output_type": "execute_result"
    }
   ],
   "source": [
    "gridSearch.fit(X,y)"
   ]
  },
  {
   "cell_type": "code",
   "execution_count": 27,
   "metadata": {
    "collapsed": false
   },
   "outputs": [],
   "source": [
    "scores = gridSearch.grid_scores_\n",
    "grid_params,grid_mean, grid_std = zip(*scores)\n",
    "grid_mean = ([x for x in grid_mean])\n",
    "grid_lambdas = [x[\"lambdaReg\"] for x in grid_params]"
   ]
  },
  {
   "cell_type": "code",
   "execution_count": 28,
   "metadata": {
    "collapsed": false
   },
   "outputs": [
    {
     "data": {
      "image/png": "[encoded data removed]",
      "text/plain": [
       "<matplotlib.figure.Figure at 0x7f9fc0609890>"
      ]
     },
     "metadata": {},
     "output_type": "display_data"
    }
   ],
   "source": [
    "plt.errorbar(grid_lambdas, grid_mean)\n",
    "plt.xscale('log')\n",
    "plt.gca().invert_xaxis()"
   ]
  },
  {
   "cell_type": "code",
   "execution_count": 29,
   "metadata": {
    "collapsed": false
   },
   "outputs": [
    {
     "data": {
      "text/plain": [
       "[mean: 31.27517, std: 3.71499, params: {'lambdaReg': 10000000000.0},\n",
       " mean: 31.27517, std: 3.71499, params: {'lambdaReg': 59948425.031894088},\n",
       " mean: 31.27517, std: 3.71499, params: {'lambdaReg': 359381.36638046254},\n",
       " mean: 31.27517, std: 3.71499, params: {'lambdaReg': 2154.4346900318824},\n",
       " mean: 31.27517, std: 3.71499, params: {'lambdaReg': 12.915496650148826},\n",
       " mean: 53.22148, std: 5.39465, params: {'lambdaReg': 0.077426368268112777},\n",
       " mean: 57.58389, std: 3.40633, params: {'lambdaReg': 0.00046415888336127724},\n",
       " mean: 57.58389, std: 3.43267, params: {'lambdaReg': 2.7825594022071145e-06},\n",
       " mean: 57.58389, std: 3.43267, params: {'lambdaReg': 1.6681005372000556e-08},\n",
       " mean: 57.58389, std: 3.43267, params: {'lambdaReg': 1e-10}]"
      ]
     },
     "execution_count": 29,
     "metadata": {},
     "output_type": "execute_result"
    }
   ],
   "source": [
    "gridSearch.grid_scores_"
   ]
  },
  {
   "cell_type": "code",
   "execution_count": null,
   "metadata": {
    "collapsed": true
   },
   "outputs": [],
   "source": []
  }
 ],
 "metadata": {
  "kernelspec": {
   "display_name": "Python 2",
   "language": "python",
   "name": "python2"
  },
  "language_info": {
   "codemirror_mode": {
    "name": "ipython",
    "version": 2
   },
   "file_extension": ".py",
   "mimetype": "text/x-python",
   "name": "python",
   "nbconvert_exporter": "python",
   "pygments_lexer": "ipython2",
   "version": "2.7.10"
  }
 },
 "nbformat": 4,
 "nbformat_minor": 0
}
