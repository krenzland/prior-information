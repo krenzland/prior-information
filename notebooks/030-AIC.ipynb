{
 "cells": [
  {
   "cell_type": "code",
   "execution_count": 33,
   "metadata": {
    "collapsed": false
   },
   "outputs": [],
   "source": [
    "%matplotlib inline\n",
    "\n",
    "import sys, os\n",
    "sys.path.append(os.path.abspath(os.path.join('..', 'src/')))\n",
    "from sgpi.util import get_dataset, get_xy, get_r_squared, split, to_data_matrix, get_Phi\n",
    "\n",
    "from sgpi import model\n",
    "from sgpi.learner import SGRegressionLearner\n",
    "import sqlalchemy as sa\n",
    "from sqlalchemy import orm, func, or_, and_\n",
    "\n",
    "from sgpi.plot import *\n",
    "from scipy.linalg import svd\n",
    "\n",
    "import pandas as pd\n",
    "import pysgpp as sg; sg.omp_set_num_threads(4)"
   ]
  },
  {
   "cell_type": "code",
   "execution_count": 2,
   "metadata": {
    "collapsed": true
   },
   "outputs": [],
   "source": [
    "def duplicate_estimator(db_res):\n",
    "    learner = SGRegressionLearner(db_res.grid_config, db_res.regularization_config,\n",
    "                               db_res.solver_config, db_res.final_solver_config,\n",
    "                               db_res.adaptivity_config)\n",
    "    df = get_dataset(db_res.experiment.dataset)\n",
    "    df, _ = split(df)\n",
    "    X, y = get_xy(df)\n",
    "    return X, y, learner"
   ]
  },
  {
   "cell_type": "code",
   "execution_count": 7,
   "metadata": {
    "collapsed": false
   },
   "outputs": [],
   "source": [
    "def get_df_lasso(weights, grid, X):\n",
    "    active_set = weights.nonzero()[0]\n",
    "    Phi = get_Phi(grid, X, svd=False)\n",
    "    active_Phi = Phi[:,active_set]\n",
    "    rank = np.linalg.matrix_rank(active_Phi)\n",
    "    return rank\n",
    "\n",
    "def get_df_ridge(singular_values, lambda_reg):\n",
    "    df = 0.0\n",
    "    for sv in singular_values:\n",
    "        df = df + (sv**2)/(sv**2+lambda_reg)\n",
    "    return df\n",
    "\n",
    "def get_AIC(train_mse, num_data, df):\n",
    "    return 2*df + num_data * np.log(train_mse)"
   ]
  },
  {
   "cell_type": "code",
   "execution_count": 4,
   "metadata": {
    "collapsed": false,
    "scrolled": true
   },
   "outputs": [
    {
     "data": {
      "text/plain": [
       "(2, 2)"
      ]
     },
     "execution_count": 4,
     "metadata": {},
     "output_type": "execute_result"
    }
   ],
   "source": [
    "ses = model.make_session()\n",
    "ridge_t = sg.RegularizationType_Identity\n",
    "diag_t = sg.RegularizationType_Diagonal\n",
    "lasso_t = sg.RegularizationType_Lasso\n",
    "en_t = sg.RegularizationType_ElasticNet\n",
    "crit_ridge = or_(model.RegularizationConfig.type==ridge_t,\\\n",
    "               and_(model.RegularizationConfig.type==diag_t,model.RegularizationConfig.exponent_base==1.0 ))\n",
    "crit_lasso = or_(model.RegularizationConfig.type==lasso_t,\\\n",
    "               and_(model.RegularizationConfig.type==en_t,model.RegularizationConfig.l1_ratio==1.0 ))\n",
    "best_res = lambda crit: ses.query(model.Result, func.min_(model.Result.validation_mse)).\\\n",
    "    join(model.Experiment, model.RegularizationConfig, model.GridConfig).\\\n",
    "    filter(model.Experiment.dataset == 'concrete').\\\n",
    "    filter(crit).\\\n",
    "    filter(model.GridConfig.T == 0.0).\\\n",
    "    filter(model.GridConfig.level >= 4).\\\n",
    "    group_by(model.GridConfig.level).\\\n",
    "    order_by(model.Result.validation_mse)\n",
    "best_ridge = best_res(crit_ridge)\n",
    "best_lasso = best_res(crit_lasso)\n",
    "\n",
    "best_ridge.count(), best_lasso.count()"
   ]
  },
  {
   "cell_type": "code",
   "execution_count": 5,
   "metadata": {
    "collapsed": false
   },
   "outputs": [
    {
     "name": "stdout",
     "output_type": "stream",
     "text": [
      "716.696498942 2796.22239282 5.22741775804 22.1747751191\n",
      "558.032312601 2991.22306366 9.73377312072 25.0739124998\n"
     ]
    }
   ],
   "source": [
    "for res, err in best_ridge:\n",
    "    res.regularization_config.l1_ratio = 0.0\n",
    "    X, y, estimator = duplicate_estimator(res)\n",
    "    estimator.fit(X,y)\n",
    "    grid = estimator._learner.getGrid()\n",
    "    svd = get_Phi(grid,X, svd=True)\n",
    "    mse = -estimator.score(X,y)\n",
    "    df = get_df_ridge(svd, res.regularization_config.lambda_reg)\n",
    "    aic = get_AIC(mse, X.shape[0], df)\n",
    "    print df, aic, res.train_mse, res.validation_mse"
   ]
  },
  {
   "cell_type": "code",
   "execution_count": 8,
   "metadata": {
    "collapsed": false
   },
   "outputs": [
    {
     "name": "stdout",
     "output_type": "stream",
     "text": [
      "754 2997.93500472 6.09931123154 20.9901331732\n",
      "518 2797.09469557 8.47610322823 23.8522703997\n"
     ]
    }
   ],
   "source": [
    "for res, err in best_lasso:\n",
    "    if res.regularization_config.l1_ratio is None:\n",
    "        res.regularization_config.l1_ratio = 1.0\n",
    "    X, y, estimator = duplicate_estimator(res)\n",
    "    estimator.fit(X,y)\n",
    "    grid = estimator._learner.getGrid()\n",
    "    weights = estimator.get_weights()\n",
    "    df = get_df_lasso(weights, grid, X)\n",
    "    mse = -estimator.score(X,y)\n",
    "    aic = get_AIC(mse, X.shape[0], df)\n",
    "    print df, aic, res.train_mse, res.validation_mse"
   ]
  },
  {
   "cell_type": "code",
   "execution_count": 25,
   "metadata": {
    "collapsed": false
   },
   "outputs": [
    {
     "name": "stdout",
     "output_type": "stream",
     "text": [
      "5 & Ridge & 1.96e-02 & 6650 & df & 2.286 & aic & 4.184 \\\\\n",
      "4 & Ridge & 1.84e-02 & 1470 & df & 3.120 & aic & 4.198 \\\\\n"
     ]
    }
   ],
   "source": [
    "for res, err in best_ridge:\n",
    "    le = str(res.grid_config.level)\n",
    "    m = \"Ridge\"\n",
    "    l = \"{:1.2e}\".format(res.regularization_config.lambda_reg)\n",
    "    g = str(int(res.train_grid_points))\n",
    "    m_tr = \"{:2.3f}\".format(np.sqrt(res.train_mse))\n",
    "    m_te = \"{:2.3f}\".format(np.sqrt(res.test_mse))\n",
    "    print le + \" & \" + m + \" & \" + l + \" & \" + g + \" & df & \" + m_tr + \" & aic & \" + m_te + r\" \\\\\""
   ]
  },
  {
   "cell_type": "code",
   "execution_count": 27,
   "metadata": {
    "collapsed": false
   },
   "outputs": [
    {
     "name": "stdout",
     "output_type": "stream",
     "text": [
      "5 & Lasso & 1.00e-02 & 6632 & df & 2.470 & aic & 3.737 \\\\\n",
      "4 & Lasso & 1.00e-02 & 1382 & df & 2.911 & aic & 3.850 \\\\\n"
     ]
    }
   ],
   "source": [
    "for res, err in best_lasso:\n",
    "    le = str(res.grid_config.level)\n",
    "    m = \"Lasso\"\n",
    "    l = \"{:1.2e}\".format(res.regularization_config.lambda_reg)\n",
    "    g = str(int(res.train_grid_points))\n",
    "    m_tr = \"{:2.3f}\".format(np.sqrt(res.train_mse))\n",
    "    m_te = \"{:2.3f}\".format(np.sqrt(res.test_mse))\n",
    "    print le + \" & \" + m + \" & \" + l + \" & \" + g + \" & df & \" + m_tr + \" & aic & \" + m_te + r\" \\\\\""
   ]
  },
  {
   "cell_type": "code",
   "execution_count": null,
   "metadata": {
    "collapsed": false
   },
   "outputs": [],
   "source": []
  },
  {
   "cell_type": "code",
   "execution_count": 52,
   "metadata": {
    "collapsed": false
   },
   "outputs": [
    {
     "name": "stdout",
     "output_type": "stream",
     "text": [
      "5 & Ridge & 2e-02 & 4.709 & 6650 & 2.286 & 4.184\\\\\n",
      "4 & Ridge & 2e-02 & 5.007 & 1470 & 3.120 & 4.198\\\\\n"
     ]
    }
   ],
   "source": [
    "for res, mse in best_ridge:\n",
    "    reg_type = \"Ridge\"\n",
    "    print \"{} & {} & {:1.0e} & {:2.3f} & {} & {:2.3f} & {:2.3f}\\\\\\\\\".\\\n",
    "        format(res.grid_config.level, reg_type, res.regularization_config.lambda_reg,\n",
    "                np.sqrt(res.validation_mse), int(res.train_grid_points), np.sqrt(res.train_mse), np.sqrt(res.test_mse))"
   ]
  },
  {
   "cell_type": "code",
   "execution_count": 50,
   "metadata": {
    "collapsed": false
   },
   "outputs": [
    {
     "data": {
      "text/plain": [
       "4.5814844755821227"
      ]
     },
     "execution_count": 50,
     "metadata": {},
     "output_type": "execute_result"
    }
   ],
   "source": [
    "np.sqrt(20.99)"
   ]
  },
  {
   "cell_type": "code",
   "execution_count": null,
   "metadata": {
    "collapsed": true
   },
   "outputs": [],
   "source": []
  }
 ],
 "metadata": {
  "kernelspec": {
   "display_name": "Python 2",
   "language": "python",
   "name": "python2"
  },
  "language_info": {
   "codemirror_mode": {
    "name": "ipython",
    "version": 2
   },
   "file_extension": ".py",
   "mimetype": "text/x-python",
   "name": "python",
   "nbconvert_exporter": "python",
   "pygments_lexer": "ipython2",
   "version": "2.7.11"
  }
 },
 "nbformat": 4,
 "nbformat_minor": 0
}
