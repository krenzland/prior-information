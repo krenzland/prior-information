{
 "cells": [
  {
   "cell_type": "code",
   "execution_count": 1,
   "metadata": {
    "collapsed": true
   },
   "outputs": [],
   "source": [
    "%matplotlib inline\n",
    "\n",
    "import sys, os\n",
    "sys.path.append(os.path.abspath(os.path.join('..', 'src/')))\n",
    "from sgpi.util import get_dataset, get_xy, get_r_squared, split, to_data_matrix\n",
    "\n",
    "from sgpi import model\n",
    "from sgpi.learner import SGRegressionLearner\n",
    "\n",
    "import numpy as np; np.random.seed(42)\n",
    "import matplotlib.pyplot as plt\n",
    "import seaborn as sns\n",
    "sns.set_style('white')\n",
    "sns.set_palette(sns.color_palette('viridis'))\n",
    "plt.rcParams['figure.figsize'] = (20, 6)\n",
    "\n",
    "import pandas as pd\n",
    "import pysgpp as sg\n",
    "\n",
    "from itertools import chain"
   ]
  },
  {
   "cell_type": "code",
   "execution_count": 18,
   "metadata": {
    "collapsed": false
   },
   "outputs": [],
   "source": [
    "df = get_dataset('friedman1')\n",
    "df_train, df_test = split(df)\n",
    "X_train, y_train = get_xy(df_train)\n",
    "X_test, y_test = get_xy(df_test)\n",
    "\n",
    "grid_config = model.GridConfig(type=6, level=3, T=0)\n",
    "adaptivity_config = model.AdaptivityConfig(num_refinements=0, no_points=0, treshold=0.0, percent=0.0)\n",
    "reg_type = sg.RegularizationType_Lasso\n",
    "solv_type = sg.SLESolverType_FISTA\n",
    "\n",
    "solver_config = model.SolverConfig(type=solv_type, max_iterations=1, epsilon=0, threshold=10e-6)\n",
    "final_solver_config = solver_config\n",
    "\n",
    "max_lambda = 50.0\n",
    "regularization_config = model.RegularizationConfig(type=reg_type, exponent_base=1, lambda_reg=max_lambda, l1_ratio=0.99)\n",
    "\n",
    "estimator = SGRegressionLearner(grid_config, regularization_config, solver_config,\n",
    "                                final_solver_config, adaptivity_config, interactions=[[1,2]])"
   ]
  },
  {
   "cell_type": "code",
   "execution_count": 19,
   "metadata": {
    "collapsed": false
   },
   "outputs": [
    {
     "ename": "NotImplementedError",
     "evalue": "Wrong number or type of arguments for overloaded function 'new_RegressionLearner'.\n  Possible C/C++ prototypes are:\n    sgpp::datadriven::RegressionLearner::RegressionLearner(sgpp::base::RegularGridConfiguration,sgpp::base::AdpativityConfiguration,sgpp::solver::SLESolverConfiguration,sgpp::solver::SLESolverConfiguration,sgpp::datadriven::RegularizationConfiguration,std::vector< std::vector< size_t,std::allocator< size_t > >,std::allocator< std::vector< size_t,std::allocator< size_t > > > > &)\n    sgpp::datadriven::RegressionLearner::RegressionLearner(sgpp::base::RegularGridConfiguration,sgpp::base::AdpativityConfiguration,sgpp::solver::SLESolverConfiguration,sgpp::solver::SLESolverConfiguration,sgpp::datadriven::RegularizationConfiguration)\n",
     "output_type": "error",
     "traceback": [
      "\u001b[1;31m---------------------------------------------------------------------------\u001b[0m",
      "\u001b[1;31mNotImplementedError\u001b[0m                       Traceback (most recent call last)",
      "\u001b[1;32m<ipython-input-19-ee5813b37fa4>\u001b[0m in \u001b[0;36m<module>\u001b[1;34m()\u001b[0m\n\u001b[1;32m----> 1\u001b[1;33m \u001b[0mestimator\u001b[0m\u001b[1;33m.\u001b[0m\u001b[0mfit\u001b[0m\u001b[1;33m(\u001b[0m\u001b[0mX_train\u001b[0m\u001b[1;33m,\u001b[0m \u001b[0my_train\u001b[0m\u001b[1;33m)\u001b[0m\u001b[1;33m\u001b[0m\u001b[0m\n\u001b[0m\u001b[0;32m      2\u001b[0m \u001b[0mestimator\u001b[0m\u001b[1;33m.\u001b[0m\u001b[0mget_grid_size\u001b[0m\u001b[1;33m(\u001b[0m\u001b[1;33m)\u001b[0m\u001b[1;33m\u001b[0m\u001b[0m\n",
      "\u001b[1;32m/home/lukas/Dropbox/UNI/SparseGrids/src/sgpi/learner.pyc\u001b[0m in \u001b[0;36mfit\u001b[1;34m(self, X, y, weights)\u001b[0m\n\u001b[0;32m     54\u001b[0m         \u001b[1;32mif\u001b[0m \u001b[0mself\u001b[0m\u001b[1;33m.\u001b[0m\u001b[0minteractions\u001b[0m \u001b[1;32mis\u001b[0m \u001b[1;32mnot\u001b[0m \u001b[0mNone\u001b[0m\u001b[1;33m:\u001b[0m\u001b[1;33m\u001b[0m\u001b[0m\n\u001b[0;32m     55\u001b[0m             self._learner = RegressionLearner(grid_config, adaptivity_config, solver_config, final_solver_config,\n\u001b[1;32m---> 56\u001b[1;33m                                               regularization_config, self.interactions)\n\u001b[0m\u001b[0;32m     57\u001b[0m         \u001b[1;32melse\u001b[0m\u001b[1;33m:\u001b[0m\u001b[1;33m\u001b[0m\u001b[0m\n\u001b[0;32m     58\u001b[0m             self._learner = RegressionLearner(grid_config, adaptivity_config, solver_config, final_solver_config,\n",
      "\u001b[1;32m/home/lukas/.local/lib/python2.7/site-packages/pysgpp-1.0.0-py2.7.egg/pysgpp/pysgpp_swig.pyc\u001b[0m in \u001b[0;36m__init__\u001b[1;34m(self, *args)\u001b[0m\n\u001b[0;32m  16337\u001b[0m \u001b[1;33m\u001b[0m\u001b[0m\n\u001b[0;32m  16338\u001b[0m         \"\"\"\n\u001b[1;32m> 16339\u001b[1;33m         \u001b[0mthis\u001b[0m \u001b[1;33m=\u001b[0m \u001b[0m_pysgpp_swig\u001b[0m\u001b[1;33m.\u001b[0m\u001b[0mnew_RegressionLearner\u001b[0m\u001b[1;33m(\u001b[0m\u001b[1;33m*\u001b[0m\u001b[0margs\u001b[0m\u001b[1;33m)\u001b[0m\u001b[1;33m\u001b[0m\u001b[0m\n\u001b[0m\u001b[0;32m  16340\u001b[0m         \u001b[1;32mtry\u001b[0m\u001b[1;33m:\u001b[0m\u001b[1;33m\u001b[0m\u001b[0m\n\u001b[0;32m  16341\u001b[0m             \u001b[0mself\u001b[0m\u001b[1;33m.\u001b[0m\u001b[0mthis\u001b[0m\u001b[1;33m.\u001b[0m\u001b[0mappend\u001b[0m\u001b[1;33m(\u001b[0m\u001b[0mthis\u001b[0m\u001b[1;33m)\u001b[0m\u001b[1;33m\u001b[0m\u001b[0m\n",
      "\u001b[1;31mNotImplementedError\u001b[0m: Wrong number or type of arguments for overloaded function 'new_RegressionLearner'.\n  Possible C/C++ prototypes are:\n    sgpp::datadriven::RegressionLearner::RegressionLearner(sgpp::base::RegularGridConfiguration,sgpp::base::AdpativityConfiguration,sgpp::solver::SLESolverConfiguration,sgpp::solver::SLESolverConfiguration,sgpp::datadriven::RegularizationConfiguration,std::vector< std::vector< size_t,std::allocator< size_t > >,std::allocator< std::vector< size_t,std::allocator< size_t > > > > &)\n    sgpp::datadriven::RegressionLearner::RegressionLearner(sgpp::base::RegularGridConfiguration,sgpp::base::AdpativityConfiguration,sgpp::solver::SLESolverConfiguration,sgpp::solver::SLESolverConfiguration,sgpp::datadriven::RegularizationConfiguration)\n"
     ]
    }
   ],
   "source": [
    "estimator.fit(X_train, y_train)\n",
    "estimator.get_grid_size()"
   ]
  },
  {
   "cell_type": "code",
   "execution_count": 16,
   "metadata": {
    "collapsed": false
   },
   "outputs": [
    {
     "data": {
      "text/plain": [
       "array([False, False, False, False, False, False, False, False, False,\n",
       "       False, False, False, False, False, False, False, False, False,\n",
       "       False, False, False, False, False,  True, False,  True, False,\n",
       "       False,  True, False, False, False, False, False,  True, False,\n",
       "        True, False, False, False, False, False,  True,  True, False,\n",
       "       False, False,  True, False, False, False, False,  True,  True,\n",
       "       False,  True, False,  True, False,  True,  True,  True, False,\n",
       "        True,  True, False,  True, False, False, False, False,  True,\n",
       "        True,  True,  True,  True,  True,  True,  True, False,  True,\n",
       "       False, False,  True, False,  True,  True,  True,  True, False,\n",
       "       False, False,  True,  True,  True, False, False,  True, False,\n",
       "        True,  True,  True,  True,  True,  True, False,  True,  True,\n",
       "        True, False,  True, False,  True,  True,  True, False,  True,\n",
       "       False,  True,  True, False, False, False, False,  True,  True,\n",
       "       False,  True,  True,  True,  True,  True,  True, False,  True,\n",
       "        True, False,  True,  True,  True,  True,  True, False,  True,\n",
       "        True, False, False,  True, False,  True,  True, False, False,\n",
       "        True, False,  True,  True,  True,  True,  True,  True,  True,\n",
       "        True,  True,  True,  True,  True,  True,  True,  True,  True,\n",
       "       False,  True,  True,  True,  True,  True, False,  True, False,\n",
       "       False, False, False, False, False, False,  True,  True, False,\n",
       "       False, False,  True,  True,  True,  True, False, False,  True,\n",
       "        True,  True,  True,  True,  True,  True,  True,  True,  True,\n",
       "       False,  True, False,  True,  True, False, False,  True,  True,\n",
       "        True, False, False, False,  True, False,  True,  True, False,\n",
       "       False,  True,  True,  True,  True,  True,  True, False,  True,\n",
       "        True,  True,  True,  True,  True,  True,  True], dtype=bool)"
      ]
     },
     "execution_count": 16,
     "metadata": {},
     "output_type": "execute_result"
    }
   ],
   "source": [
    "def get_df(weights):\n",
    "    return weights == 0.0\n",
    "get_df(estimator.get_weights())"
   ]
  },
  {
   "cell_type": "code",
   "execution_count": 17,
   "metadata": {
    "collapsed": true
   },
   "outputs": [
    {
     "data": {
      "text/plain": [
       "((241,),\n",
       " [0.0,\n",
       "  0.0,\n",
       "  0.0,\n",
       "  0.0,\n",
       "  0.0,\n",
       "  0.0,\n",
       "  0.0,\n",
       "  0.0,\n",
       "  0.0,\n",
       "  0.0,\n",
       "  0.0,\n",
       "  0.0,\n",
       "  0.0,\n",
       "  0.0,\n",
       "  0.0,\n",
       "  0.0,\n",
       "  0.0,\n",
       "  0.0,\n",
       "  0.0,\n",
       "  0.0,\n",
       "  0.0,\n",
       "  0.0,\n",
       "  0.0,\n",
       "  0.0,\n",
       "  0.0,\n",
       "  0.0,\n",
       "  0.0,\n",
       "  0.0,\n",
       "  0.0,\n",
       "  0.0,\n",
       "  0.0,\n",
       "  0.0,\n",
       "  0.0,\n",
       "  0.0,\n",
       "  0.0,\n",
       "  0.0,\n",
       "  0.0,\n",
       "  0.0,\n",
       "  0.0,\n",
       "  0.0,\n",
       "  0.0,\n",
       "  0.0,\n",
       "  0.0,\n",
       "  0.0,\n",
       "  0.0,\n",
       "  0.0,\n",
       "  0.0,\n",
       "  0.0,\n",
       "  0.0,\n",
       "  0.0,\n",
       "  0.0,\n",
       "  0.0,\n",
       "  0.0,\n",
       "  0.0,\n",
       "  0.0,\n",
       "  0.0,\n",
       "  0.0,\n",
       "  0.0,\n",
       "  0.0,\n",
       "  0.0,\n",
       "  0.0,\n",
       "  0.0,\n",
       "  0.0,\n",
       "  0.0,\n",
       "  0.0,\n",
       "  0.0,\n",
       "  0.0,\n",
       "  0.0,\n",
       "  0.0,\n",
       "  0.0,\n",
       "  0.0,\n",
       "  0.0,\n",
       "  0.0,\n",
       "  0.0,\n",
       "  0.0,\n",
       "  0.0,\n",
       "  0.0,\n",
       "  0.0,\n",
       "  0.0,\n",
       "  0.0,\n",
       "  0.0,\n",
       "  0.0,\n",
       "  0.0,\n",
       "  0.0,\n",
       "  0.0,\n",
       "  0.0,\n",
       "  0.0,\n",
       "  0.0,\n",
       "  0.0,\n",
       "  0.0,\n",
       "  0.0,\n",
       "  0.0,\n",
       "  0.0,\n",
       "  0.0,\n",
       "  0.0,\n",
       "  0.0,\n",
       "  0.0,\n",
       "  0.0,\n",
       "  0.0,\n",
       "  0.0,\n",
       "  0.0,\n",
       "  0.0,\n",
       "  0.0,\n",
       "  0.0,\n",
       "  0.0,\n",
       "  0.0,\n",
       "  0.0,\n",
       "  0.0,\n",
       "  0.0,\n",
       "  0.0,\n",
       "  0.0,\n",
       "  0.0,\n",
       "  0.0,\n",
       "  0.0,\n",
       "  0.0,\n",
       "  0.0,\n",
       "  0.0,\n",
       "  0.0,\n",
       "  0.0,\n",
       "  0.0,\n",
       "  0.0,\n",
       "  0.0,\n",
       "  0.0,\n",
       "  0.0,\n",
       "  0.0,\n",
       "  0.0,\n",
       "  0.0,\n",
       "  0.0,\n",
       "  0.0,\n",
       "  0.0,\n",
       "  0.0,\n",
       "  0.0,\n",
       "  0.0,\n",
       "  0.0,\n",
       "  3.2154962557470583e-05,\n",
       "  7.0382126702549295e-05,\n",
       "  0.00017110999999309779,\n",
       "  0.00017569404787867417,\n",
       "  0.00021774988403845897,\n",
       "  0.00034011160224343685,\n",
       "  0.00053099538957288397,\n",
       "  0.00053878154160389292,\n",
       "  0.00056591432155894488,\n",
       "  0.00067293804448828099,\n",
       "  0.00077654030882698898,\n",
       "  0.0010399360948851486,\n",
       "  0.0011139718650946251,\n",
       "  0.0012518120582519271,\n",
       "  0.0015527791017827563,\n",
       "  0.0016776405426904091,\n",
       "  0.0017869540335219457,\n",
       "  0.0018098693283735564,\n",
       "  0.0022909725051194394,\n",
       "  0.0024903219737163916,\n",
       "  0.0025698307777641894,\n",
       "  0.0025851225066418925,\n",
       "  0.0026757813675141848,\n",
       "  0.0026896112616916646,\n",
       "  0.0030891537831470865,\n",
       "  0.0032358076702576981,\n",
       "  0.0032790112990243362,\n",
       "  0.0033879672529195156,\n",
       "  0.0037631229996675504,\n",
       "  0.0038965984133180367,\n",
       "  0.0049713447311656254,\n",
       "  0.00578674704235577,\n",
       "  0.0059228101106351631,\n",
       "  0.0073578897108464098,\n",
       "  0.0083098012200429529,\n",
       "  0.0083319680038397865,\n",
       "  0.0086213475640048495,\n",
       "  0.0086246311457426235,\n",
       "  0.0089025367479090532,\n",
       "  0.0090710032904697466,\n",
       "  0.009567805443443652,\n",
       "  0.010589641591191561,\n",
       "  0.010701078293515605,\n",
       "  0.010922460545315529,\n",
       "  0.011274915138149105,\n",
       "  0.012179914120345527,\n",
       "  0.012455233405655757,\n",
       "  0.012512316749537419,\n",
       "  0.013438771739016114,\n",
       "  0.013805865978900933,\n",
       "  0.013964896756615719,\n",
       "  0.014664889143822623,\n",
       "  0.014867072088909901,\n",
       "  0.014949809819555895,\n",
       "  0.015177715178060562,\n",
       "  0.015400433926526647,\n",
       "  0.016797771690829147,\n",
       "  0.01724594163211618,\n",
       "  0.017358194809355233,\n",
       "  0.018910234424175391,\n",
       "  0.019659539229851416,\n",
       "  0.020995706584482344,\n",
       "  0.023078605488168417,\n",
       "  0.023713313392095779,\n",
       "  0.024333950452758359,\n",
       "  0.025074868130205132,\n",
       "  0.025731310070994273,\n",
       "  0.026169993620233999,\n",
       "  0.027244443178570461,\n",
       "  0.027368897177225477,\n",
       "  0.027680011040294935,\n",
       "  0.028437344868972654,\n",
       "  0.028904184743034713,\n",
       "  0.028985497717720861,\n",
       "  0.029168788685552963,\n",
       "  0.029343685921944727,\n",
       "  0.030913095742671728,\n",
       "  0.032950122950342019,\n",
       "  0.033874724923350467,\n",
       "  0.034844947121881388,\n",
       "  0.035716304666581516,\n",
       "  0.036042515968974204,\n",
       "  0.052507117972927689,\n",
       "  0.066699333498518115,\n",
       "  0.20431224407028908,\n",
       "  0.25056632089648201,\n",
       "  0.28650018951349315,\n",
       "  0.35000644641012635,\n",
       "  0.60136450798179897,\n",
       "  0.61493279093173736,\n",
       "  0.63342029030275915,\n",
       "  0.64911441396782865,\n",
       "  1.1104794077193989,\n",
       "  1.1434297106241758,\n",
       "  1.1585664222325038,\n",
       "  1.1627208123362924,\n",
       "  1.1764586673219346,\n",
       "  1.17655089280212,\n",
       "  2.1110904424389214,\n",
       "  2.3679100396506132,\n",
       "  2.412149460652651,\n",
       "  2.4370711704938537,\n",
       "  2.4700018227834235,\n",
       "  3.2320447480214192,\n",
       "  3.6416241754115979,\n",
       "  3.7249302248850213,\n",
       "  14.950280346063888])"
      ]
     },
     "execution_count": 17,
     "metadata": {},
     "output_type": "execute_result"
    }
   ],
   "source": [
    "w = estimator.get_weights()\n",
    "w.shape, sorted(np.abs(w))"
   ]
  },
  {
   "cell_type": "code",
   "execution_count": 19,
   "metadata": {
    "collapsed": false
   },
   "outputs": [],
   "source": [
    "zero_weights = np.where(w == 0)\n",
    "lambdas = np.linspace(0, max_lambda, num=8)"
   ]
  },
  {
   "cell_type": "code",
   "execution_count": 20,
   "metadata": {
    "collapsed": false
   },
   "outputs": [
    {
     "name": "stdout",
     "output_type": "stream",
     "text": [
      "learned learner for lambda = 0.0\n",
      "learned learner for lambda = 7.14285714286\n",
      "learned learner for lambda = 14.2857142857\n",
      "learned learner for lambda = 21.4285714286\n",
      "learned learner for lambda = 28.5714285714\n",
      "learned learner for lambda = 35.7142857143\n",
      "learned learner for lambda = 42.8571428571\n",
      "learned learner for lambda = 50.0\n"
     ]
    }
   ],
   "source": [
    "weights = []\n",
    "for lambda_reg in lambdas:\n",
    "    print \"learned learner for lambda = {}\".format(lambda_reg)\n",
    "    estimator.set_params(regularization_config__lambda_reg=lambda_reg)\n",
    "    estimator.fit(X_train, y_train)\n",
    "    mse = -estimator.score(X_test, y_test) #maybe also calculate cv-mse, to get a estimate with lower variance?\n",
    "    w = estimator.get_weights()\n",
    "    #weights.append((lambda_reg, mse, w[zero_weights])) #only consider weights that later reach zero!\n",
    "    weights.append((lambda_reg, mse, w))"
   ]
  },
  {
   "cell_type": "code",
   "execution_count": 21,
   "metadata": {
    "collapsed": false
   },
   "outputs": [],
   "source": [
    "# TODO: FIX THIS!\n",
    "df = pd.DataFrame(weights, columns=[\"Lambda\", \"MSE\", \"Weights\"])\n",
    "initial_weights = df['Weights'][0]"
   ]
  },
  {
   "cell_type": "code",
   "execution_count": 22,
   "metadata": {
    "collapsed": false
   },
   "outputs": [],
   "source": [
    "arr = []\n",
    "for i in range(0, 9):\n",
    "    name = \"w{}\".format(i)\n",
    "    curWeight = []\n",
    "    for lam, mse, wei in weights:\n",
    "        curWeight.append(wei[i])\n",
    "    arr.append(curWeight)\n",
    "weightSeries = pd.DataFrame(arr, columns=[str(x) for x in df[\"Lambda\"]])"
   ]
  },
  {
   "cell_type": "code",
   "execution_count": 10,
   "metadata": {
    "collapsed": true
   },
   "outputs": [
    {
     "ename": "IndexError",
     "evalue": "index 1 is out of bounds for axis 0 with size 0",
     "output_type": "error",
     "traceback": [
      "\u001b[1;31m---------------------------------------------------------------------------\u001b[0m",
      "\u001b[1;31mIndexError\u001b[0m                                Traceback (most recent call last)",
      "\u001b[1;32m<ipython-input-10-9f8a0f9824a2>\u001b[0m in \u001b[0;36m<module>\u001b[1;34m()\u001b[0m\n\u001b[0;32m      4\u001b[0m     \u001b[0my\u001b[0m \u001b[1;33m=\u001b[0m \u001b[0mw0\u001b[0m\u001b[1;33m.\u001b[0m\u001b[0mvalues\u001b[0m\u001b[1;33m.\u001b[0m\u001b[0mflatten\u001b[0m\u001b[1;33m(\u001b[0m\u001b[1;33m)\u001b[0m\u001b[1;33m\u001b[0m\u001b[0m\n\u001b[0;32m      5\u001b[0m     \u001b[0mx\u001b[0m \u001b[1;33m=\u001b[0m \u001b[0mdf\u001b[0m\u001b[1;33m[\u001b[0m\u001b[1;34m'Lambda'\u001b[0m\u001b[1;33m]\u001b[0m\u001b[1;33m.\u001b[0m\u001b[0mvalues\u001b[0m\u001b[1;33m\u001b[0m\u001b[0m\n\u001b[1;32m----> 6\u001b[1;33m     \u001b[0max\u001b[0m\u001b[1;33m.\u001b[0m\u001b[0mplot\u001b[0m\u001b[1;33m(\u001b[0m\u001b[0mx\u001b[0m\u001b[1;33m,\u001b[0m\u001b[0my\u001b[0m\u001b[1;33m,\u001b[0m \u001b[0mlabel\u001b[0m\u001b[1;33m=\u001b[0m\u001b[1;34m\"Weight for point {}\"\u001b[0m\u001b[1;33m.\u001b[0m\u001b[0mformat\u001b[0m\u001b[1;33m(\u001b[0m\u001b[0mzero_weights\u001b[0m\u001b[1;33m[\u001b[0m\u001b[1;36m0\u001b[0m\u001b[1;33m]\u001b[0m\u001b[1;33m[\u001b[0m\u001b[0mi\u001b[0m\u001b[1;33m]\u001b[0m\u001b[1;33m)\u001b[0m\u001b[1;33m)\u001b[0m\u001b[1;33m\u001b[0m\u001b[0m\n\u001b[0m\u001b[0;32m      7\u001b[0m \u001b[0max\u001b[0m\u001b[1;33m.\u001b[0m\u001b[0mset_title\u001b[0m\u001b[1;33m(\u001b[0m\u001b[1;34m'Development of weights'\u001b[0m\u001b[1;33m)\u001b[0m\u001b[1;33m\u001b[0m\u001b[0m\n\u001b[0;32m      8\u001b[0m \u001b[0max\u001b[0m\u001b[1;33m.\u001b[0m\u001b[0mset_ylabel\u001b[0m\u001b[1;33m(\u001b[0m\u001b[1;34m'Value of weight'\u001b[0m\u001b[1;33m)\u001b[0m\u001b[1;33m\u001b[0m\u001b[0m\n",
      "\u001b[1;31mIndexError\u001b[0m: index 1 is out of bounds for axis 0 with size 0"
     ]
    },
    {
     "data": {
      "image/png": "[encoded data removed]",
      "text/plain": [
       "<matplotlib.figure.Figure at 0x7fd58dda2f10>"
      ]
     },
     "metadata": {},
     "output_type": "display_data"
    }
   ],
   "source": [
    "fig, ax = plt.subplots()\n",
    "for i in range(1, len(weightSeries)):\n",
    "    w0 = weightSeries[i-1:i]\n",
    "    y = w0.values.flatten()\n",
    "    x = df['Lambda'].values\n",
    "    ax.plot(x,y, label=\"Weight for point {}\".format(zero_weights[0][i]))\n",
    "ax.set_title('Development of weights')\n",
    "ax.set_ylabel('Value of weight')\n",
    "ax.set_xlabel(\"Lambda\")\n",
    "ax.invert_yaxis()\n",
    "ax.legend()\n",
    "sns.despine(fig, ax)"
   ]
  },
  {
   "cell_type": "code",
   "execution_count": null,
   "metadata": {
    "collapsed": true
   },
   "outputs": [],
   "source": [
    "fig, ax = plt.subplots()\n",
    "for i in range(1, len(weightSeries)):\n",
    "    w0 = weightSeries[i-1:i]\n",
    "    initial_weight = np.abs(initial_weights[i-1])\n",
    "    y = np.abs(w0.values.flatten())\n",
    "    y = np.divide(y*100, initial_weight)\n",
    "    x = df['Lambda'].values\n",
    "    ax.plot(x,y, label=\"Weight for point {}\".format(zero_weights[0][i]))\n",
    "ax.set_title('Development of weights')\n",
    "ax.set_ylabel('Percent of initial absolute value')\n",
    "ax.set_xlabel(\"Lambda\")\n",
    "ax.set_ylim(0, 200)\n",
    "#ax.legend()\n",
    "sns.despine(fig, ax)"
   ]
  },
  {
   "cell_type": "markdown",
   "metadata": {
    "collapsed": false,
    "scrolled": true
   },
   "source": [
    "# Group Analysis\n",
    "1. Group weights.\n",
    "2. Represent them in the format x_1, x_2, etc.\n",
    "3. Calculate norms"
   ]
  },
  {
   "cell_type": "code",
   "execution_count": 24,
   "metadata": {
    "collapsed": false
   },
   "outputs": [],
   "source": [
    "grid = estimator._learner.getGrid()\n",
    "storage = grid.getStorage()\n",
    "dim = 10"
   ]
  },
  {
   "cell_type": "code",
   "execution_count": 25,
   "metadata": {
    "collapsed": false
   },
   "outputs": [],
   "source": [
    "def decode(num):\n",
    "    zeros = np.zeros(len(num)) + 0.5\n",
    "    return np.equal(zeros, num)\n",
    "\n",
    "def coords_to_pred(coords):\n",
    "    s = \"\"\n",
    "    for i, c in enumerate(coords):\n",
    "        if not c:\n",
    "            s = s + \"x{} \".format(i)\n",
    "    s = s.strip()\n",
    "    if s == \"\":\n",
    "        return \"bias\"\n",
    "    else:\n",
    "        s = s.replace(\" \", \"-\")\n",
    "        return s\n",
    "\n",
    "def group_weights_raw(grid):\n",
    "    #commented code can be used later to calculat levels!\n",
    "    storage = grid.getStorage()\n",
    "    dim = storage.getDimension()\n",
    "\n",
    "    coords = []\n",
    "    #levels = []\n",
    "    for x in range(0, grid.getSize()):\n",
    "        gen0 = storage.get(x)\n",
    "        curCoords = []\n",
    "        #curLevels = []\n",
    "        for i in range(0,dim):\n",
    "            curCoords.append(gen0.getCoord(i))\n",
    "            #curLevels.append(gen0.getLevel(i))\n",
    "        curCoords = np.array(curCoords)\n",
    "        #curLevels = np.array(curLevels)\n",
    "        coords.append(curCoords)\n",
    "        #levels.append(curLevels)\n",
    "    #df = pd.DataFrame(coords)\n",
    "    #df_level = pd.DataFrame(levels)\n",
    "\n",
    "    terms = {}\n",
    "    groups = {}\n",
    "    terms_nums = []\n",
    "    for num, r in enumerate(coords):\n",
    "        d = tuple(decode(r))\n",
    "        if d not in terms:\n",
    "            terms[d] = []\n",
    "            groups[d] = len(groups)\n",
    "        terms[d].append(num)\n",
    "        terms_nums.append(groups[d])\n",
    "    \n",
    "    return terms\n",
    "\n",
    "def group_weights_format(grid):\n",
    "    terms = group_weights_raw(grid)\n",
    "    return dict([(coords_to_pred(coords), terms[coords]) for coords in terms])"
   ]
  },
  {
   "cell_type": "code",
   "execution_count": 26,
   "metadata": {
    "collapsed": false,
    "scrolled": true
   },
   "outputs": [
    {
     "name": "stdout",
     "output_type": "stream",
     "text": [
      "2 4\n",
      "2 4\n",
      "2 4\n",
      "2 4\n",
      "2 4\n",
      "2 4\n",
      "2 4\n",
      "0 1\n",
      "2 4\n",
      "2 4\n",
      "2 4\n",
      "2 4\n",
      "2 4\n",
      "2 4\n",
      "2 4\n",
      "2 4\n",
      "2 4\n",
      "2 4\n",
      "2 4\n",
      "2 4\n",
      "2 4\n",
      "2 4\n",
      "2 4\n",
      "2 4\n",
      "2 4\n",
      "2 4\n",
      "1 6\n",
      "1 6\n",
      "1 6\n",
      "1 6\n",
      "1 6\n",
      "1 6\n",
      "1 6\n",
      "1 6\n",
      "1 6\n",
      "1 6\n",
      "2 4\n",
      "2 4\n",
      "2 4\n",
      "2 4\n",
      "2 4\n",
      "2 4\n",
      "2 4\n",
      "2 4\n",
      "2 4\n",
      "2 4\n",
      "2 4\n",
      "2 4\n",
      "2 4\n",
      "2 4\n",
      "2 4\n",
      "2 4\n",
      "2 4\n",
      "2 4\n",
      "2 4\n",
      "2 4\n"
     ]
    }
   ],
   "source": [
    "groups = (group_weights_format(grid))\n",
    "for key in groups:\n",
    "    print key.count('x'), len(groups[key])"
   ]
  },
  {
   "cell_type": "code",
   "execution_count": 27,
   "metadata": {
    "collapsed": false,
    "scrolled": true
   },
   "outputs": [
    {
     "data": {
      "text/plain": [
       "{'bias': [0],\n",
       " 'x0': [1, 2, 3, 4, 5, 6],\n",
       " 'x0-x1': [13, 14, 15, 16],\n",
       " 'x0-x2': [23, 24, 25, 26],\n",
       " 'x0-x3': [37, 38, 39, 40],\n",
       " 'x0-x4': [55, 56, 57, 58],\n",
       " 'x0-x5': [77, 78, 79, 80],\n",
       " 'x0-x6': [103, 104, 105, 106],\n",
       " 'x0-x7': [133, 134, 135, 136],\n",
       " 'x0-x8': [167, 168, 169, 170],\n",
       " 'x0-x9': [205, 206, 207, 208],\n",
       " 'x1': [7, 8, 9, 10, 11, 12],\n",
       " 'x1-x2': [27, 28, 29, 30],\n",
       " 'x1-x3': [41, 42, 43, 44],\n",
       " 'x1-x4': [59, 60, 61, 62],\n",
       " 'x1-x5': [81, 82, 83, 84],\n",
       " 'x1-x6': [107, 108, 109, 110],\n",
       " 'x1-x7': [137, 138, 139, 140],\n",
       " 'x1-x8': [171, 172, 173, 174],\n",
       " 'x1-x9': [209, 210, 211, 212],\n",
       " 'x2': [17, 18, 19, 20, 21, 22],\n",
       " 'x2-x3': [45, 46, 47, 48],\n",
       " 'x2-x4': [63, 64, 65, 66],\n",
       " 'x2-x5': [85, 86, 87, 88],\n",
       " 'x2-x6': [111, 112, 113, 114],\n",
       " 'x2-x7': [141, 142, 143, 144],\n",
       " 'x2-x8': [175, 176, 177, 178],\n",
       " 'x2-x9': [213, 214, 215, 216],\n",
       " 'x3': [31, 32, 33, 34, 35, 36],\n",
       " 'x3-x4': [67, 68, 69, 70],\n",
       " 'x3-x5': [89, 90, 91, 92],\n",
       " 'x3-x6': [115, 116, 117, 118],\n",
       " 'x3-x7': [145, 146, 147, 148],\n",
       " 'x3-x8': [179, 180, 181, 182],\n",
       " 'x3-x9': [217, 218, 219, 220],\n",
       " 'x4': [49, 50, 51, 52, 53, 54],\n",
       " 'x4-x5': [93, 94, 95, 96],\n",
       " 'x4-x6': [119, 120, 121, 122],\n",
       " 'x4-x7': [149, 150, 151, 152],\n",
       " 'x4-x8': [183, 184, 185, 186],\n",
       " 'x4-x9': [221, 222, 223, 224],\n",
       " 'x5': [71, 72, 73, 74, 75, 76],\n",
       " 'x5-x6': [123, 124, 125, 126],\n",
       " 'x5-x7': [153, 154, 155, 156],\n",
       " 'x5-x8': [187, 188, 189, 190],\n",
       " 'x5-x9': [225, 226, 227, 228],\n",
       " 'x6': [97, 98, 99, 100, 101, 102],\n",
       " 'x6-x7': [157, 158, 159, 160],\n",
       " 'x6-x8': [191, 192, 193, 194],\n",
       " 'x6-x9': [229, 230, 231, 232],\n",
       " 'x7': [127, 128, 129, 130, 131, 132],\n",
       " 'x7-x8': [195, 196, 197, 198],\n",
       " 'x7-x9': [233, 234, 235, 236],\n",
       " 'x8': [161, 162, 163, 164, 165, 166],\n",
       " 'x8-x9': [237, 238, 239, 240],\n",
       " 'x9': [199, 200, 201, 202, 203, 204]}"
      ]
     },
     "execution_count": 27,
     "metadata": {},
     "output_type": "execute_result"
    }
   ],
   "source": [
    "groups"
   ]
  },
  {
   "cell_type": "code",
   "execution_count": 29,
   "metadata": {
    "collapsed": false
   },
   "outputs": [],
   "source": [
    "def calculate_group_norms(groups, weights):\n",
    "    norms = {}\n",
    "    for key in groups:  \n",
    "        norms[key] = np.linalg.norm(weights[groups[key]])\n",
    "    return norms"
   ]
  },
  {
   "cell_type": "code",
   "execution_count": 30,
   "metadata": {
    "collapsed": false
   },
   "outputs": [],
   "source": [
    "#t = df[\"Weights\"][0]\n",
    "#c = np.array([1, 2, 3, 4, 5, 6])\n",
    "#calculate_group_norms(groups, w)"
   ]
  },
  {
   "cell_type": "code",
   "execution_count": 31,
   "metadata": {
    "collapsed": false
   },
   "outputs": [],
   "source": [
    "norm_rows = []\n",
    "len_rows = []\n",
    "lambdas = []\n",
    "for _, i in df.iterrows():\n",
    "    lambda_cur = i['Lambda']\n",
    "    weights_cur = i['Weights']\n",
    "    mse_cur = i['MSE']\n",
    "    grp_len = dict([(key, len(list(np.where(weights_cur[groups[key]] != 0.0))[0])) for key in groups]) \n",
    "    norms = calculate_group_norms(groups, weights_cur)\n",
    "    lambdas.append(lambda_cur)\n",
    "    norm_rows.append(norms)\n",
    "    len_rows.append(grp_len)"
   ]
  },
  {
   "cell_type": "code",
   "execution_count": 32,
   "metadata": {
    "collapsed": false
   },
   "outputs": [],
   "source": [
    "int_terms_norm = pd.DataFrame(norm_rows, index=lambdas)\n",
    "int_terms_len = pd.DataFrame(len_rows, index=lambdas)"
   ]
  },
  {
   "cell_type": "code",
   "execution_count": 105,
   "metadata": {
    "collapsed": false,
    "scrolled": false
   },
   "outputs": [
    {
     "data": {
      "text/plain": [
       "<matplotlib.text.Text at 0x7fc0f4913b50>"
      ]
     },
     "execution_count": 105,
     "metadata": {},
     "output_type": "execute_result"
    },
    {
     "data": {
      "image/png": "[encoded data removed]",
      "text/plain": [
       "<matplotlib.figure.Figure at 0x7fc0f69fe7d0>"
      ]
     },
     "metadata": {},
     "output_type": "display_data"
    }
   ],
   "source": [
    "fig, axs = plt.subplots(2,1, sharex= True)\n",
    "len_p = sns.heatmap(int_terms_len, linewidths=.1, square=True, ax=axs[0])\n",
    "#len_p.set_xlabel(\"Interaction Terms\")\n",
    "len_p.set_ylabel(\"Lambda\")\n",
    "len_p.set_title(\"Lambda vs. No. of Interaction Terms\")\n",
    "\n",
    "norm_p = sns.heatmap(int_terms_norm, annot=False, linewidths=.1, square=True, ax=axs[1])\n",
    "norm_p.set_xlabel(\"Interaction Terms\")\n",
    "norm_p.set_ylabel(\"Lambda\")\n",
    "norm_p.set_title(\"Lambda vs. group norms\")"
   ]
  },
  {
   "cell_type": "code",
   "execution_count": 81,
   "metadata": {
    "collapsed": false
   },
   "outputs": [
    {
     "data": {
      "image/png": "[encoded data removed]",
      "text/plain": [
       "<matplotlib.figure.Figure at 0x7fc0f9304f50>"
      ]
     },
     "metadata": {},
     "output_type": "display_data"
    }
   ],
   "source": [
    "fig, ax = plt.subplots()\n",
    "ax.plot(df['Lambda'], df['MSE'])\n",
    "ax.set_xticks(df['Lambda'])\n",
    "ax.set_xticklabels(df['Lambda'])\n",
    "ax.set_yticks(df['MSE'])\n",
    "ax.set_yticklabels(df['MSE'])\n",
    "sns.despine(fig,ax)"
   ]
  },
  {
   "cell_type": "code",
   "execution_count": 83,
   "metadata": {
    "collapsed": false
   },
   "outputs": [
    {
     "data": {
      "text/plain": [
       "<matplotlib.text.Text at 0x7fc0f8d457d0>"
      ]
     },
     "execution_count": 83,
     "metadata": {},
     "output_type": "execute_result"
    },
    {
     "data": {
      "image/png": "[encoded data removed]",
      "text/plain": [
       "<matplotlib.figure.Figure at 0x7fc0f8b5d410>"
      ]
     },
     "metadata": {},
     "output_type": "display_data"
    }
   ],
   "source": []
  },
  {
   "cell_type": "code",
   "execution_count": 48,
   "metadata": {
    "collapsed": false
   },
   "outputs": [
    {
     "data": {
      "text/plain": [
       "array([  1.59159930e+00,  -4.20249822e-02,  -9.30286777e-02,\n",
       "         2.77369792e-02,  -1.48862718e-03,  -4.98854956e-03,\n",
       "         9.47652607e-03,  -1.31112078e-01,  -9.48191993e-03,\n",
       "        -1.31277472e-01,  -1.43717665e-02,  -8.57507113e-03,\n",
       "        -6.13854124e-03,   9.98153036e-02,  -1.69736075e-03,\n",
       "        -1.81741467e-02,   1.55700498e-02,  -1.23342169e-01,\n",
       "        -3.45942865e-02,  -4.07821306e-01,  -7.33985607e-02,\n",
       "        -5.16557602e-03,  -4.63973600e-03,   1.49589088e-01,\n",
       "         1.15571114e-02,  -9.66897879e-03,   2.96618470e-02,\n",
       "        -4.17895096e-02,   6.02559822e-02,   5.71680674e-02,\n",
       "         1.53427901e-02,  -2.06502094e-02,  -2.10123855e-02,\n",
       "        -1.91451541e-04,  -5.09842279e-03,  -9.30974815e-04,\n",
       "         2.50472240e-04,   6.84170214e-03,   3.68378960e-03,\n",
       "        -1.18097847e-03,  -1.50750545e-04,   3.62209723e-04,\n",
       "         1.37309719e-03,   4.15193404e-03,   5.13487472e-03,\n",
       "         1.55208660e-02,   1.63855361e-02,   1.05912547e-02,\n",
       "         1.18045941e-02])"
      ]
     },
     "execution_count": 48,
     "metadata": {},
     "output_type": "execute_result"
    }
   ],
   "source": [
    "df['Weights'][4]"
   ]
  },
  {
   "cell_type": "code",
   "execution_count": 93,
   "metadata": {
    "collapsed": false
   },
   "outputs": [
    {
     "data": {
      "image/png": "[encoded data removed]",
      "text/plain": [
       "<matplotlib.figure.Figure at 0x7fc0f8dbd7d0>"
      ]
     },
     "metadata": {},
     "output_type": "display_data"
    }
   ],
   "source": []
  },
  {
   "cell_type": "code",
   "execution_count": 9,
   "metadata": {
    "collapsed": false
   },
   "outputs": [
    {
     "data": {
      "text/plain": [
       "(64.0, 1.0)"
      ]
     },
     "execution_count": 9,
     "metadata": {},
     "output_type": "execute_result"
    }
   ],
   "source": [
    "d = 2\n",
    "lsum = 2\n",
    "1.0/2**(-d-2*lsum), (1.0/4)**(lsum-d)"
   ]
  },
  {
   "cell_type": "code",
   "execution_count": 7,
   "metadata": {
    "collapsed": false
   },
   "outputs": [
    {
     "data": {
      "text/plain": [
       "0.5"
      ]
     },
     "execution_count": 7,
     "metadata": {},
     "output_type": "execute_result"
    }
   ],
   "source": []
  },
  {
   "cell_type": "code",
   "execution_count": null,
   "metadata": {
    "collapsed": true
   },
   "outputs": [],
   "source": []
  }
 ],
 "metadata": {
  "kernelspec": {
   "display_name": "Python 2",
   "language": "python",
   "name": "python2"
  },
  "language_info": {
   "codemirror_mode": {
    "name": "ipython",
    "version": 2
   },
   "file_extension": ".py",
   "mimetype": "text/x-python",
   "name": "python",
   "nbconvert_exporter": "python",
   "pygments_lexer": "ipython2",
   "version": "2.7.11"
  }
 },
 "nbformat": 4,
 "nbformat_minor": 0
}
