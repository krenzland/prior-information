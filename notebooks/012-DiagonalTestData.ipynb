{
 "cells": [
  {
   "cell_type": "code",
   "execution_count": 264,
   "metadata": {
    "collapsed": false
   },
   "outputs": [],
   "source": [
    "%matplotlib inline\n",
    "from pysgpp import RegressionLearner, RegularGridConfiguration, AdpativityConfiguration, SLESolverConfiguration, \\\n",
    "RegularizationConfiguration, DataMatrix, DataVector\n",
    "\n",
    "import sys, os\n",
    "sys.path.append(os.path.abspath(os.path.join('..', 'src/')))\n",
    "from sgpi.util import to_data_matrix, get_xy, split\n",
    "\n",
    "import numpy as np; np.random.seed(42)\n",
    "import matplotlib.pyplot as plt\n",
    "import seaborn as sns\n",
    "import pandas as pd"
   ]
  },
  {
   "cell_type": "code",
   "execution_count": 252,
   "metadata": {
    "collapsed": false
   },
   "outputs": [],
   "source": [
    "def generateData(dim, level, noiseStd, num):\n",
    "    np.random.seed(42)\n",
    "    grid_config = RegularGridConfiguration()\n",
    "    grid_config.dim_ = dim\n",
    "    grid_config.level_ = level\n",
    "    grid_config.type_ = 6\n",
    "    grid_config.t_ = 0.0\n",
    "\n",
    "    adaptivity_config = AdpativityConfiguration()\n",
    "    adaptivity_config.numRefinements = 0\n",
    "\n",
    "    solver_config = SLESolverConfiguration()\n",
    "    solver_config.type_ = 0\n",
    "    solver_config.maxIterations_ = 50\n",
    "    solver_config.threshold_ = 1e-5\n",
    "\n",
    "    regularization_config = RegularizationConfiguration()\n",
    "    regularization_config.type_ = 2\n",
    "    regularization_config.exponentBase_ = 0.25\n",
    "    regularization_config.lambda_ = 0.1\n",
    "\n",
    "    estimator = RegressionLearner(grid_config, adaptivity_config, solver_config, solver_config, regularization_config)\n",
    "    \n",
    "    estimator.initializeWeights()\n",
    "    X = to_data_matrix(np.random.random((num, dim)))\n",
    "    y = np.matrix(estimator.predict(X).array()).T \n",
    "    if noiseStd != 0.0:\n",
    "        y = y + np.matrix(np.random.normal(0,noiseStd, num)).T\n",
    "    X = X.array()\n",
    "    df = pd.DataFrame(np.append(X,y,axis=1)).reset_index(drop=False)\n",
    "    df.columns = ['index'] + ['x' + str(x) for x in range(0,dim)] + ['y']\n",
    "    return df\n",
    "\n",
    "def saveData(dim, level, noiseStd, num, filename):\n",
    "    df = generateData(dim, level, noiseStd, num)\n",
    "    prefix = '../datasets/processed/diagonal_test/'\n",
    "    df.drop(['index'], axis=1).to_csv(os.path.join(prefix, filename), index=None)"
   ]
  },
  {
   "cell_type": "code",
   "execution_count": 259,
   "metadata": {
    "collapsed": false
   },
   "outputs": [
    {
     "data": {
      "text/html": [
       "<div>\n",
       "<table border=\"1\" class=\"dataframe\">\n",
       "  <thead>\n",
       "    <tr style=\"text-align: right;\">\n",
       "      <th></th>\n",
       "      <th>index</th>\n",
       "      <th>x0</th>\n",
       "      <th>x1</th>\n",
       "      <th>y</th>\n",
       "    </tr>\n",
       "  </thead>\n",
       "  <tbody>\n",
       "    <tr>\n",
       "      <th>count</th>\n",
       "      <td>2000.000000</td>\n",
       "      <td>2000.000000</td>\n",
       "      <td>2000.000000</td>\n",
       "      <td>2000.000000</td>\n",
       "    </tr>\n",
       "    <tr>\n",
       "      <th>mean</th>\n",
       "      <td>999.500000</td>\n",
       "      <td>0.494333</td>\n",
       "      <td>0.500694</td>\n",
       "      <td>-0.628974</td>\n",
       "    </tr>\n",
       "    <tr>\n",
       "      <th>std</th>\n",
       "      <td>577.494589</td>\n",
       "      <td>0.293217</td>\n",
       "      <td>0.287527</td>\n",
       "      <td>50.349699</td>\n",
       "    </tr>\n",
       "    <tr>\n",
       "      <th>min</th>\n",
       "      <td>0.000000</td>\n",
       "      <td>0.000012</td>\n",
       "      <td>0.001474</td>\n",
       "      <td>-158.451560</td>\n",
       "    </tr>\n",
       "    <tr>\n",
       "      <th>25%</th>\n",
       "      <td>499.750000</td>\n",
       "      <td>0.232164</td>\n",
       "      <td>0.254778</td>\n",
       "      <td>-35.317668</td>\n",
       "    </tr>\n",
       "    <tr>\n",
       "      <th>50%</th>\n",
       "      <td>999.500000</td>\n",
       "      <td>0.498312</td>\n",
       "      <td>0.502042</td>\n",
       "      <td>0.382668</td>\n",
       "    </tr>\n",
       "    <tr>\n",
       "      <th>75%</th>\n",
       "      <td>1499.250000</td>\n",
       "      <td>0.750999</td>\n",
       "      <td>0.748120</td>\n",
       "      <td>33.225349</td>\n",
       "    </tr>\n",
       "    <tr>\n",
       "      <th>max</th>\n",
       "      <td>1999.000000</td>\n",
       "      <td>0.999414</td>\n",
       "      <td>0.999718</td>\n",
       "      <td>162.171454</td>\n",
       "    </tr>\n",
       "  </tbody>\n",
       "</table>\n",
       "</div>"
      ],
      "text/plain": [
       "             index           x0           x1            y\n",
       "count  2000.000000  2000.000000  2000.000000  2000.000000\n",
       "mean    999.500000     0.494333     0.500694    -0.628974\n",
       "std     577.494589     0.293217     0.287527    50.349699\n",
       "min       0.000000     0.000012     0.001474  -158.451560\n",
       "25%     499.750000     0.232164     0.254778   -35.317668\n",
       "50%     999.500000     0.498312     0.502042     0.382668\n",
       "75%    1499.250000     0.750999     0.748120    33.225349\n",
       "max    1999.000000     0.999414     0.999718   162.171454"
      ]
     },
     "execution_count": 259,
     "metadata": {},
     "output_type": "execute_result"
    },
    {
     "data": {
      "image/png": "[encoded data removed]",
      "text/plain": [
       "<matplotlib.figure.Figure at 0x7fcfa9abcbd0>"
      ]
     },
     "metadata": {},
     "output_type": "display_data"
    }
   ],
   "source": [
    "df = generateData(2, 5, 50.0, 2000)\n",
    "_, y = get_xy(df)\n",
    "sns.distplot(y)\n",
    "df.describe()"
   ]
  },
  {
   "cell_type": "code",
   "execution_count": 276,
   "metadata": {
    "collapsed": false
   },
   "outputs": [],
   "source": [
    "saveData(2,5,1.0, 2000, 'diag_test_1_noise.csv')\n",
    "saveData(2,5,10.0, 2000, 'diag_test_10_noise.csv')\n",
    "saveData(2,5,50.0, 2000, 'diag_test_50_noise.csv')"
   ]
  },
  {
   "cell_type": "code",
   "execution_count": 174,
   "metadata": {
    "collapsed": false,
    "scrolled": true
   },
   "outputs": [
    {
     "data": {
      "text/plain": [
       "matrix([[-0.60989349],\n",
       "        [ 0.61869781],\n",
       "        [ 0.31738124],\n",
       "        ..., \n",
       "        [ 0.34118568],\n",
       "        [ 0.05849453],\n",
       "        [ 0.50166105]])"
      ]
     },
     "execution_count": 174,
     "metadata": {},
     "output_type": "execute_result"
    }
   ],
   "source": [
    "y"
   ]
  },
  {
   "cell_type": "code",
   "execution_count": 179,
   "metadata": {
    "collapsed": false,
    "scrolled": false
   },
   "outputs": [
    {
     "data": {
      "text/plain": [
       "(2000, 5)"
      ]
     },
     "execution_count": 179,
     "metadata": {},
     "output_type": "execute_result"
    }
   ],
   "source": [
    "np.append(X,y, axis=1).shape"
   ]
  },
  {
   "cell_type": "code",
   "execution_count": 189,
   "metadata": {
    "collapsed": false,
    "scrolled": true
   },
   "outputs": [
    {
     "data": {
      "text/plain": [
       "((2000, 5), (2000,))"
      ]
     },
     "execution_count": 189,
     "metadata": {},
     "output_type": "execute_result"
    }
   ],
   "source": [
    "X.shape, y.shape"
   ]
  },
  {
   "cell_type": "code",
   "execution_count": null,
   "metadata": {
    "collapsed": false
   },
   "outputs": [],
   "source": []
  },
  {
   "cell_type": "code",
   "execution_count": 261,
   "metadata": {
    "collapsed": true
   },
   "outputs": [],
   "source": [
    "dfr = pd.read_csv(\"../datasets/processed/diagonal_test/diag_test_50_noise.csv\")"
   ]
  },
  {
   "cell_type": "code",
   "execution_count": 274,
   "metadata": {
    "collapsed": false
   },
   "outputs": [
    {
     "data": {
      "text/plain": [
       "2533.8246356161972"
      ]
     },
     "execution_count": 274,
     "metadata": {},
     "output_type": "execute_result"
    }
   ],
   "source": [
    "X, y = get_xy(dfr)\n",
    "y.var()"
   ]
  },
  {
   "cell_type": "code",
   "execution_count": 267,
   "metadata": {
    "collapsed": false
   },
   "outputs": [
    {
     "data": {
      "text/plain": [
       "array([[ 0.37454012,  0.95071431],\n",
       "       [ 0.73199394,  0.59865848],\n",
       "       [ 0.15601864,  0.15599452],\n",
       "       ..., \n",
       "       [ 0.49253538,  0.44210703],\n",
       "       [ 0.33440118,  0.39457232],\n",
       "       [ 0.52994059,  0.16136736]])"
      ]
     },
     "execution_count": 267,
     "metadata": {},
     "output_type": "execute_result"
    }
   ],
   "source": [
    "X"
   ]
  },
  {
   "cell_type": "code",
   "execution_count": 272,
   "metadata": {
    "collapsed": false
   },
   "outputs": [
    {
     "data": {
      "text/html": [
       "<div>\n",
       "<table border=\"1\" class=\"dataframe\">\n",
       "  <thead>\n",
       "    <tr style=\"text-align: right;\">\n",
       "      <th></th>\n",
       "      <th>x0</th>\n",
       "      <th>x1</th>\n",
       "      <th>y</th>\n",
       "    </tr>\n",
       "  </thead>\n",
       "  <tbody>\n",
       "    <tr>\n",
       "      <th>count</th>\n",
       "      <td>2000.000000</td>\n",
       "      <td>2000.000000</td>\n",
       "      <td>2000.000000</td>\n",
       "    </tr>\n",
       "    <tr>\n",
       "      <th>mean</th>\n",
       "      <td>0.494333</td>\n",
       "      <td>0.500694</td>\n",
       "      <td>-0.628974</td>\n",
       "    </tr>\n",
       "    <tr>\n",
       "      <th>std</th>\n",
       "      <td>0.293217</td>\n",
       "      <td>0.287527</td>\n",
       "      <td>50.349699</td>\n",
       "    </tr>\n",
       "    <tr>\n",
       "      <th>min</th>\n",
       "      <td>0.000012</td>\n",
       "      <td>0.001474</td>\n",
       "      <td>-158.451560</td>\n",
       "    </tr>\n",
       "    <tr>\n",
       "      <th>25%</th>\n",
       "      <td>0.232164</td>\n",
       "      <td>0.254778</td>\n",
       "      <td>-35.317668</td>\n",
       "    </tr>\n",
       "    <tr>\n",
       "      <th>50%</th>\n",
       "      <td>0.498312</td>\n",
       "      <td>0.502042</td>\n",
       "      <td>0.382668</td>\n",
       "    </tr>\n",
       "    <tr>\n",
       "      <th>75%</th>\n",
       "      <td>0.750999</td>\n",
       "      <td>0.748120</td>\n",
       "      <td>33.225349</td>\n",
       "    </tr>\n",
       "    <tr>\n",
       "      <th>max</th>\n",
       "      <td>0.999414</td>\n",
       "      <td>0.999718</td>\n",
       "      <td>162.171454</td>\n",
       "    </tr>\n",
       "  </tbody>\n",
       "</table>\n",
       "</div>"
      ],
      "text/plain": [
       "                x0           x1            y\n",
       "count  2000.000000  2000.000000  2000.000000\n",
       "mean      0.494333     0.500694    -0.628974\n",
       "std       0.293217     0.287527    50.349699\n",
       "min       0.000012     0.001474  -158.451560\n",
       "25%       0.232164     0.254778   -35.317668\n",
       "50%       0.498312     0.502042     0.382668\n",
       "75%       0.750999     0.748120    33.225349\n",
       "max       0.999414     0.999718   162.171454"
      ]
     },
     "execution_count": 272,
     "metadata": {},
     "output_type": "execute_result"
    }
   ],
   "source": [
    "dfr.describe()"
   ]
  },
  {
   "cell_type": "code",
   "execution_count": 273,
   "metadata": {
    "collapsed": false
   },
   "outputs": [
    {
     "data": {
      "text/html": [
       "<div>\n",
       "<table border=\"1\" class=\"dataframe\">\n",
       "  <thead>\n",
       "    <tr style=\"text-align: right;\">\n",
       "      <th></th>\n",
       "      <th>index</th>\n",
       "      <th>x0</th>\n",
       "      <th>x1</th>\n",
       "      <th>y</th>\n",
       "    </tr>\n",
       "  </thead>\n",
       "  <tbody>\n",
       "    <tr>\n",
       "      <th>count</th>\n",
       "      <td>2000.000000</td>\n",
       "      <td>2000.000000</td>\n",
       "      <td>2000.000000</td>\n",
       "      <td>2000.000000</td>\n",
       "    </tr>\n",
       "    <tr>\n",
       "      <th>mean</th>\n",
       "      <td>999.500000</td>\n",
       "      <td>0.494333</td>\n",
       "      <td>0.500694</td>\n",
       "      <td>-0.628974</td>\n",
       "    </tr>\n",
       "    <tr>\n",
       "      <th>std</th>\n",
       "      <td>577.494589</td>\n",
       "      <td>0.293217</td>\n",
       "      <td>0.287527</td>\n",
       "      <td>50.349699</td>\n",
       "    </tr>\n",
       "    <tr>\n",
       "      <th>min</th>\n",
       "      <td>0.000000</td>\n",
       "      <td>0.000012</td>\n",
       "      <td>0.001474</td>\n",
       "      <td>-158.451560</td>\n",
       "    </tr>\n",
       "    <tr>\n",
       "      <th>25%</th>\n",
       "      <td>499.750000</td>\n",
       "      <td>0.232164</td>\n",
       "      <td>0.254778</td>\n",
       "      <td>-35.317668</td>\n",
       "    </tr>\n",
       "    <tr>\n",
       "      <th>50%</th>\n",
       "      <td>999.500000</td>\n",
       "      <td>0.498312</td>\n",
       "      <td>0.502042</td>\n",
       "      <td>0.382668</td>\n",
       "    </tr>\n",
       "    <tr>\n",
       "      <th>75%</th>\n",
       "      <td>1499.250000</td>\n",
       "      <td>0.750999</td>\n",
       "      <td>0.748120</td>\n",
       "      <td>33.225349</td>\n",
       "    </tr>\n",
       "    <tr>\n",
       "      <th>max</th>\n",
       "      <td>1999.000000</td>\n",
       "      <td>0.999414</td>\n",
       "      <td>0.999718</td>\n",
       "      <td>162.171454</td>\n",
       "    </tr>\n",
       "  </tbody>\n",
       "</table>\n",
       "</div>"
      ],
      "text/plain": [
       "             index           x0           x1            y\n",
       "count  2000.000000  2000.000000  2000.000000  2000.000000\n",
       "mean    999.500000     0.494333     0.500694    -0.628974\n",
       "std     577.494589     0.293217     0.287527    50.349699\n",
       "min       0.000000     0.000012     0.001474  -158.451560\n",
       "25%     499.750000     0.232164     0.254778   -35.317668\n",
       "50%     999.500000     0.498312     0.502042     0.382668\n",
       "75%    1499.250000     0.750999     0.748120    33.225349\n",
       "max    1999.000000     0.999414     0.999718   162.171454"
      ]
     },
     "execution_count": 273,
     "metadata": {},
     "output_type": "execute_result"
    }
   ],
   "source": [
    "df.describe()"
   ]
  },
  {
   "cell_type": "code",
   "execution_count": 312,
   "metadata": {
    "collapsed": false
   },
   "outputs": [
    {
     "data": {
      "text/plain": [
       "0.98042198835804661"
      ]
     },
     "execution_count": 312,
     "metadata": {},
     "output_type": "execute_result"
    }
   ],
   "source": [
    "(np.matrix(np.zeros((1,2000))) + np.matrix(np.random.normal(0,1.0, 2000))).std()"
   ]
  },
  {
   "cell_type": "code",
   "execution_count": 336,
   "metadata": {
    "collapsed": false
   },
   "outputs": [],
   "source": [
    "r = np.matrix(np.random.normal(0,10.0, 2000))"
   ]
  },
  {
   "cell_type": "code",
   "execution_count": null,
   "metadata": {
    "collapsed": false
   },
   "outputs": [],
   "source": []
  },
  {
   "cell_type": "code",
   "execution_count": 338,
   "metadata": {
    "collapsed": false
   },
   "outputs": [
    {
     "data": {
      "text/plain": [
       "54.364370223956733"
      ]
     },
     "execution_count": 338,
     "metadata": {},
     "output_type": "execute_result"
    }
   ],
   "source": []
  },
  {
   "cell_type": "code",
   "execution_count": null,
   "metadata": {
    "collapsed": false
   },
   "outputs": [],
   "source": []
  },
  {
   "cell_type": "code",
   "execution_count": null,
   "metadata": {
    "collapsed": false
   },
   "outputs": [],
   "source": []
  },
  {
   "cell_type": "code",
   "execution_count": null,
   "metadata": {
    "collapsed": true
   },
   "outputs": [],
   "source": []
  }
 ],
 "metadata": {
  "kernelspec": {
   "display_name": "Python 2",
   "language": "python",
   "name": "python2"
  },
  "language_info": {
   "codemirror_mode": {
    "name": "ipython",
    "version": 2
   },
   "file_extension": ".py",
   "mimetype": "text/x-python",
   "name": "python",
   "nbconvert_exporter": "python",
   "pygments_lexer": "ipython2",
   "version": "2.7.11"
  }
 },
 "nbformat": 4,
 "nbformat_minor": 0
}
