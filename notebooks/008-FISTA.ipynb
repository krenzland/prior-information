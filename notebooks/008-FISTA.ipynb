{
 "cells": [
  {
   "cell_type": "code",
   "execution_count": 10,
   "metadata": {
    "collapsed": false
   },
   "outputs": [],
   "source": [
    "%matplotlib inline\n",
    "import numpy as np\n",
    "from scipy.sparse.linalg import LinearOperator, svds, aslinearoperator\n",
    "from scipy.linalg import svd\n",
    "from sklearn.preprocessing import MinMaxScaler\n",
    "from pysgpp import DataMatrix, DataVector, createOperationMultipleEval, Grid\n",
    "from __future__ import division, print_function\n",
    "\n",
    "import matplotlib.pyplot as plt\n",
    "import sys, os\n",
    "\n",
    "import matplotlib.pyplot as plt\n",
    "plt.rcParams['figure.figsize'] = (10, 6)\n",
    "import seaborn as sns\n",
    "sns.set_style('white')\n",
    "sns.set_palette(sns.color_palette('viridis'))\n",
    "\n",
    "sys.path.append(os.path.abspath(os.path.join('..', 'src/')))\n",
    "from sgpi.util import get_dataset, get_xy, to_data_matrix, split"
   ]
  },
  {
   "cell_type": "code",
   "execution_count": 2,
   "metadata": {
    "collapsed": false
   },
   "outputs": [],
   "source": [
    "grid = Grid.createModLinearGrid(4)\n",
    "gen = grid.getGenerator()\n",
    "storage = grid.getStorage()\n",
    "gen.regular(5)\n",
    "\n",
    "df = get_dataset('friedman3')\n",
    "train, test = split(df)\n",
    "X_train, y_train = get_xy(train)\n",
    "X_test, y_test = get_xy(train)"
   ]
  },
  {
   "cell_type": "code",
   "execution_count": 3,
   "metadata": {
    "collapsed": false
   },
   "outputs": [],
   "source": [
    "def eval_op(x, op, size):\n",
    "    result_vec = DataVector(size)\n",
    "    x = DataVector(np.array(x).flatten())\n",
    "    op.mult(x, result_vec)\n",
    "    return result_vec.array().copy()\n",
    "\n",
    "def eval_op_transpose(x, op, size):\n",
    "    result_vec = DataVector(size)  \n",
    "    x = DataVector(np.array(x).flatten())\n",
    "    op.multTranspose(x, result_vec)\n",
    "    return result_vec.array().copy()\n",
    "  \n",
    "data_train = to_data_matrix(X_train)\n",
    "data_test = to_data_matrix(X_test)\n",
    "\n",
    "num_elem = X_train.shape[0]\n",
    "\n",
    "op = createOperationMultipleEval(grid, data_train)\n",
    "matvec = lambda x: eval_op(x, op, num_elem)\n",
    "rmatvec = lambda x: eval_op_transpose(x, op, grid.getSize())\n",
    "\n",
    "shape = (num_elem, grid.getSize())\n",
    "linop = LinearOperator(shape, matvec, rmatvec, dtype='float64')\n",
    "\n",
    "y_sg = np.matrix(y_train).T\n",
    "x_sg = np.matrix(np.zeros(grid.getSize())).transpose()"
   ]
  },
  {
   "cell_type": "code",
   "execution_count": 5,
   "metadata": {
    "collapsed": false
   },
   "outputs": [],
   "source": [
    "u, s, v = svds(linop, k=grid.getSize() - 1)\n",
    "#A_sg = np.matrix(((u * s) * np.matrix(v)))"
   ]
  },
  {
   "cell_type": "markdown",
   "metadata": {},
   "source": [
    "# FISTA\n",
    "\n",
    "## Proximal operator & splitting\n",
    "\n",
    "(see proximal algorithms boyd)\n",
    "\n",
    "$$\n",
    "f(x) = (1/2)\\Vert Ax - b \\Vert_2^2, \\qquad g(x) = \\lambda \\Vert x \\Vert_1 \\\\\n",
    "\\nabla f(x) = A^\\text{T}(Ax-b) \\\\\n",
    "\\text{prox}_{\\lambda g}(x) = ( x - \\lambda)_+ - (-x - \\lambda)_+\n",
    "\\\\\n",
    "$$\n",
    "\n",
    "Note: get_residual calculates $\\Vert Ax - b \\Vert_2^2$, note the missing $1/2$.\n",
    "All calculations use the adjusted value $1/2 * \\text{ residual}$"
   ]
  },
  {
   "cell_type": "code",
   "execution_count": 4,
   "metadata": {
    "collapsed": false
   },
   "outputs": [],
   "source": [
    "def array_to_linop(A):\n",
    "    matvec_A = lambda x: A*x\n",
    "    rmatvec_A = lambda x: A.transpose()*x\n",
    "    linop = LinearOperator(A.shape, matvec_A, rmatvec_A, dtype='float64')\n",
    "    return linop\n",
    "\n",
    "def proximal_l1(x, alpha):\n",
    "    return np.maximum(x - alpha, 0) - np.maximum(-x - alpha, 0)\n",
    "\n",
    "def gradient(A, x, b):\n",
    "    if isinstance(A, np.matrix):\n",
    "        return A.transpose() * (A * x - b)\n",
    "    elif isinstance(A, LinearOperator):\n",
    "        return (A.rmatvec(A.matvec(x) - b))\n",
    "    \n",
    "def get_stepsize(A):\n",
    "    if isinstance(A, np.matrix):\n",
    "        singular_values = svd(A, compute_uv=False)\n",
    "        max_sval_A = singular_values.max()      \n",
    "    elif isinstance(A, LinearOperator):\n",
    "        _, singular_values, _ = svds(A, k=1)\n",
    "        max_sval_A = singular_values.max()    \n",
    "    max_eigen_AA_t = max_sval_A * max_sval_A\n",
    "    return 1.0/(max_eigen_AA_t)\n",
    "\n",
    "\n",
    "def get_residual(A, x, b):\n",
    "    if isinstance(A, np.matrix):\n",
    "        res = A * x - b\n",
    "    elif isinstance(A, LinearOperator):\n",
    "        res = A.matvec(x) - b\n",
    "    res = np.multiply(res, res)\n",
    "    return res.sum()\n",
    "\n",
    "\n",
    "def ista(A, x_start, num_it, lambda_reg, b, residuals=None):\n",
    "    x_k = x_start\n",
    "    stepsize = get_stepsize(A)\n",
    "    for i in xrange(1,num_it+1):\n",
    "        x_k = proximal_l1(x_k - stepsize * gradient(A, x_k, b), lambda_reg * stepsize)\n",
    "        if i % (num_it/10) == 0:\n",
    "            residual = get_residual(A, x_k, b)\n",
    "            print(\"Iteration {}\\t with residual of {}\".format(i, residual))\n",
    "        if residuals is not None:\n",
    "            residuals.append(get_residual(A, x_k, b))    \n",
    "    return x_k\n",
    "\n",
    "\n",
    "def fista(A, x_start, num_it, lambda_reg, b, residuals=None):\n",
    "    stepsize = get_stepsize(A)\n",
    "    x_k = x_start\n",
    "    y_k = x_k.copy()\n",
    "    t_k = 1.0\n",
    "    for i in xrange(1,num_it+1):\n",
    "        x_before = x_k.copy()\n",
    "        x_k = proximal_l1(y_k - stepsize * gradient(A, y_k, b), lambda_reg * stepsize)\n",
    "        \n",
    "        t_before = t_k\n",
    "        t_k = (1 + np.sqrt(1 + 4 * t_before* t_before))/2\n",
    "        \n",
    "        y_k = x_k + ((t_before - 1)/(t_k)) * (x_k - x_before)\n",
    "        if i % (num_it/10) == 0:\n",
    "            residual = get_residual(A, x_k, b)\n",
    "            print(\"Iteration {}\\t with residual of {}\".format(i, residual))\n",
    "            print(stepsize**(-1))\n",
    "        if residuals is not None:\n",
    "            residuals.append(get_residual(A, x_k, b))\n",
    "    return x_k\n",
    "\n",
    "\n",
    "def eval_goal(A, x, b, lambda_reg):\n",
    "    res = 0.5*get_residual(A, x, b)\n",
    "    regular = lambda_reg * np.abs(x).sum()\n",
    "    return res + regular\n",
    "\n",
    "\n",
    "def eval_upper_bound(A, x, y, b, lambda_reg, L_k):\n",
    "    # FISTA paper eq. 2.5\n",
    "    f = 0.5 * get_residual(A, y, b)\n",
    "    g = lambda_reg * np.abs(x).sum()\n",
    "    gradient_f = gradient(A, y, b)\n",
    "    x_minus_y = x - y\n",
    "    x_minus_y_norm = L_k/2 * np.multiply(x_minus_y, x_minus_y).sum()\n",
    "    return f + np.dot(np.transpose(gradient_f), x_minus_y) + x_minus_y_norm + g\n",
    " \n",
    "    \n",
    "def ista_line(A, x, lambda_reg, b, L_before):\n",
    "    i_k = 0\n",
    "    eta = 2\n",
    "    while True:\n",
    "        L_k = eta**i_k * L_before\n",
    "        stepsize = 1.0/L_k\n",
    "        prox = proximal_l1(x - stepsize * gradient(A, x, b), lambda_reg * stepsize)\n",
    "        goal = eval_goal(A, prox, b, lambda_reg)\n",
    "        upper_bound = eval_upper_bound(A, prox, x, b, lambda_reg, L_k)\n",
    "        if goal <= upper_bound:\n",
    "            return L_k\n",
    "        i_k += 1\n",
    "\n",
    "        \n",
    "def ista_back(A, x_start, num_it, lambda_reg, b):\n",
    "    x_k = x_start\n",
    "    L_k = 1.1\n",
    "    for i in xrange(1,num_it+1):\n",
    "        L_k = ista_line(A, x_k, lambda_reg, b, L_k)\n",
    "        stepsize = 1.0/L_k\n",
    "        x_k = proximal_l1(x_k - stepsize * gradient(A, x_k, b), lambda_reg * stepsize)\n",
    "        if i % (num_it/10) == 0:\n",
    "            residual = get_residual(A, x_k, b)\n",
    "            print(\"Iteration {}\\t with residual of {}\".format(i, residual))\n",
    "    return x_k   \n",
    "\n",
    "def fista_back(A, x_start, num_it, lambda_reg, b):\n",
    "    L_k = 1.1\n",
    "    x_k = x_start\n",
    "    y_k = x_k.copy()\n",
    "    t_k = 1.0\n",
    "    for i in xrange(1,num_it+1):\n",
    "        L_k = ista_line(A, y_k, lambda_reg, b, L_k)\n",
    "        stepsize = 1.0/L_k\n",
    "        \n",
    "        x_before = x_k.copy()\n",
    "        x_k = proximal_l1(y_k - stepsize * gradient(A, y_k, b), lambda_reg * stepsize)\n",
    "        \n",
    "        t_before = t_k\n",
    "        t_k = (1 + np.sqrt(1 + 4 * t_before* t_before))/2\n",
    "        \n",
    "        y_k = x_k + ((t_before - 1)/(t_k)) * (x_k - x_before)\n",
    "        if i % (num_it/10) == 0:\n",
    "            residual = get_residual(A, x_k, b)\n",
    "            print(\"Iteration {}\\t with residual of {}\".format(i, residual))            \n",
    "            print(L_k)\n",
    "    return x_k"
   ]
  },
  {
   "cell_type": "code",
   "execution_count": 5,
   "metadata": {
    "collapsed": false
   },
   "outputs": [],
   "source": [
    "A = np.matrix(np.random.rand(1000,800))\n",
    "x = np.matrix(np.zeros((800,1)))\n",
    "b = np.matrix(np.random.rand(1000,1))\n",
    "lambda_reg = 0.0"
   ]
  },
  {
   "cell_type": "code",
   "execution_count": 122,
   "metadata": {
    "collapsed": false
   },
   "outputs": [
    {
     "name": "stdout",
     "output_type": "stream",
     "text": [
      "Iteration 10\t with residual of 84.7212461536\n",
      "Iteration 20\t with residual of 84.1745858257\n",
      "Iteration 30\t with residual of 83.6358990475\n",
      "Iteration 40\t with residual of 83.105040569\n",
      "Iteration 50\t with residual of 82.5818681172\n",
      "Iteration 60\t with residual of 82.0662423307\n",
      "Iteration 70\t with residual of 81.5580266958\n",
      "Iteration 80\t with residual of 81.0570874837\n",
      "Iteration 90\t with residual of 80.5632936896\n",
      "Iteration 100\t with residual of 80.0765169728\n",
      "CPU times: user 337 ms, sys: 0 ns, total: 337 ms\n",
      "Wall time: 338 ms\n"
     ]
    }
   ],
   "source": [
    "%%time\n",
    "x_ista = ista(A, x, 100, lambda_reg, b)"
   ]
  },
  {
   "cell_type": "code",
   "execution_count": 12,
   "metadata": {
    "collapsed": false
   },
   "outputs": [
    {
     "name": "stdout",
     "output_type": "stream",
     "text": [
      "Iteration 100\t with residual of 46.7829528994\n",
      "200282.760341\n",
      "Iteration 200\t with residual of 30.1986649843\n",
      "200282.760341\n",
      "Iteration 300\t with residual of 24.4107517585\n",
      "200282.760341\n",
      "Iteration 400\t with residual of 21.4442629477\n",
      "200282.760341\n",
      "Iteration 500\t with residual of 19.8115604736\n",
      "200282.760341\n",
      "Iteration 600\t with residual of 18.9080449703\n",
      "200282.760341\n",
      "Iteration 700\t with residual of 18.4013104754\n",
      "200282.760341\n",
      "Iteration 800\t with residual of 18.0964807351\n",
      "200282.760341\n",
      "Iteration 900\t with residual of 17.9159519641\n",
      "200282.760341\n",
      "Iteration 1000\t with residual of 17.8036651272\n",
      "200282.760341\n",
      "CPU times: user 1.03 s, sys: 1.5 ms, total: 1.03 s\n",
      "Wall time: 1.04 s\n"
     ]
    }
   ],
   "source": [
    "%%time\n",
    "x_ista = fista(A, x, 1000, lambda_reg, b)"
   ]
  },
  {
   "cell_type": "code",
   "execution_count": 13,
   "metadata": {
    "collapsed": false,
    "scrolled": true
   },
   "outputs": [
    {
     "name": "stdout",
     "output_type": "stream",
     "text": [
      "Iteration 100\t with residual of 52.6607120034\n",
      "288358.4\n",
      "Iteration 200\t with residual of 33.7294716679\n",
      "288358.4\n",
      "Iteration 300\t with residual of 26.7808927351\n",
      "288358.4\n",
      "Iteration 400\t with residual of 23.2453306701\n",
      "288358.4\n",
      "Iteration 500\t with residual of 21.1127203222\n",
      "288358.4\n",
      "Iteration 600\t with residual of 19.8197752078\n",
      "288358.4\n",
      "Iteration 700\t with residual of 19.0292618716\n",
      "288358.4\n",
      "Iteration 800\t with residual of 18.5453250878\n",
      "288358.4\n",
      "Iteration 900\t with residual of 18.233087564\n",
      "288358.4\n",
      "Iteration 1000\t with residual of 18.026946066\n",
      "288358.4\n"
     ]
    }
   ],
   "source": [
    "x_ista = fista_back(A, x, 1000, lambda_reg, b)"
   ]
  },
  {
   "cell_type": "code",
   "execution_count": 32,
   "metadata": {
    "collapsed": false,
    "scrolled": true
   },
   "outputs": [
    {
     "name": "stdout",
     "output_type": "stream",
     "text": [
      "Iteration 100\t with residual of 22062.6013606\n",
      "25517.0327502\n",
      "Iteration 200\t with residual of 17959.8733149\n",
      "25517.0327502\n",
      "Iteration 300\t with residual of 16540.3440358\n",
      "25517.0327502\n",
      "Iteration 400\t with residual of 15852.4087269\n",
      "25517.0327502\n",
      "Iteration 500\t with residual of 15413.6684774\n",
      "25517.0327502\n",
      "Iteration 600\t with residual of 15108.0281617\n",
      "25517.0327502\n",
      "Iteration 700\t with residual of 14876.9053998\n",
      "25517.0327502\n",
      "Iteration 800\t with residual of 14695.8552955\n",
      "25517.0327502\n",
      "Iteration 900\t with residual of 14562.2420018\n",
      "25517.0327502\n",
      "Iteration 1000\t with residual of 14460.3025136\n",
      "25517.0327502\n"
     ]
    }
   ],
   "source": [
    "lambda_reg = 1\n",
    "x_fista = fista(linop,x_sg,1000,lambda_reg, y_sg)"
   ]
  },
  {
   "cell_type": "code",
   "execution_count": 33,
   "metadata": {
    "collapsed": false
   },
   "outputs": [
    {
     "data": {
      "text/plain": [
       "17.548910817471427"
      ]
     },
     "execution_count": 33,
     "metadata": {},
     "output_type": "execute_result"
    }
   ],
   "source": [
    "op_pred = createOperationMultipleEval(grid, data_test)\n",
    "prediction = DataVector(X_test.shape[0])\n",
    "op.mult(DataVector(np.array(x_fista).flatten()), prediction)\n",
    "prediction = prediction.array()\n",
    "mse = (prediction - y_test)\n",
    "mse = np.multiply(mse, mse).sum()\n",
    "mse/(X_test.shape[0])"
   ]
  },
  {
   "cell_type": "code",
   "execution_count": 37,
   "metadata": {
    "collapsed": true
   },
   "outputs": [
    {
     "data": {
      "text/plain": [
       "[matrix([[  7.99785578e-08]]),\n",
       " matrix([[ 0.04682648]]),\n",
       " matrix([[ 0.06332438]]),\n",
       " matrix([[ 0.07458382]]),\n",
       " matrix([[ 0.10923726]]),\n",
       " matrix([[ 0.11423666]]),\n",
       " matrix([[ 0.11795676]]),\n",
       " matrix([[ 0.12390492]]),\n",
       " matrix([[ 0.13182008]]),\n",
       " matrix([[ 0.15925942]]),\n",
       " matrix([[ 0.1603743]]),\n",
       " matrix([[ 0.21038565]]),\n",
       " matrix([[ 0.2262606]]),\n",
       " matrix([[ 0.26801116]]),\n",
       " matrix([[ 0.31244074]]),\n",
       " matrix([[ 0.41916663]]),\n",
       " matrix([[ 0.43209456]]),\n",
       " matrix([[ 0.47624841]]),\n",
       " matrix([[ 0.50225141]]),\n",
       " matrix([[ 0.50412765]]),\n",
       " matrix([[ 0.5239116]]),\n",
       " matrix([[ 0.53213848]]),\n",
       " matrix([[ 0.56130251]]),\n",
       " matrix([[ 0.56421152]]),\n",
       " matrix([[ 0.58141469]]),\n",
       " matrix([[ 0.58213808]]),\n",
       " matrix([[ 0.63871351]]),\n",
       " matrix([[ 0.64367587]]),\n",
       " matrix([[ 0.70365588]]),\n",
       " matrix([[ 0.79376092]]),\n",
       " matrix([[ 0.7943563]]),\n",
       " matrix([[ 0.868331]]),\n",
       " matrix([[ 0.89543174]]),\n",
       " matrix([[ 0.91528056]]),\n",
       " matrix([[ 0.98183579]]),\n",
       " matrix([[ 1.02066131]]),\n",
       " matrix([[ 1.05987658]]),\n",
       " matrix([[ 1.08925723]]),\n",
       " matrix([[ 1.09234666]]),\n",
       " matrix([[ 1.13772573]]),\n",
       " matrix([[ 1.20029627]]),\n",
       " matrix([[ 1.38208347]]),\n",
       " matrix([[ 1.38397797]]),\n",
       " matrix([[ 1.45654486]]),\n",
       " matrix([[ 1.45925568]]),\n",
       " matrix([[ 1.46211551]]),\n",
       " matrix([[ 1.52317309]]),\n",
       " matrix([[ 1.56448973]]),\n",
       " matrix([[ 1.75833257]]),\n",
       " matrix([[ 1.77877836]]),\n",
       " matrix([[ 1.86606549]]),\n",
       " matrix([[ 1.89327543]]),\n",
       " matrix([[ 1.9122614]]),\n",
       " matrix([[ 1.9840159]]),\n",
       " matrix([[ 1.9840994]]),\n",
       " matrix([[ 2.03467168]]),\n",
       " matrix([[ 2.03682519]]),\n",
       " matrix([[ 2.06702147]]),\n",
       " matrix([[ 2.0837318]]),\n",
       " matrix([[ 2.17990982]]),\n",
       " matrix([[ 2.29674452]]),\n",
       " matrix([[ 2.30278284]]),\n",
       " matrix([[ 2.30850048]]),\n",
       " matrix([[ 2.32677396]]),\n",
       " matrix([[ 2.36091426]]),\n",
       " matrix([[ 2.44560794]]),\n",
       " matrix([[ 2.49131016]]),\n",
       " matrix([[ 2.67693171]]),\n",
       " matrix([[ 2.70345644]]),\n",
       " matrix([[ 2.72160346]]),\n",
       " matrix([[ 2.96666112]]),\n",
       " matrix([[ 3.0491729]]),\n",
       " matrix([[ 3.13472367]]),\n",
       " matrix([[ 3.15905379]]),\n",
       " matrix([[ 3.21091266]]),\n",
       " matrix([[ 3.21253296]]),\n",
       " matrix([[ 3.2387469]]),\n",
       " matrix([[ 3.26643436]]),\n",
       " matrix([[ 3.2701861]]),\n",
       " matrix([[ 3.28202006]]),\n",
       " matrix([[ 3.28574856]]),\n",
       " matrix([[ 3.34166959]]),\n",
       " matrix([[ 3.41057618]]),\n",
       " matrix([[ 3.41288642]]),\n",
       " matrix([[ 3.45537683]]),\n",
       " matrix([[ 3.49055866]]),\n",
       " matrix([[ 3.52854004]]),\n",
       " matrix([[ 3.55107025]]),\n",
       " matrix([[ 3.69066301]]),\n",
       " matrix([[ 3.6916549]]),\n",
       " matrix([[ 3.7104092]]),\n",
       " matrix([[ 3.75651521]]),\n",
       " matrix([[ 3.85307255]]),\n",
       " matrix([[ 3.85403733]]),\n",
       " matrix([[ 3.90330341]]),\n",
       " matrix([[ 3.94415831]]),\n",
       " matrix([[ 4.01329921]]),\n",
       " matrix([[ 4.07391359]]),\n",
       " matrix([[ 4.18101905]]),\n",
       " matrix([[ 4.21031992]]),\n",
       " matrix([[ 4.283126]]),\n",
       " matrix([[ 4.32400908]]),\n",
       " matrix([[ 4.33173962]]),\n",
       " matrix([[ 4.36867761]]),\n",
       " matrix([[ 4.37607052]]),\n",
       " matrix([[ 4.48138273]]),\n",
       " matrix([[ 4.49462205]]),\n",
       " matrix([[ 4.53065331]]),\n",
       " matrix([[ 5.14274887]]),\n",
       " matrix([[ 5.17890662]]),\n",
       " matrix([[ 5.33298581]]),\n",
       " matrix([[ 5.44120677]]),\n",
       " matrix([[ 5.58049679]]),\n",
       " matrix([[ 5.61525504]]),\n",
       " matrix([[ 5.63449463]]),\n",
       " matrix([[ 5.64580317]]),\n",
       " matrix([[ 5.80173212]]),\n",
       " matrix([[ 5.93171696]]),\n",
       " matrix([[ 5.95922755]]),\n",
       " matrix([[ 6.04425416]]),\n",
       " matrix([[ 6.07118502]]),\n",
       " matrix([[ 6.13418797]]),\n",
       " matrix([[ 6.78688545]]),\n",
       " matrix([[ 6.83852945]]),\n",
       " matrix([[ 7.07055634]]),\n",
       " matrix([[ 7.10919682]]),\n",
       " matrix([[ 7.25389341]]),\n",
       " matrix([[ 7.31682991]]),\n",
       " matrix([[ 7.34385798]]),\n",
       " matrix([[ 7.4736985]]),\n",
       " matrix([[ 7.91750043]]),\n",
       " matrix([[ 8.00344056]]),\n",
       " matrix([[ 8.21612547]]),\n",
       " matrix([[ 8.3691624]]),\n",
       " matrix([[ 8.53684791]]),\n",
       " matrix([[ 8.83495055]]),\n",
       " matrix([[ 8.89260247]]),\n",
       " matrix([[ 8.91705842]]),\n",
       " matrix([[ 9.03814847]]),\n",
       " matrix([[ 9.04420353]]),\n",
       " matrix([[ 9.72866307]]),\n",
       " matrix([[ 9.75938176]]),\n",
       " matrix([[ 10.28661704]]),\n",
       " matrix([[ 10.97270711]]),\n",
       " matrix([[ 11.7539544]]),\n",
       " matrix([[ 11.88589258]]),\n",
       " matrix([[ 11.90079469]]),\n",
       " matrix([[ 12.87375442]]),\n",
       " matrix([[ 13.22042806]]),\n",
       " matrix([[ 14.20581784]]),\n",
       " matrix([[ 14.59093183]]),\n",
       " matrix([[ 14.89326776]]),\n",
       " matrix([[ 15.38482729]]),\n",
       " matrix([[ 15.8803984]]),\n",
       " matrix([[ 16.23442411]]),\n",
       " matrix([[ 16.49384984]]),\n",
       " matrix([[ 16.82183522]]),\n",
       " matrix([[ 17.77128147]]),\n",
       " matrix([[ 18.55462045]]),\n",
       " matrix([[ 18.58115415]]),\n",
       " matrix([[ 33.05631707]])]"
      ]
     },
     "execution_count": 37,
     "metadata": {},
     "output_type": "execute_result"
    }
   ],
   "source": [
    "sorted(np.abs(x_fista))"
   ]
  },
  {
   "cell_type": "raw",
   "metadata": {
    "collapsed": false
   },
   "source": []
  },
  {
   "cell_type": "code",
   "execution_count": 24,
   "metadata": {
    "collapsed": false
   },
   "outputs": [
    {
     "name": "stdout",
     "output_type": "stream",
     "text": [
      "Iteration 20\t with residual of 148.514793714\n",
      "81019.7772259\n",
      "Iteration 40\t with residual of 45.0416268863\n",
      "81019.7772259\n",
      "Iteration 60\t with residual of 27.8571084931\n",
      "81019.7772259\n",
      "Iteration 80\t with residual of 20.1129101861\n",
      "81019.7772259\n",
      "Iteration 100\t with residual of 16.5759641748\n",
      "81019.7772259\n",
      "Iteration 120\t with residual of 13.9678870877\n",
      "81019.7772259\n",
      "Iteration 140\t with residual of 12.3843274313\n",
      "81019.7772259\n",
      "Iteration 160\t with residual of 11.3812782609\n",
      "81019.7772259\n",
      "Iteration 180\t with residual of 10.7113777966\n",
      "81019.7772259\n",
      "Iteration 200\t with residual of 10.2926094625\n",
      "81019.7772259\n",
      "Iteration 20\t with residual of 347.195509877\n",
      "Iteration 40\t with residual of 228.48019318\n",
      "Iteration 60\t with residual of 171.441538756\n",
      "Iteration 80\t with residual of 134.454119229\n",
      "Iteration 100\t with residual of 109.268272856\n",
      "Iteration 120\t with residual of 91.5607750824\n",
      "Iteration 140\t with residual of 78.769202716\n",
      "Iteration 160\t with residual of 69.2942331938\n",
      "Iteration 180\t with residual of 62.10527115\n",
      "Iteration 200\t with residual of 56.5227544193\n"
     ]
    }
   ],
   "source": [
    "lambda_reg = 0\n",
    "residuals_fista = []\n",
    "x_fista = fista(linop,x_sg,200,lambda_reg, y_sg, residuals_fista)\n",
    "residuals_ista = []\n",
    "x_ista = ista(linop,x_sg, 200, lambda_reg, y_sg, residuals_ista)\n",
    "mse_fista = np.array(residuals_fista)/(X_test.shape[0])\n",
    "mse_ista = np.array(residuals_ista)/(X_test.shape[0])"
   ]
  },
  {
   "cell_type": "code",
   "execution_count": 25,
   "metadata": {
    "collapsed": false
   },
   "outputs": [],
   "source": [
    "x = range(0, 200)"
   ]
  },
  {
   "cell_type": "code",
   "execution_count": 153,
   "metadata": {
    "collapsed": false,
    "scrolled": false
   },
   "outputs": [
    {
     "data": {
      "image/png": "[encoded data removed]",
      "text/plain": [
       "<matplotlib.figure.Figure at 0x7f064f526e50>"
      ]
     },
     "metadata": {},
     "output_type": "display_data"
    }
   ],
   "source": [
    "best_ista = mse_ista[-1]\n",
    "reached_by_fista = np.where(mse_fista < best_ista)[0][0]\n",
    "worst_mse = np.maximum(mse_ista[0], mse_fista[0])\n",
    "best_mse = np.minimum(mse_ista[-1], mse_fista[-1])\n",
    "\n",
    "plt.rc('text', usetex=True)\n",
    "fig = plt.figure(1)\n",
    "ax = plt.subplot(111)\n",
    "ax.loglog(x, mse_fista, c='red')\n",
    "ax.loglog(x, mse_ista)\n",
    "ax.hlines(best_ista, reached_by_fista, 200, linestyles='dotted')\n",
    "ax.vlines(reached_by_fista, best_ista, ax.get_ylim()[0], linestyles='dotted')\n",
    "ax.set_title(\"Mean squared error for FISTA \\& ISTA\")\n",
    "ax.set_xlabel(\"Number of iterations\")\n",
    "ax.set_ylabel(\"Mean squared error\")\n",
    "ax.legend([\"FISTA\", \"ISTA\"])\n",
    "ax.set_ylim(0, worst_mse)\n",
    "ax.set_xlim(1, 200)\n",
    "x_ticks = sorted([1, 5, 10, reached_by_fista, 50, 100, 150, 200])\n",
    "ax.set_xticks(x_ticks)\n",
    "ax.set_xticklabels(x_ticks)\n",
    "\n",
    "y_ticks = [best_mse, best_ista, np.max(mse_ista[1], mse_fista[1])]\n",
    "ax.set_yticks(y_ticks)\n",
    "ax.set_yticklabels(y_ticks)\n",
    "\n",
    "sns.despine(fig, ax)\n",
    "fig.savefig('fista.pdf', bbox_inches='tight')"
   ]
  },
  {
   "cell_type": "code",
   "execution_count": null,
   "metadata": {
    "collapsed": false
   },
   "outputs": [],
   "source": []
  },
  {
   "cell_type": "code",
   "execution_count": null,
   "metadata": {
    "collapsed": false
   },
   "outputs": [],
   "source": []
  },
  {
   "cell_type": "code",
   "execution_count": null,
   "metadata": {
    "collapsed": false
   },
   "outputs": [],
   "source": []
  },
  {
   "cell_type": "code",
   "execution_count": null,
   "metadata": {
    "collapsed": false
   },
   "outputs": [],
   "source": []
  },
  {
   "cell_type": "code",
   "execution_count": null,
   "metadata": {
    "collapsed": true
   },
   "outputs": [],
   "source": []
  }
 ],
 "metadata": {
  "kernelspec": {
   "display_name": "Python 2",
   "language": "python",
   "name": "python2"
  },
  "language_info": {
   "codemirror_mode": {
    "name": "ipython",
    "version": 2
   },
   "file_extension": ".py",
   "mimetype": "text/x-python",
   "name": "python",
   "nbconvert_exporter": "python",
   "pygments_lexer": "ipython2",
   "version": "2.7.11"
  }
 },
 "nbformat": 4,
 "nbformat_minor": 0
}
