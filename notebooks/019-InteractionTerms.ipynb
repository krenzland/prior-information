{
 "cells": [
  {
   "cell_type": "code",
   "execution_count": 1,
   "metadata": {
    "collapsed": false
   },
   "outputs": [],
   "source": [
    "%matplotlib inline\n",
    "\n",
    "import sys, os\n",
    "sys.path.append(os.path.abspath(os.path.join('..', 'src/')))\n",
    "from sgpi.plot import *\n",
    "from sgpi.util import group_list\n",
    "from sgpi.mnist import *\n",
    "\n",
    "import numpy as np; np.random.seed(42)\n",
    "\n",
    "import pandas as pd\n",
    "import pysgpp as sg; sg.omp_set_num_threads(4)\n",
    "\n",
    "from __future__ import division"
   ]
  },
  {
   "cell_type": "code",
   "execution_count": 2,
   "metadata": {
    "collapsed": false
   },
   "outputs": [],
   "source": [
    "def get_grid_size(level, T=0.0, interactions=None, dim=64):\n",
    "    grid = sg.Grid.createLinearGrid(dim)\n",
    "    gen = grid.getGenerator()\n",
    "    storage = grid.getStorage()\n",
    "    if interactions is None:\n",
    "        gen.regular(level, T)\n",
    "    else:\n",
    "        gen.regularInter(level, interactions, T)\n",
    "    return grid, grid.getSize()"
   ]
  },
  {
   "cell_type": "code",
   "execution_count": null,
   "metadata": {
    "collapsed": false,
    "scrolled": true
   },
   "outputs": [],
   "source": [
    "flatten = lambda z: [x for y in z for x in y]\n",
    "interactions = [None,\n",
    "                mnist_interactions(l2_distance, np.sqrt(2), 5),\n",
    "                mnist_interactions(l1_distance, 2, 5)]\n",
    "sizes = []\n",
    "for level in range(1,5):\n",
    "    cur_sizes = []\n",
    "    for i, interaction in enumerate(interactions):\n",
    "        grid, size = get_grid_size(level, interactions=interaction)\n",
    "        groups = len(set(group_list(grid)))\n",
    "        del grid\n",
    "        cur_sizes.append([size, groups])\n",
    "    sizes.append([level] + flatten(cur_sizes))\n",
    "df = pd.DataFrame(sizes)\n",
    "df.columns = ['level'] + flatten([\"size-{0} groups-{0}\".format(i).split(' ') for i in ['all', 'l1', 'l2']])"
   ]
  },
  {
   "cell_type": "code",
   "execution_count": 16,
   "metadata": {
    "collapsed": false
   },
   "outputs": [
    {
     "data": {
      "text/html": [
       "<div>\n",
       "<table border=\"1\" class=\"dataframe\">\n",
       "  <thead>\n",
       "    <tr style=\"text-align: right;\">\n",
       "      <th></th>\n",
       "      <th>level</th>\n",
       "      <th>size-all</th>\n",
       "      <th>groups-all</th>\n",
       "      <th>size-l1</th>\n",
       "      <th>groups-l1</th>\n",
       "      <th>size-l2</th>\n",
       "      <th>groups-l2</th>\n",
       "    </tr>\n",
       "  </thead>\n",
       "  <tbody>\n",
       "    <tr>\n",
       "      <th>0</th>\n",
       "      <td>1</td>\n",
       "      <td>1</td>\n",
       "      <td>1</td>\n",
       "      <td>1</td>\n",
       "      <td>1</td>\n",
       "      <td>1</td>\n",
       "      <td>1</td>\n",
       "    </tr>\n",
       "    <tr>\n",
       "      <th>1</th>\n",
       "      <td>2</td>\n",
       "      <td>129</td>\n",
       "      <td>65</td>\n",
       "      <td>129</td>\n",
       "      <td>65</td>\n",
       "      <td>129</td>\n",
       "      <td>65</td>\n",
       "    </tr>\n",
       "    <tr>\n",
       "      <th>2</th>\n",
       "      <td>3</td>\n",
       "      <td>8449</td>\n",
       "      <td>2081</td>\n",
       "      <td>2569</td>\n",
       "      <td>611</td>\n",
       "      <td>3705</td>\n",
       "      <td>895</td>\n",
       "    </tr>\n",
       "    <tr>\n",
       "      <th>3</th>\n",
       "      <td>4</td>\n",
       "      <td>374529</td>\n",
       "      <td>43745</td>\n",
       "      <td>27209</td>\n",
       "      <td>2535</td>\n",
       "      <td>55641</td>\n",
       "      <td>5663</td>\n",
       "    </tr>\n",
       "  </tbody>\n",
       "</table>\n",
       "</div>"
      ],
      "text/plain": [
       "   level  size-all  groups-all  size-l1  groups-l1  size-l2  groups-l2\n",
       "0      1         1           1        1          1        1          1\n",
       "1      2       129          65      129         65      129         65\n",
       "2      3      8449        2081     2569        611     3705        895\n",
       "3      4    374529       43745    27209       2535    55641       5663"
      ]
     },
     "execution_count": 16,
     "metadata": {},
     "output_type": "execute_result"
    }
   ],
   "source": [
    "df"
   ]
  },
  {
   "cell_type": "markdown",
   "metadata": {},
   "source": [
    "# Estimate for high-levels\n",
    "We cannot create a 64-dimensional grid for a very high level.\n",
    "The following procedure gives the number of grid points for each level:\n",
    "1. Create a small grid with one interaction of desired order.\n",
    "2. Count occurence of each order.\n",
    "3. Calculate from number of interaction terms."
   ]
  },
  {
   "cell_type": "code",
   "execution_count": 3,
   "metadata": {
    "collapsed": false
   },
   "outputs": [
    {
     "data": {
      "text/plain": [
       "11"
      ]
     },
     "execution_count": 3,
     "metadata": {},
     "output_type": "execute_result"
    }
   ],
   "source": [
    "interactions = [[0], [0,1], [0,1,2]]\n",
    "grid, size = get_grid_size(3, interactions=interactions, dim=3)\n",
    "size"
   ]
  },
  {
   "cell_type": "code",
   "execution_count": 3,
   "metadata": {
    "collapsed": false
   },
   "outputs": [],
   "source": [
    "from collections import Counter\n",
    "from scipy.special import binom"
   ]
  },
  {
   "cell_type": "code",
   "execution_count": 4,
   "metadata": {
    "collapsed": false
   },
   "outputs": [],
   "source": [
    "def get_num_per_order(level):\n",
    "    interactions = [None] * (level - 1)\n",
    "    for i in range(len(interactions)):\n",
    "        interactions[i] = range(i+1)\n",
    "    grid, size = get_grid_size(level, interactions=interactions, dim=level-1)  \n",
    "    groups = group_list(grid)\n",
    "    groups = [g.count('x') for g in groups] # dirty hack\n",
    "    return Counter(groups)\n",
    "\n",
    "def get_num_points(count_order, count_inter=None):\n",
    "    grid_points = 0\n",
    "    for i in count_order.keys():\n",
    "        if count_inter is None:\n",
    "            count = binom(64,i)\n",
    "        else:\n",
    "            count = count_inter[i]\n",
    "        grid_points = grid_points + count * count_order[i] \n",
    "    return grid_points"
   ]
  },
  {
   "cell_type": "code",
   "execution_count": null,
   "metadata": {
    "collapsed": false
   },
   "outputs": [],
   "source": []
  },
  {
   "cell_type": "code",
   "execution_count": 5,
   "metadata": {
    "collapsed": false
   },
   "outputs": [
    {
     "name": "stdout",
     "output_type": "stream",
     "text": [
      "Done level 2\n",
      "Done level 3\n",
      "Done level 4\n",
      "Done level 5\n",
      "Done level 6\n",
      "Done level 7\n",
      "Done level 8\n",
      "Done level 9\n",
      "Done level 10\n",
      "Done level 11\n",
      "Done level 12\n"
     ]
    }
   ],
   "source": [
    "max_level = 12\n",
    "inter_l2 = mnist_interactions(l2_distance, 2**0.5, max_level) + [[]] # add bias\n",
    "inter_l2 = Counter([len(i) for i in inter_l2])\n",
    "interactions = [None, inter_l2]\n",
    "sizes = [None]*(max_level-1)\n",
    "for level in range(2, max_level+1):\n",
    "    num = get_num_per_order(level)\n",
    "    cur_sizes = []\n",
    "    for interaction in interactions:\n",
    "        cur_sizes.append((np.log10(get_num_points(num, interaction))))\n",
    "    sizes[level-2] = [level] + cur_sizes\n",
    "    print \"Done level {}\".format(level)\n",
    "sizes = pd.DataFrame(sizes)\n",
    "sizes.columns = ['level', 'standard sg', 'l2']"
   ]
  },
  {
   "cell_type": "code",
   "execution_count": 25,
   "metadata": {
    "collapsed": false
   },
   "outputs": [
    {
     "data": {
      "text/html": [
       "<div>\n",
       "<table border=\"1\" class=\"dataframe\">\n",
       "  <thead>\n",
       "    <tr style=\"text-align: right;\">\n",
       "      <th></th>\n",
       "      <th>level</th>\n",
       "      <th>standard sg</th>\n",
       "      <th>l2</th>\n",
       "    </tr>\n",
       "  </thead>\n",
       "  <tbody>\n",
       "    <tr>\n",
       "      <th>0</th>\n",
       "      <td>2</td>\n",
       "      <td>2.110590</td>\n",
       "      <td>2.110590</td>\n",
       "    </tr>\n",
       "    <tr>\n",
       "      <th>1</th>\n",
       "      <td>3</td>\n",
       "      <td>3.926805</td>\n",
       "      <td>3.088136</td>\n",
       "    </tr>\n",
       "    <tr>\n",
       "      <th>2</th>\n",
       "      <td>4</td>\n",
       "      <td>5.573485</td>\n",
       "      <td>4.080663</td>\n",
       "    </tr>\n",
       "    <tr>\n",
       "      <th>3</th>\n",
       "      <td>5</td>\n",
       "      <td>7.101686</td>\n",
       "      <td>4.969607</td>\n",
       "    </tr>\n",
       "    <tr>\n",
       "      <th>4</th>\n",
       "      <td>6</td>\n",
       "      <td>8.539340</td>\n",
       "      <td>5.770859</td>\n",
       "    </tr>\n",
       "    <tr>\n",
       "      <th>5</th>\n",
       "      <td>7</td>\n",
       "      <td>9.904086</td>\n",
       "      <td>6.507393</td>\n",
       "    </tr>\n",
       "    <tr>\n",
       "      <th>6</th>\n",
       "      <td>8</td>\n",
       "      <td>11.208069</td>\n",
       "      <td>7.194698</td>\n",
       "    </tr>\n",
       "    <tr>\n",
       "      <th>7</th>\n",
       "      <td>9</td>\n",
       "      <td>12.460158</td>\n",
       "      <td>7.843089</td>\n",
       "    </tr>\n",
       "    <tr>\n",
       "      <th>8</th>\n",
       "      <td>10</td>\n",
       "      <td>13.667107</td>\n",
       "      <td>8.459800</td>\n",
       "    </tr>\n",
       "    <tr>\n",
       "      <th>9</th>\n",
       "      <td>11</td>\n",
       "      <td>14.834230</td>\n",
       "      <td>9.050153</td>\n",
       "    </tr>\n",
       "    <tr>\n",
       "      <th>10</th>\n",
       "      <td>12</td>\n",
       "      <td>15.965812</td>\n",
       "      <td>9.618212</td>\n",
       "    </tr>\n",
       "  </tbody>\n",
       "</table>\n",
       "</div>"
      ],
      "text/plain": [
       "    level  standard sg        l2\n",
       "0       2     2.110590  2.110590\n",
       "1       3     3.926805  3.088136\n",
       "2       4     5.573485  4.080663\n",
       "3       5     7.101686  4.969607\n",
       "4       6     8.539340  5.770859\n",
       "5       7     9.904086  6.507393\n",
       "6       8    11.208069  7.194698\n",
       "7       9    12.460158  7.843089\n",
       "8      10    13.667107  8.459800\n",
       "9      11    14.834230  9.050153\n",
       "10     12    15.965812  9.618212"
      ]
     },
     "execution_count": 25,
     "metadata": {},
     "output_type": "execute_result"
    }
   ],
   "source": [
    "sizes"
   ]
  },
  {
   "cell_type": "code",
   "execution_count": 85,
   "metadata": {
    "collapsed": false
   },
   "outputs": [],
   "source": [
    "plt.rcParams['font.family'] = 'serif'\n",
    "plt.rcParams['font.serif'] = ['']\n",
    "plt.rcParams['mathtext.fontset'] = 'custom'\n",
    "plt.rcParams['axes.labelsize'] = 11"
   ]
  },
  {
   "cell_type": "code",
   "execution_count": 6,
   "metadata": {
    "collapsed": false
   },
   "outputs": [],
   "source": [
    "x = range(1, max_level+1)\n",
    "y_sg = np.append([1], 10**sizes['standard sg'].values)\n",
    "y_l2 = np.append([1], 10**sizes['l2'].values)"
   ]
  },
  {
   "cell_type": "code",
   "execution_count": 9,
   "metadata": {
    "collapsed": false
   },
   "outputs": [
    {
     "data": {
      "image/png": "[encoded data removed]",
      "text/plain": [
       "<matplotlib.figure.Figure at 0x7f0a39b94950>"
      ]
     },
     "metadata": {},
     "output_type": "display_data"
    }
   ],
   "source": [
    "fig, ax = plt.subplots(figsize=figsize(0.8))\n",
    "kwargs = {'linewidth': 2}\n",
    "ax.plot(x,y_sg, color='gray', label='standard grid', **kwargs)\n",
    "ax.plot(x,y_l2, color='red', label=r'$d{(\\boldsymbol{a, b})}_{\\Vert \\cdot \\Vert_2} \\leq \\sqrt{2}$', **kwargs)\n",
    "ax.set_xlabel(r\"Level ($n$)\")\n",
    "ax.set_ylabel(r\"$\\vert V^\\infty_n \\vert$\")\n",
    "ax.set_yscale('log')\n",
    "ax.hlines(3823, 0, 12, colors='black', linestyle='dotted', zorder=-1, **kwargs)\n",
    "ax.annotate(r\"No.~of training data points\", (6, 3823*2))\n",
    "ax.legend(loc='upper left')\n",
    "sns.despine(fig)\n",
    "fig.subplots_adjust(left=.15, bottom=.16, right=.99, top=.97)\n",
    "fig.savefig(\"../writing/thesis/figures/interaction_sizes.pdf\")\n"
   ]
  },
  {
   "cell_type": "code",
   "execution_count": 18,
   "metadata": {
    "collapsed": false
   },
   "outputs": [
    {
     "data": {
      "text/plain": [
       "(5.7874021032240215, 3.5768112063550732)"
      ]
     },
     "execution_count": 18,
     "metadata": {},
     "output_type": "execute_result"
    }
   ],
   "source": [
    "fig_width, fig_height"
   ]
  },
  {
   "cell_type": "code",
   "execution_count": 40,
   "metadata": {
    "collapsed": false
   },
   "outputs": [
    {
     "data": {
      "text/plain": [
       "['\\\\usepackage[sc, osf]{mathpazo}',\n",
       " '\\\\usepackage[euler-digits,small]{eulervm}',\n",
       " '\\\\usepackage{amsmath}']"
      ]
     },
     "execution_count": 40,
     "metadata": {},
     "output_type": "execute_result"
    }
   ],
   "source": [
    "plt.rcParams['text.latex.preamble']"
   ]
  },
  {
   "cell_type": "code",
   "execution_count": 190,
   "metadata": {
    "collapsed": false
   },
   "outputs": [
    {
     "data": {
      "text/plain": [
       "Counter({0: 1, 1: 6, 2: 4})"
      ]
     },
     "execution_count": 190,
     "metadata": {},
     "output_type": "execute_result"
    }
   ],
   "source": [
    "num3"
   ]
  },
  {
   "cell_type": "code",
   "execution_count": 191,
   "metadata": {
    "collapsed": false
   },
   "outputs": [
    {
     "data": {
      "text/plain": [
       "Counter({0: 1, 1: 14, 2: 20, 3: 8})"
      ]
     },
     "execution_count": 191,
     "metadata": {},
     "output_type": "execute_result"
    }
   ],
   "source": [
    "num4"
   ]
  },
  {
   "cell_type": "code",
   "execution_count": 19,
   "metadata": {
    "collapsed": false
   },
   "outputs": [
    {
     "data": {
      "text/plain": [
       "1737"
      ]
     },
     "execution_count": 19,
     "metadata": {},
     "output_type": "execute_result"
    }
   ],
   "source": [
    "inter_l2 = mnist_interactions(l2_distance, 2**0.5, 4) + [[]] # add bias\n",
    "grid, size = get_grid_size(4,0.1, inter_l2)\n",
    "size"
   ]
  },
  {
   "cell_type": "code",
   "execution_count": 20,
   "metadata": {
    "collapsed": false
   },
   "outputs": [
    {
     "data": {
      "text/plain": [
       "275"
      ]
     },
     "execution_count": 20,
     "metadata": {},
     "output_type": "execute_result"
    }
   ],
   "source": [
    "len(set(group_list(grid)))"
   ]
  },
  {
   "cell_type": "code",
   "execution_count": null,
   "metadata": {
    "collapsed": true
   },
   "outputs": [],
   "source": []
  }
 ],
 "metadata": {
  "kernelspec": {
   "display_name": "Python 2",
   "language": "python",
   "name": "python2"
  },
  "language_info": {
   "codemirror_mode": {
    "name": "ipython",
    "version": 2
   },
   "file_extension": ".py",
   "mimetype": "text/x-python",
   "name": "python",
   "nbconvert_exporter": "python",
   "pygments_lexer": "ipython2",
   "version": "2.7.11"
  }
 },
 "nbformat": 4,
 "nbformat_minor": 0
}
